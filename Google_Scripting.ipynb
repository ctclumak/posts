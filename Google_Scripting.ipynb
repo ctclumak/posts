{
  "nbformat": 4,
  "nbformat_minor": 0,
  "metadata": {
    "colab": {
      "name": "Google Scripting.ipynb",
      "provenance": [],
      "authorship_tag": "ABX9TyNq4LDLoKPROxu/Ol5vt5xa",
      "include_colab_link": true
    },
    "kernelspec": {
      "name": "python3",
      "display_name": "Python 3"
    }
  },
  "cells": [
    {
      "cell_type": "markdown",
      "metadata": {
        "id": "view-in-github",
        "colab_type": "text"
      },
      "source": [
        "<a href=\"https://colab.research.google.com/github/ctclumak/posts/blob/master/Google_Scripting.ipynb\" target=\"_parent\"><img src=\"https://colab.research.google.com/assets/colab-badge.svg\" alt=\"Open In Colab\"/></a>"
      ]
    },
    {
      "cell_type": "code",
      "metadata": {
        "id": "4k7hMuyHqYl-",
        "colab_type": "code",
        "colab": {}
      },
      "source": [
        ""
      ],
      "execution_count": 0,
      "outputs": []
    },
    {
      "cell_type": "code",
      "metadata": {
        "id": "F42iNEREI8iL",
        "colab_type": "code",
        "outputId": "1b144fd9-07b3-4afb-e9ca-6190460d7f47",
        "colab": {
          "base_uri": "https://localhost:8080/",
          "height": 190
        }
      },
      "source": [
        "pip install fake-useragent"
      ],
      "execution_count": 0,
      "outputs": [
        {
          "output_type": "stream",
          "text": [
            "Collecting fake-useragent\n",
            "  Downloading https://files.pythonhosted.org/packages/d1/79/af647635d6968e2deb57a208d309f6069d31cb138066d7e821e575112a80/fake-useragent-0.1.11.tar.gz\n",
            "Building wheels for collected packages: fake-useragent\n",
            "  Building wheel for fake-useragent (setup.py) ... \u001b[?25l\u001b[?25hdone\n",
            "  Created wheel for fake-useragent: filename=fake_useragent-0.1.11-cp36-none-any.whl size=13484 sha256=677e70af0a0bff4736b390e9f611be81ef866e2dd63e5cc046c7bbfe5e3110ee\n",
            "  Stored in directory: /root/.cache/pip/wheels/5e/63/09/d1dc15179f175357d3f5c00cbffbac37f9e8690d80545143ff\n",
            "Successfully built fake-useragent\n",
            "Installing collected packages: fake-useragent\n",
            "Successfully installed fake-useragent-0.1.11\n"
          ],
          "name": "stdout"
        }
      ]
    },
    {
      "cell_type": "markdown",
      "metadata": {
        "id": "GINhyytqqbek",
        "colab_type": "text"
      },
      "source": [
        "**Import libraries**"
      ]
    },
    {
      "cell_type": "code",
      "metadata": {
        "id": "Wis5Nq99qgkD",
        "colab_type": "code",
        "colab": {}
      },
      "source": [
        "import urllib\n",
        "import requests\n",
        "import pandas as pd\n",
        "from bs4 import BeautifulSoup\n",
        "from fake_useragent import UserAgent\n",
        "import re\n",
        "import urllib.parse\n",
        "from urllib.parse import urlparse\n",
        "import randomAgent"
      ],
      "execution_count": 0,
      "outputs": []
    },
    {
      "cell_type": "code",
      "metadata": {
        "id": "-ysx88PZq0oF",
        "colab_type": "code",
        "colab": {}
      },
      "source": [
        ""
      ],
      "execution_count": 0,
      "outputs": []
    },
    {
      "cell_type": "markdown",
      "metadata": {
        "id": "Z11y4y-qq1Et",
        "colab_type": "text"
      },
      "source": [
        "**Define the Query, Result number and Exclude URL**"
      ]
    },
    {
      "cell_type": "code",
      "metadata": {
        "id": "7wDUYOvgrAW6",
        "colab_type": "code",
        "colab": {}
      },
      "source": [
        "query = \"Jeep\"  ## The nested quotation mark is to ensure \"phrase match\" \n",
        "number_result = 20\n",
        "exclude_url = ['youtube', \"jeep\", \"fca\"] # You may add more exclusions\n",
        "\n",
        "query = query.replace(' ', '+')\n",
        "for exclude in exclude_url:\n",
        "    query = query + \" -inurl:\" + exclude\n",
        "\n",
        "query = urllib.parse.quote_plus(query) # Format into URL encoding\n"
      ],
      "execution_count": 0,
      "outputs": []
    },
    {
      "cell_type": "code",
      "metadata": {
        "id": "0p1JjiFSIZr-",
        "colab_type": "code",
        "colab": {}
      },
      "source": [
        "\n",
        "##Fetch the url==================\n",
        "ua = UserAgent()\n",
        "\n",
        "google_url = \"https://www.google.com/search?q={query}\" + \"&num=\" + str(number_result)\n",
        "response = requests.get(google_url, {\"User-Agent\": ua.random}) #ua.random is used to vary all the user agents scraping the websites\n",
        "\n",
        "if (response.status_code ==200):\n",
        "  soup = BeautifulSoup(response.text, \"html.parser\") ##After fetching the response if it returns a status code of 200 start scraping using Beautiful Soup.\n",
        "\n",
        "\n",
        "##=================\n",
        "result_div = soup.find_all('div', attrs = {'class': 'ZINbbc'})  ## Check the google SERP to find out the class for your result, you might need to change it here\n",
        "\n",
        "links = []\n",
        "titles = []\n",
        "descriptions = []   \n",
        "for r in result_div:\n",
        "    try:\n",
        "        link = r.find('a', href = True)\n",
        "        title = r.find('div', attrs={'class':'vvjwJb'}).get_text()  ## Check the google SERP to find out the class for your result, you might need to change it here\n",
        "        description = r.find('div', attrs={'class':'s3v9rd'}).get_text()  ## you might need to change the div and class here, inspect the page you script \n",
        "        # Check to make sure everything is present before appending\n",
        "        \n",
        "        if link != '' and title != '' and description != '':\n",
        "            links.append(link['href'])\n",
        "            titles.append(title)\n",
        "            descriptions.append(description)\n",
        "    except:\n",
        "        continue"
      ],
      "execution_count": 0,
      "outputs": []
    },
    {
      "cell_type": "code",
      "metadata": {
        "id": "nJEAGAOQJGsv",
        "colab_type": "code",
        "colab": {}
      },
      "source": [
        "## Remove google news search result\n",
        "import re   \n",
        "\n",
        "to_remove = []\n",
        "clean_links = []\n",
        "for i, l in enumerate(links):\n",
        "    clean = re.search('\\/url\\?q\\=(.*)\\&sa',l)\n",
        "\n",
        "    # Anything that doesn't fit the above pattern will be removed\n",
        "    if clean is None:\n",
        "        to_remove.append(i)\n",
        "        continue\n",
        "    clean_links.append(clean.group(1))\n",
        "\n",
        "# Remove the corresponding titles & descriptions\n",
        "for x in to_remove:\n",
        "    del titles[x]\n",
        "    del descriptions[x]"
      ],
      "execution_count": 0,
      "outputs": []
    },
    {
      "cell_type": "code",
      "metadata": {
        "id": "mzvOlGJcJkKD",
        "colab_type": "code",
        "colab": {}
      },
      "source": [
        "import pandas as pd\n",
        "\n",
        "output_dict = {\n",
        "'Title': titles,\n",
        "'Description': descriptions,\n",
        "'URL': clean_links,\n",
        "}\n",
        "output_df = pd.DataFrame(output_dict, columns = output_dict.keys())\n",
        "\n",
        "#output_df.to_csv('file_name.csv', encoding='utf-8')"
      ],
      "execution_count": 0,
      "outputs": []
    },
    {
      "cell_type": "code",
      "metadata": {
        "id": "hFNg77FgJ2Lp",
        "colab_type": "code",
        "outputId": "d6c2131d-7df0-4636-ac8d-ee397b97cf8d",
        "colab": {
          "base_uri": "https://localhost:8080/",
          "height": 638
        }
      },
      "source": [
        "output_df"
      ],
      "execution_count": 0,
      "outputs": [
        {
          "output_type": "execute_result",
          "data": {
            "text/html": [
              "<div>\n",
              "<style scoped>\n",
              "    .dataframe tbody tr th:only-of-type {\n",
              "        vertical-align: middle;\n",
              "    }\n",
              "\n",
              "    .dataframe tbody tr th {\n",
              "        vertical-align: top;\n",
              "    }\n",
              "\n",
              "    .dataframe thead th {\n",
              "        text-align: right;\n",
              "    }\n",
              "</style>\n",
              "<table border=\"1\" class=\"dataframe\">\n",
              "  <thead>\n",
              "    <tr style=\"text-align: right;\">\n",
              "      <th></th>\n",
              "      <th>Title</th>\n",
              "      <th>Description</th>\n",
              "      <th>URL</th>\n",
              "    </tr>\n",
              "  </thead>\n",
              "  <tbody>\n",
              "    <tr>\n",
              "      <th>0</th>\n",
              "      <td>Jeep Incentives, Deals, &amp; Lease Offers. Find Y...</td>\n",
              "      <td>Find the best local incentives, offers and lea...</td>\n",
              "      <td>https://www.jeepcurrentoffers.com/</td>\n",
              "    </tr>\n",
              "    <tr>\n",
              "      <th>1</th>\n",
              "      <td>Southern Chrysler Jeep - Greenbrier | Chrysler...</td>\n",
              "      <td>The dealership is owned by the same locals who...</td>\n",
              "      <td>https://www.southernchryslerjeepgreenbrier.com/</td>\n",
              "    </tr>\n",
              "    <tr>\n",
              "      <th>2</th>\n",
              "      <td>New Chrysler &amp; Jeep Inventory for Sale | Park ...</td>\n",
              "      <td>Are you looking for a great deal? Browse our l...</td>\n",
              "      <td>https://www.parkjeepchrysler.com/new-vehicles/</td>\n",
              "    </tr>\n",
              "    <tr>\n",
              "      <th>3</th>\n",
              "      <td>Chapman Chrysler Jeep Henderson, NV | Las Vega...</td>\n",
              "      <td>Chapman Chrysler Jeep offers new and used Chry...</td>\n",
              "      <td>https://www.chapmanchryslerjeep.com/</td>\n",
              "    </tr>\n",
              "    <tr>\n",
              "      <th>4</th>\n",
              "      <td>Chrysler, Dodge, Jeep and Ram Dealer Paramus N...</td>\n",
              "      <td>Chrysler Jeep Dodge of Paramus in Paramus, NJ ...</td>\n",
              "      <td>https://www.chryslerdodgejeepofparamus.com/</td>\n",
              "    </tr>\n",
              "    <tr>\n",
              "      <th>5</th>\n",
              "      <td>White Plains Chrysler Jeep Dodge Dealer | New ...</td>\n",
              "      <td>We are a new and used car dealer in Westcheste...</td>\n",
              "      <td>https://www.whiteplainschrysler.com/</td>\n",
              "    </tr>\n",
              "    <tr>\n",
              "      <th>6</th>\n",
              "      <td>San Antonio Chrysler Dodge Jeep Ram: New &amp; Use...</td>\n",
              "      <td>No matter what your driving need is, we can he...</td>\n",
              "      <td>https://www.sanantoniododgechryslerjeepram.com/</td>\n",
              "    </tr>\n",
              "    <tr>\n",
              "      <th>7</th>\n",
              "      <td>Hemet CDJR: New &amp; Used CDJR Dealer | Located i...</td>\n",
              "      <td>Purchase or Lease a New Chrysler, Dodge, Jeep,...</td>\n",
              "      <td>https://www.hemetcdjr.com/</td>\n",
              "    </tr>\n",
              "    <tr>\n",
              "      <th>8</th>\n",
              "      <td>Leith Chrysler Jeep: Chrysler Dealer in Raleig...</td>\n",
              "      <td>Leith Chrysler Jeep is your source for new Chr...</td>\n",
              "      <td>https://www.leithchryslerjeep.com/</td>\n",
              "    </tr>\n",
              "    <tr>\n",
              "      <th>9</th>\n",
              "      <td>Chrysler, Jeep Dealership Braintree MA | Used ...</td>\n",
              "      <td>Quirk Chrysler Jeep is a dealership located ne...</td>\n",
              "      <td>https://www.quirkchryslerjeep.com/</td>\n",
              "    </tr>\n",
              "    <tr>\n",
              "      <th>10</th>\n",
              "      <td>Bill Luke Chrysler Jeep Dodge Ram - I-17 &amp; Cam...</td>\n",
              "      <td>Bill Luke is RAM's #1 dealer in Arizona! Visit...</td>\n",
              "      <td>https://www.billluke.com/</td>\n",
              "    </tr>\n",
              "    <tr>\n",
              "      <th>11</th>\n",
              "      <td>Lake Norman Chrysler Dodge Jeep RAM | Near Cha...</td>\n",
              "      <td>Find a car dealership near me: Lake Norman Chr...</td>\n",
              "      <td>https://www.lakenormanchrysler.com/</td>\n",
              "    </tr>\n",
              "    <tr>\n",
              "      <th>12</th>\n",
              "      <td>Cross Chrysler Jeep Fiat: #1 Rated Jeep Dealer...</td>\n",
              "      <td>1 Rated Jeep Dealership in Louisville is Cross...</td>\n",
              "      <td>https://www.crossjeepchrysler.com/</td>\n",
              "    </tr>\n",
              "    <tr>\n",
              "      <th>13</th>\n",
              "      <td>New Chrysler Jeep Ram Dodge Cars Trucks SUVs a...</td>\n",
              "      <td>Buy a new Chrysler, Jeep, Ram or Dodge car, tr...</td>\n",
              "      <td>https://www.southcountyautos.com/new-inventory...</td>\n",
              "    </tr>\n",
              "    <tr>\n",
              "      <th>14</th>\n",
              "      <td>Jeep Wrangler - Wikipedia</td>\n",
              "      <td>The Jeep Wrangler is a series of compact and m...</td>\n",
              "      <td>https://en.wikipedia.org/wiki/Jeep_Wrangler</td>\n",
              "    </tr>\n",
              "    <tr>\n",
              "      <th>15</th>\n",
              "      <td>Koons Chrysler Dodge Jeep Ram: Dealership In F...</td>\n",
              "      <td>Visit Koons Tysons Chrysler Dodge Jeep Ram for...</td>\n",
              "      <td>https://www.koonsjeep.com/</td>\n",
              "    </tr>\n",
              "    <tr>\n",
              "      <th>16</th>\n",
              "      <td>Chrysler Official Site - Cars and Minivans</td>\n",
              "      <td>Chrysler is a family brand of sedans &amp; minivan...</td>\n",
              "      <td>https://www.chrysler.com/</td>\n",
              "    </tr>\n",
              "    <tr>\n",
              "      <th>17</th>\n",
              "      <td>Chrysler Dodge Jeep Ram Winter Haven FL | Car ...</td>\n",
              "      <td>Find a dealership near me: Choose a new car fr...</td>\n",
              "      <td>https://www.dodgeofwinterhaven.net/</td>\n",
              "    </tr>\n",
              "    <tr>\n",
              "      <th>18</th>\n",
              "      <td>Official Mopar Site | Owner Vehicle Dashboard</td>\n",
              "      <td>See your Chrysler, Dodge, Jeep, Ram or FIAT ve...</td>\n",
              "      <td>https://www.mopar.com/en-us/my-vehicle/dashboa...</td>\n",
              "    </tr>\n",
              "  </tbody>\n",
              "</table>\n",
              "</div>"
            ],
            "text/plain": [
              "                                                Title  ...                                                URL\n",
              "0   Jeep Incentives, Deals, & Lease Offers. Find Y...  ...                 https://www.jeepcurrentoffers.com/\n",
              "1   Southern Chrysler Jeep - Greenbrier | Chrysler...  ...    https://www.southernchryslerjeepgreenbrier.com/\n",
              "2   New Chrysler & Jeep Inventory for Sale | Park ...  ...     https://www.parkjeepchrysler.com/new-vehicles/\n",
              "3   Chapman Chrysler Jeep Henderson, NV | Las Vega...  ...               https://www.chapmanchryslerjeep.com/\n",
              "4   Chrysler, Dodge, Jeep and Ram Dealer Paramus N...  ...        https://www.chryslerdodgejeepofparamus.com/\n",
              "5   White Plains Chrysler Jeep Dodge Dealer | New ...  ...               https://www.whiteplainschrysler.com/\n",
              "6   San Antonio Chrysler Dodge Jeep Ram: New & Use...  ...    https://www.sanantoniododgechryslerjeepram.com/\n",
              "7   Hemet CDJR: New & Used CDJR Dealer | Located i...  ...                         https://www.hemetcdjr.com/\n",
              "8   Leith Chrysler Jeep: Chrysler Dealer in Raleig...  ...                 https://www.leithchryslerjeep.com/\n",
              "9   Chrysler, Jeep Dealership Braintree MA | Used ...  ...                 https://www.quirkchryslerjeep.com/\n",
              "10  Bill Luke Chrysler Jeep Dodge Ram - I-17 & Cam...  ...                          https://www.billluke.com/\n",
              "11  Lake Norman Chrysler Dodge Jeep RAM | Near Cha...  ...                https://www.lakenormanchrysler.com/\n",
              "12  Cross Chrysler Jeep Fiat: #1 Rated Jeep Dealer...  ...                 https://www.crossjeepchrysler.com/\n",
              "13  New Chrysler Jeep Ram Dodge Cars Trucks SUVs a...  ...  https://www.southcountyautos.com/new-inventory...\n",
              "14                          Jeep Wrangler - Wikipedia  ...        https://en.wikipedia.org/wiki/Jeep_Wrangler\n",
              "15  Koons Chrysler Dodge Jeep Ram: Dealership In F...  ...                         https://www.koonsjeep.com/\n",
              "16         Chrysler Official Site - Cars and Minivans  ...                          https://www.chrysler.com/\n",
              "17  Chrysler Dodge Jeep Ram Winter Haven FL | Car ...  ...                https://www.dodgeofwinterhaven.net/\n",
              "18      Official Mopar Site | Owner Vehicle Dashboard  ...  https://www.mopar.com/en-us/my-vehicle/dashboa...\n",
              "\n",
              "[19 rows x 3 columns]"
            ]
          },
          "metadata": {
            "tags": []
          },
          "execution_count": 28
        }
      ]
    }
  ]
}