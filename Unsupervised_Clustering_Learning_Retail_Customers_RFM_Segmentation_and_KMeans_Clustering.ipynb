{
  "nbformat": 4,
  "nbformat_minor": 0,
  "metadata": {
    "colab": {
      "name": "Unsupervised Clustering Learning - Retail Customers RFM Segmentation and KMeans Clustering.ipynb",
      "provenance": [],
      "collapsed_sections": [
        "NK0a8f9IJAnA"
      ],
      "toc_visible": true,
      "authorship_tag": "ABX9TyP6Py7+y3kJWPU6MaEUisp0",
      "include_colab_link": true
    },
    "kernelspec": {
      "display_name": "Python 3",
      "name": "python3"
    }
  },
  "cells": [
    {
      "cell_type": "markdown",
      "metadata": {
        "id": "view-in-github",
        "colab_type": "text"
      },
      "source": [
        "<a href=\"https://colab.research.google.com/github/ctclumak/posts/blob/master/Unsupervised_Clustering_Learning_Retail_Customers_RFM_Segmentation_and_KMeans_Clustering.ipynb\" target=\"_parent\"><img src=\"https://colab.research.google.com/assets/colab-badge.svg\" alt=\"Open In Colab\"/></a>"
      ]
    },
    {
      "cell_type": "code",
      "metadata": {
        "id": "E3dDLTP1vC4z"
      },
      "source": [
        "import numpy as np\n",
        "import pandas as pd\n",
        "import matplotlib.pyplot as plt\n",
        "%matplotlib inline\n",
        "import seaborn as sns\n",
        "from sklearn import preprocessing\n",
        "from sklearn.preprocessing import StandardScaler\n",
        "from sklearn.cluster import KMeans\n",
        "from sklearn.decomposition import PCA\n",
        "from sklearn.preprocessing import LabelEncoder\n"
      ],
      "execution_count": 1,
      "outputs": []
    },
    {
      "cell_type": "code",
      "metadata": {
        "id": "szqQsdMZaxPV"
      },
      "source": [
        "df = pd.read_excel(\"/content/Online Retail.xlsx\",dtype={\"CustomerID\":str, \"InvoiceNo\":str})"
      ],
      "execution_count": 2,
      "outputs": []
    },
    {
      "cell_type": "code",
      "metadata": {
        "colab": {
          "base_uri": "https://localhost:8080/"
        },
        "id": "nRmy46T_b4lO",
        "outputId": "f12a790d-ae73-4f00-aa67-7ce8977cdfa9"
      },
      "source": [
        "df.info()"
      ],
      "execution_count": 3,
      "outputs": [
        {
          "output_type": "stream",
          "text": [
            "<class 'pandas.core.frame.DataFrame'>\n",
            "RangeIndex: 541909 entries, 0 to 541908\n",
            "Data columns (total 8 columns):\n",
            " #   Column       Non-Null Count   Dtype         \n",
            "---  ------       --------------   -----         \n",
            " 0   InvoiceNo    541909 non-null  object        \n",
            " 1   StockCode    541909 non-null  object        \n",
            " 2   Description  540455 non-null  object        \n",
            " 3   Quantity     541909 non-null  int64         \n",
            " 4   InvoiceDate  541909 non-null  datetime64[ns]\n",
            " 5   UnitPrice    541909 non-null  float64       \n",
            " 6   CustomerID   406829 non-null  object        \n",
            " 7   Country      541909 non-null  object        \n",
            "dtypes: datetime64[ns](1), float64(1), int64(1), object(5)\n",
            "memory usage: 33.1+ MB\n"
          ],
          "name": "stdout"
        }
      ]
    },
    {
      "cell_type": "code",
      "metadata": {
        "colab": {
          "base_uri": "https://localhost:8080/",
          "height": 297
        },
        "id": "wxYltP0x6Top",
        "outputId": "b305ee41-9a1a-4983-94ab-7a81cb30c916"
      },
      "source": [
        "df.describe()"
      ],
      "execution_count": 4,
      "outputs": [
        {
          "output_type": "execute_result",
          "data": {
            "text/html": [
              "<div>\n",
              "<style scoped>\n",
              "    .dataframe tbody tr th:only-of-type {\n",
              "        vertical-align: middle;\n",
              "    }\n",
              "\n",
              "    .dataframe tbody tr th {\n",
              "        vertical-align: top;\n",
              "    }\n",
              "\n",
              "    .dataframe thead th {\n",
              "        text-align: right;\n",
              "    }\n",
              "</style>\n",
              "<table border=\"1\" class=\"dataframe\">\n",
              "  <thead>\n",
              "    <tr style=\"text-align: right;\">\n",
              "      <th></th>\n",
              "      <th>Quantity</th>\n",
              "      <th>UnitPrice</th>\n",
              "    </tr>\n",
              "  </thead>\n",
              "  <tbody>\n",
              "    <tr>\n",
              "      <th>count</th>\n",
              "      <td>541909.000000</td>\n",
              "      <td>541909.000000</td>\n",
              "    </tr>\n",
              "    <tr>\n",
              "      <th>mean</th>\n",
              "      <td>9.552250</td>\n",
              "      <td>4.611114</td>\n",
              "    </tr>\n",
              "    <tr>\n",
              "      <th>std</th>\n",
              "      <td>218.081158</td>\n",
              "      <td>96.759853</td>\n",
              "    </tr>\n",
              "    <tr>\n",
              "      <th>min</th>\n",
              "      <td>-80995.000000</td>\n",
              "      <td>-11062.060000</td>\n",
              "    </tr>\n",
              "    <tr>\n",
              "      <th>25%</th>\n",
              "      <td>1.000000</td>\n",
              "      <td>1.250000</td>\n",
              "    </tr>\n",
              "    <tr>\n",
              "      <th>50%</th>\n",
              "      <td>3.000000</td>\n",
              "      <td>2.080000</td>\n",
              "    </tr>\n",
              "    <tr>\n",
              "      <th>75%</th>\n",
              "      <td>10.000000</td>\n",
              "      <td>4.130000</td>\n",
              "    </tr>\n",
              "    <tr>\n",
              "      <th>max</th>\n",
              "      <td>80995.000000</td>\n",
              "      <td>38970.000000</td>\n",
              "    </tr>\n",
              "  </tbody>\n",
              "</table>\n",
              "</div>"
            ],
            "text/plain": [
              "            Quantity      UnitPrice\n",
              "count  541909.000000  541909.000000\n",
              "mean        9.552250       4.611114\n",
              "std       218.081158      96.759853\n",
              "min    -80995.000000  -11062.060000\n",
              "25%         1.000000       1.250000\n",
              "50%         3.000000       2.080000\n",
              "75%        10.000000       4.130000\n",
              "max     80995.000000   38970.000000"
            ]
          },
          "metadata": {
            "tags": []
          },
          "execution_count": 4
        }
      ]
    },
    {
      "cell_type": "code",
      "metadata": {
        "colab": {
          "base_uri": "https://localhost:8080/"
        },
        "id": "pgllCh4v6f46",
        "outputId": "2a3ba669-0c11-46f2-cd4c-1e0f33484282"
      },
      "source": [
        "print(\"Number of rows that net quantity is negative:\",\n",
        "      df[df.Quantity<0].shape[0])"
      ],
      "execution_count": 5,
      "outputs": [
        {
          "output_type": "stream",
          "text": [
            "Number of rows that net quantity is negative: 10624\n"
          ],
          "name": "stdout"
        }
      ]
    },
    {
      "cell_type": "code",
      "metadata": {
        "id": "Gp0UmYRS67yn"
      },
      "source": [
        "#Exclude the returns from the database\n",
        "df=df[df.Quantity>0]"
      ],
      "execution_count": 6,
      "outputs": []
    },
    {
      "cell_type": "code",
      "metadata": {
        "id": "PM1PhEf2crzg"
      },
      "source": [
        "df[\"TotalSpend\"] = df.Quantity*df.UnitPrice"
      ],
      "execution_count": 7,
      "outputs": []
    },
    {
      "cell_type": "code",
      "metadata": {
        "colab": {
          "base_uri": "https://localhost:8080/",
          "height": 297
        },
        "id": "9SXQBhsle-HK",
        "outputId": "1acc99a0-9202-4e7e-c072-3300ab17bba0"
      },
      "source": [
        "pd.DataFrame(df.groupby([\"CustomerID\", \"Country\"]).TotalSpend.sum().sort_values(ascending=False)).describe()"
      ],
      "execution_count": 8,
      "outputs": [
        {
          "output_type": "execute_result",
          "data": {
            "text/html": [
              "<div>\n",
              "<style scoped>\n",
              "    .dataframe tbody tr th:only-of-type {\n",
              "        vertical-align: middle;\n",
              "    }\n",
              "\n",
              "    .dataframe tbody tr th {\n",
              "        vertical-align: top;\n",
              "    }\n",
              "\n",
              "    .dataframe thead th {\n",
              "        text-align: right;\n",
              "    }\n",
              "</style>\n",
              "<table border=\"1\" class=\"dataframe\">\n",
              "  <thead>\n",
              "    <tr style=\"text-align: right;\">\n",
              "      <th></th>\n",
              "      <th>TotalSpend</th>\n",
              "    </tr>\n",
              "  </thead>\n",
              "  <tbody>\n",
              "    <tr>\n",
              "      <th>count</th>\n",
              "      <td>4347.000000</td>\n",
              "    </tr>\n",
              "    <tr>\n",
              "      <th>mean</th>\n",
              "      <td>2050.013320</td>\n",
              "    </tr>\n",
              "    <tr>\n",
              "      <th>std</th>\n",
              "      <td>8980.103578</td>\n",
              "    </tr>\n",
              "    <tr>\n",
              "      <th>min</th>\n",
              "      <td>0.000000</td>\n",
              "    </tr>\n",
              "    <tr>\n",
              "      <th>25%</th>\n",
              "      <td>307.430000</td>\n",
              "    </tr>\n",
              "    <tr>\n",
              "      <th>50%</th>\n",
              "      <td>671.960000</td>\n",
              "    </tr>\n",
              "    <tr>\n",
              "      <th>75%</th>\n",
              "      <td>1661.195000</td>\n",
              "    </tr>\n",
              "    <tr>\n",
              "      <th>max</th>\n",
              "      <td>280206.020000</td>\n",
              "    </tr>\n",
              "  </tbody>\n",
              "</table>\n",
              "</div>"
            ],
            "text/plain": [
              "          TotalSpend\n",
              "count    4347.000000\n",
              "mean     2050.013320\n",
              "std      8980.103578\n",
              "min         0.000000\n",
              "25%       307.430000\n",
              "50%       671.960000\n",
              "75%      1661.195000\n",
              "max    280206.020000"
            ]
          },
          "metadata": {
            "tags": []
          },
          "execution_count": 8
        }
      ]
    },
    {
      "cell_type": "code",
      "metadata": {
        "colab": {
          "base_uri": "https://localhost:8080/",
          "height": 328
        },
        "id": "8ZZCAfOLc1HZ",
        "outputId": "acc07051-9201-4eca-e01f-a1f1915e09aa"
      },
      "source": [
        "\n",
        "pd.DataFrame(data=df.isnull().sum()/df.shape[0]*100,index=df.columns, columns=['% Null Values'])"
      ],
      "execution_count": 9,
      "outputs": [
        {
          "output_type": "execute_result",
          "data": {
            "text/html": [
              "<div>\n",
              "<style scoped>\n",
              "    .dataframe tbody tr th:only-of-type {\n",
              "        vertical-align: middle;\n",
              "    }\n",
              "\n",
              "    .dataframe tbody tr th {\n",
              "        vertical-align: top;\n",
              "    }\n",
              "\n",
              "    .dataframe thead th {\n",
              "        text-align: right;\n",
              "    }\n",
              "</style>\n",
              "<table border=\"1\" class=\"dataframe\">\n",
              "  <thead>\n",
              "    <tr style=\"text-align: right;\">\n",
              "      <th></th>\n",
              "      <th>% Null Values</th>\n",
              "    </tr>\n",
              "  </thead>\n",
              "  <tbody>\n",
              "    <tr>\n",
              "      <th>InvoiceNo</th>\n",
              "      <td>0.000000</td>\n",
              "    </tr>\n",
              "    <tr>\n",
              "      <th>StockCode</th>\n",
              "      <td>0.000000</td>\n",
              "    </tr>\n",
              "    <tr>\n",
              "      <th>Description</th>\n",
              "      <td>0.111428</td>\n",
              "    </tr>\n",
              "    <tr>\n",
              "      <th>Quantity</th>\n",
              "      <td>0.000000</td>\n",
              "    </tr>\n",
              "    <tr>\n",
              "      <th>InvoiceDate</th>\n",
              "      <td>0.000000</td>\n",
              "    </tr>\n",
              "    <tr>\n",
              "      <th>UnitPrice</th>\n",
              "      <td>0.000000</td>\n",
              "    </tr>\n",
              "    <tr>\n",
              "      <th>CustomerID</th>\n",
              "      <td>25.101593</td>\n",
              "    </tr>\n",
              "    <tr>\n",
              "      <th>Country</th>\n",
              "      <td>0.000000</td>\n",
              "    </tr>\n",
              "    <tr>\n",
              "      <th>TotalSpend</th>\n",
              "      <td>0.000000</td>\n",
              "    </tr>\n",
              "  </tbody>\n",
              "</table>\n",
              "</div>"
            ],
            "text/plain": [
              "             % Null Values\n",
              "InvoiceNo         0.000000\n",
              "StockCode         0.000000\n",
              "Description       0.111428\n",
              "Quantity          0.000000\n",
              "InvoiceDate       0.000000\n",
              "UnitPrice         0.000000\n",
              "CustomerID       25.101593\n",
              "Country           0.000000\n",
              "TotalSpend        0.000000"
            ]
          },
          "metadata": {
            "tags": []
          },
          "execution_count": 9
        }
      ]
    },
    {
      "cell_type": "code",
      "metadata": {
        "colab": {
          "base_uri": "https://localhost:8080/"
        },
        "id": "lrFJH_1oeu7b",
        "outputId": "343cba5d-3dc5-4c9a-f807-fd7d13c89b6a"
      },
      "source": [
        "df[df.CustomerID.isnull()].TotalSpend.sum()/df.TotalSpend.sum()*100"
      ],
      "execution_count": 10,
      "outputs": [
        {
          "output_type": "execute_result",
          "data": {
            "text/plain": [
              "16.28204877387241"
            ]
          },
          "metadata": {
            "tags": []
          },
          "execution_count": 10
        }
      ]
    },
    {
      "cell_type": "code",
      "metadata": {
        "colab": {
          "base_uri": "https://localhost:8080/"
        },
        "id": "kiGG4qWqf-xB",
        "outputId": "9de4786c-ffa7-4658-989e-47990da61940"
      },
      "source": [
        "df.dropna(subset=[\"CustomerID\"],inplace=True)\n",
        "df.shape"
      ],
      "execution_count": 11,
      "outputs": [
        {
          "output_type": "execute_result",
          "data": {
            "text/plain": [
              "(397924, 9)"
            ]
          },
          "metadata": {
            "tags": []
          },
          "execution_count": 11
        }
      ]
    },
    {
      "cell_type": "code",
      "metadata": {
        "id": "8Yqww_MPsd3O"
      },
      "source": [
        ""
      ],
      "execution_count": 11,
      "outputs": []
    },
    {
      "cell_type": "code",
      "metadata": {
        "colab": {
          "base_uri": "https://localhost:8080/",
          "height": 514
        },
        "id": "s50PMUuUmyOq",
        "outputId": "4277a83f-78b5-4e75-a573-94760ea21aca"
      },
      "source": [
        "df_country=df.groupby(\"Country\")[\"CustomerID\"].nunique().sort_values(ascending=False).reset_index().head(10)\n",
        "plt.figure(figsize=(15,8))\n",
        "sns.barplot(data=df_country, x='Country', y='CustomerID',palette=\"Greens_d\")\n"
      ],
      "execution_count": 12,
      "outputs": [
        {
          "output_type": "execute_result",
          "data": {
            "text/plain": [
              "<matplotlib.axes._subplots.AxesSubplot at 0x7f3a09d7f6a0>"
            ]
          },
          "metadata": {
            "tags": []
          },
          "execution_count": 12
        },
        {
          "output_type": "display_data",
          "data": {
            "image/png": "[encoded data removed]",
            "text/plain": [
              "<Figure size 1080x576 with 1 Axes>"
            ]
          },
          "metadata": {
            "tags": [],
            "needs_background": "light"
          }
        }
      ]
    },
    {
      "cell_type": "code",
      "metadata": {
        "id": "33Zdphcnrd5e",
        "colab": {
          "base_uri": "https://localhost:8080/"
        },
        "outputId": "3607f9fd-75fe-4ee0-ff6a-9a5643990a90"
      },
      "source": [
        "len(df.query('Country==\"United Kingdom\"'))/len(df)"
      ],
      "execution_count": 13,
      "outputs": [
        {
          "output_type": "execute_result",
          "data": {
            "text/plain": [
              "0.8904841125441039"
            ]
          },
          "metadata": {
            "tags": []
          },
          "execution_count": 13
        }
      ]
    },
    {
      "cell_type": "markdown",
      "metadata": {
        "id": "oyIPiyDajb5Y"
      },
      "source": [
        "**RFM Analysis**"
      ]
    },
    {
      "cell_type": "code",
      "metadata": {
        "id": "rVs7vqbilAyx"
      },
      "source": [
        "from datetime import datetime\n",
        "df.InvoiceDate=df.InvoiceDate.dt.date"
      ],
      "execution_count": 14,
      "outputs": []
    },
    {
      "cell_type": "code",
      "metadata": {
        "id": "dZJw9CTucR8S"
      },
      "source": [
        "#Create date variable that records recency\n",
        "snaptshot_date = max(df.InvoiceDate) + pd.Timedelta(days=1)\n",
        "\n",
        "#Aggregate data by each customer\n",
        "customers = df.groupby(\"CustomerID\").agg({\n",
        "    \"InvoiceDate\": lambda x : (snaptshot_date-x.max()).days,\n",
        "    \"InvoiceNo\": \"count\",\n",
        "    \"TotalSpend\": \"sum\"\n",
        "})\n",
        "\n",
        "#rename columns\n",
        "customers.rename(columns={\n",
        "                          'InvoiceDate': \"Recency\", \n",
        "                          \"InvoiceNo\": \"Frequency\",\n",
        "                          \"TotalSpend\": \"MonetaryValue\"},inplace=True)"
      ],
      "execution_count": 15,
      "outputs": []
    },
    {
      "cell_type": "code",
      "metadata": {
        "id": "7w_JyNj8iiv8",
        "colab": {
          "base_uri": "https://localhost:8080/",
          "height": 235
        },
        "outputId": "c7456e27-2f90-46a8-fd81-3f0d51f87f5b"
      },
      "source": [
        "customers.head()"
      ],
      "execution_count": 16,
      "outputs": [
        {
          "output_type": "execute_result",
          "data": {
            "text/html": [
              "<div>\n",
              "<style scoped>\n",
              "    .dataframe tbody tr th:only-of-type {\n",
              "        vertical-align: middle;\n",
              "    }\n",
              "\n",
              "    .dataframe tbody tr th {\n",
              "        vertical-align: top;\n",
              "    }\n",
              "\n",
              "    .dataframe thead th {\n",
              "        text-align: right;\n",
              "    }\n",
              "</style>\n",
              "<table border=\"1\" class=\"dataframe\">\n",
              "  <thead>\n",
              "    <tr style=\"text-align: right;\">\n",
              "      <th></th>\n",
              "      <th>Recency</th>\n",
              "      <th>Frequency</th>\n",
              "      <th>MonetaryValue</th>\n",
              "    </tr>\n",
              "    <tr>\n",
              "      <th>CustomerID</th>\n",
              "      <th></th>\n",
              "      <th></th>\n",
              "      <th></th>\n",
              "    </tr>\n",
              "  </thead>\n",
              "  <tbody>\n",
              "    <tr>\n",
              "      <th>12346</th>\n",
              "      <td>326</td>\n",
              "      <td>1</td>\n",
              "      <td>77183.60</td>\n",
              "    </tr>\n",
              "    <tr>\n",
              "      <th>12347</th>\n",
              "      <td>3</td>\n",
              "      <td>182</td>\n",
              "      <td>4310.00</td>\n",
              "    </tr>\n",
              "    <tr>\n",
              "      <th>12348</th>\n",
              "      <td>76</td>\n",
              "      <td>31</td>\n",
              "      <td>1797.24</td>\n",
              "    </tr>\n",
              "    <tr>\n",
              "      <th>12349</th>\n",
              "      <td>19</td>\n",
              "      <td>73</td>\n",
              "      <td>1757.55</td>\n",
              "    </tr>\n",
              "    <tr>\n",
              "      <th>12350</th>\n",
              "      <td>311</td>\n",
              "      <td>17</td>\n",
              "      <td>334.40</td>\n",
              "    </tr>\n",
              "  </tbody>\n",
              "</table>\n",
              "</div>"
            ],
            "text/plain": [
              "            Recency  Frequency  MonetaryValue\n",
              "CustomerID                                   \n",
              "12346           326          1       77183.60\n",
              "12347             3        182        4310.00\n",
              "12348            76         31        1797.24\n",
              "12349            19         73        1757.55\n",
              "12350           311         17         334.40"
            ]
          },
          "metadata": {
            "tags": []
          },
          "execution_count": 16
        }
      ]
    },
    {
      "cell_type": "code",
      "metadata": {
        "colab": {
          "base_uri": "https://localhost:8080/"
        },
        "id": "REyYzb_u6B7I",
        "outputId": "8e60d6aa-557c-4585-b8cb-e0c426f1b5bd"
      },
      "source": [
        "Avg_value = round(np.mean(customers.MonetaryValue),2)\n",
        "Avg_freq = round(np.mean(customers.Frequency),2)\n",
        "retention_rate = round(customers[customers.Frequency>1].shape[0]/customers.shape[0],2)\n",
        "print(f\"Average Monetary Value: ${Avg_value}\")\n",
        "print(f\"Average Frequency: {Avg_freq}\")\n",
        "print(f\"Retention Rate: {retention_rate}%\")"
      ],
      "execution_count": 17,
      "outputs": [
        {
          "output_type": "stream",
          "text": [
            "Average Monetary Value: $2053.79\n",
            "Average Frequency: 91.71\n",
            "Retention Rate: 0.98%\n"
          ],
          "name": "stdout"
        }
      ]
    },
    {
      "cell_type": "code",
      "metadata": {
        "id": "F0MluoKZGega",
        "colab": {
          "base_uri": "https://localhost:8080/",
          "height": 304
        },
        "outputId": "bfae4af5-224b-48e6-a0f0-f35e3a031c3c"
      },
      "source": [
        "sns.heatmap(customers.corr(),annot=True)"
      ],
      "execution_count": 18,
      "outputs": [
        {
          "output_type": "execute_result",
          "data": {
            "text/plain": [
              "<matplotlib.axes._subplots.AxesSubplot at 0x7f39d108dfd0>"
            ]
          },
          "metadata": {
            "tags": []
          },
          "execution_count": 18
        },
        {
          "output_type": "display_data",
          "data": {
            "image/png": "[encoded data removed]",
            "text/plain": [
              "<Figure size 432x288 with 2 Axes>"
            ]
          },
          "metadata": {
            "tags": [],
            "needs_background": "light"
          }
        }
      ]
    },
    {
      "cell_type": "markdown",
      "metadata": {
        "id": "XxG_icpMdVUP"
      },
      "source": [
        "## Manage Skewness"
      ]
    },
    {
      "cell_type": "code",
      "metadata": {
        "id": "ohJZ9TZ0IMa6",
        "colab": {
          "base_uri": "https://localhost:8080/",
          "height": 204
        },
        "outputId": "56ca09f9-121e-4921-c0eb-1a28c2fb0e7c"
      },
      "source": [
        "#We will apply Power Transformation to convert these features into a normal distribution\n",
        "from sklearn.preprocessing import PowerTransformer\n",
        "pt = PowerTransformer()\n",
        "customers = pd.DataFrame(pt.fit_transform(customers))\n",
        "customers.rename(columns={0: \"Recency\", \n",
        "                          1: \"Frequency\",\n",
        "                          2: \"MonetaryValue\"},inplace=True)\n",
        "customers.head()"
      ],
      "execution_count": 19,
      "outputs": [
        {
          "output_type": "execute_result",
          "data": {
            "text/html": [
              "<div>\n",
              "<style scoped>\n",
              "    .dataframe tbody tr th:only-of-type {\n",
              "        vertical-align: middle;\n",
              "    }\n",
              "\n",
              "    .dataframe tbody tr th {\n",
              "        vertical-align: top;\n",
              "    }\n",
              "\n",
              "    .dataframe thead th {\n",
              "        text-align: right;\n",
              "    }\n",
              "</style>\n",
              "<table border=\"1\" class=\"dataframe\">\n",
              "  <thead>\n",
              "    <tr style=\"text-align: right;\">\n",
              "      <th></th>\n",
              "      <th>Recency</th>\n",
              "      <th>Frequency</th>\n",
              "      <th>MonetaryValue</th>\n",
              "    </tr>\n",
              "  </thead>\n",
              "  <tbody>\n",
              "    <tr>\n",
              "      <th>0</th>\n",
              "      <td>1.614124</td>\n",
              "      <td>-2.420116</td>\n",
              "      <td>3.193082</td>\n",
              "    </tr>\n",
              "    <tr>\n",
              "      <th>1</th>\n",
              "      <td>-1.729289</td>\n",
              "      <td>1.178407</td>\n",
              "      <td>1.377477</td>\n",
              "    </tr>\n",
              "    <tr>\n",
              "      <th>2</th>\n",
              "      <td>0.307296</td>\n",
              "      <td>-0.219010</td>\n",
              "      <td>0.745038</td>\n",
              "    </tr>\n",
              "    <tr>\n",
              "      <th>3</th>\n",
              "      <td>-0.714932</td>\n",
              "      <td>0.451547</td>\n",
              "      <td>0.728345</td>\n",
              "    </tr>\n",
              "    <tr>\n",
              "      <th>4</th>\n",
              "      <td>1.567863</td>\n",
              "      <td>-0.677875</td>\n",
              "      <td>-0.592290</td>\n",
              "    </tr>\n",
              "  </tbody>\n",
              "</table>\n",
              "</div>"
            ],
            "text/plain": [
              "    Recency  Frequency  MonetaryValue\n",
              "0  1.614124  -2.420116       3.193082\n",
              "1 -1.729289   1.178407       1.377477\n",
              "2  0.307296  -0.219010       0.745038\n",
              "3 -0.714932   0.451547       0.728345\n",
              "4  1.567863  -0.677875      -0.592290"
            ]
          },
          "metadata": {
            "tags": []
          },
          "execution_count": 19
        }
      ]
    },
    {
      "cell_type": "code",
      "metadata": {
        "id": "SCVStYpBIn1R",
        "colab": {
          "base_uri": "https://localhost:8080/",
          "height": 304
        },
        "outputId": "e9b3c746-6bb0-4a2d-9787-11bc47271e3c"
      },
      "source": [
        "sns.heatmap(customers.corr(),annot=True)"
      ],
      "execution_count": 20,
      "outputs": [
        {
          "output_type": "execute_result",
          "data": {
            "text/plain": [
              "<matplotlib.axes._subplots.AxesSubplot at 0x7f39d13de390>"
            ]
          },
          "metadata": {
            "tags": []
          },
          "execution_count": 20
        },
        {
          "output_type": "display_data",
          "data": {
            "image/png": "[encoded data removed]",
            "text/plain": [
              "<Figure size 432x288 with 2 Axes>"
            ]
          },
          "metadata": {
            "tags": [],
            "needs_background": "light"
          }
        }
      ]
    },
    {
      "cell_type": "code",
      "metadata": {
        "id": "nnfJVi45dB2R",
        "colab": {
          "base_uri": "https://localhost:8080/",
          "height": 331
        },
        "outputId": "0db5aa2f-ddb7-4329-a39f-d15e42437d44"
      },
      "source": [
        "fig, ax = plt.subplots(1, 3, figsize=(15,3))\n",
        "sns.distplot(customers['Recency'],ax=ax[0])\n",
        "sns.distplot(customers[\"Frequency\"],ax=ax[1])\n",
        "sns.distplot(customers[\"MonetaryValue\"],ax=ax[2])\n",
        "plt.tight_layout()\n",
        "plt.show()"
      ],
      "execution_count": 21,
      "outputs": [
        {
          "output_type": "stream",
          "text": [
            "/usr/local/lib/python3.6/dist-packages/seaborn/distributions.py:2557: FutureWarning: `distplot` is a deprecated function and will be removed in a future version. Please adapt your code to use either `displot` (a figure-level function with similar flexibility) or `histplot` (an axes-level function for histograms).\n",
            "  warnings.warn(msg, FutureWarning)\n",
            "/usr/local/lib/python3.6/dist-packages/seaborn/distributions.py:2557: FutureWarning: `distplot` is a deprecated function and will be removed in a future version. Please adapt your code to use either `displot` (a figure-level function with similar flexibility) or `histplot` (an axes-level function for histograms).\n",
            "  warnings.warn(msg, FutureWarning)\n",
            "/usr/local/lib/python3.6/dist-packages/seaborn/distributions.py:2557: FutureWarning: `distplot` is a deprecated function and will be removed in a future version. Please adapt your code to use either `displot` (a figure-level function with similar flexibility) or `histplot` (an axes-level function for histograms).\n",
            "  warnings.warn(msg, FutureWarning)\n"
          ],
          "name": "stderr"
        },
        {
          "output_type": "display_data",
          "data": {
            "image/png": "[encoded data removed]",
            "text/plain": [
              "<Figure size 1080x216 with 3 Axes>"
            ]
          },
          "metadata": {
            "tags": [],
            "needs_background": "light"
          }
        }
      ]
    },
    {
      "cell_type": "markdown",
      "metadata": {
        "id": "dUOolusRASYi"
      },
      "source": [
        "# Normalization"
      ]
    },
    {
      "cell_type": "code",
      "metadata": {
        "id": "BmJNyujIAYd7",
        "colab": {
          "base_uri": "https://localhost:8080/",
          "height": 419
        },
        "outputId": "c787ace1-b15d-4a1e-bac5-0df2665482db"
      },
      "source": [
        "from sklearn.preprocessing import StandardScaler\n",
        "scaler = StandardScaler()\n",
        "pd.DataFrame(scaler.fit_transform(customers))\n"
      ],
      "execution_count": 22,
      "outputs": [
        {
          "output_type": "execute_result",
          "data": {
            "text/html": [
              "<div>\n",
              "<style scoped>\n",
              "    .dataframe tbody tr th:only-of-type {\n",
              "        vertical-align: middle;\n",
              "    }\n",
              "\n",
              "    .dataframe tbody tr th {\n",
              "        vertical-align: top;\n",
              "    }\n",
              "\n",
              "    .dataframe thead th {\n",
              "        text-align: right;\n",
              "    }\n",
              "</style>\n",
              "<table border=\"1\" class=\"dataframe\">\n",
              "  <thead>\n",
              "    <tr style=\"text-align: right;\">\n",
              "      <th></th>\n",
              "      <th>0</th>\n",
              "      <th>1</th>\n",
              "      <th>2</th>\n",
              "    </tr>\n",
              "  </thead>\n",
              "  <tbody>\n",
              "    <tr>\n",
              "      <th>0</th>\n",
              "      <td>1.614124</td>\n",
              "      <td>-2.420116</td>\n",
              "      <td>3.193082</td>\n",
              "    </tr>\n",
              "    <tr>\n",
              "      <th>1</th>\n",
              "      <td>-1.729289</td>\n",
              "      <td>1.178407</td>\n",
              "      <td>1.377477</td>\n",
              "    </tr>\n",
              "    <tr>\n",
              "      <th>2</th>\n",
              "      <td>0.307296</td>\n",
              "      <td>-0.219010</td>\n",
              "      <td>0.745038</td>\n",
              "    </tr>\n",
              "    <tr>\n",
              "      <th>3</th>\n",
              "      <td>-0.714932</td>\n",
              "      <td>0.451547</td>\n",
              "      <td>0.728345</td>\n",
              "    </tr>\n",
              "    <tr>\n",
              "      <th>4</th>\n",
              "      <td>1.567863</td>\n",
              "      <td>-0.677875</td>\n",
              "      <td>-0.592290</td>\n",
              "    </tr>\n",
              "    <tr>\n",
              "      <th>...</th>\n",
              "      <td>...</td>\n",
              "      <td>...</td>\n",
              "      <td>...</td>\n",
              "    </tr>\n",
              "    <tr>\n",
              "      <th>4334</th>\n",
              "      <td>1.458820</td>\n",
              "      <td>-1.069762</td>\n",
              "      <td>-1.124451</td>\n",
              "    </tr>\n",
              "    <tr>\n",
              "      <th>4335</th>\n",
              "      <td>1.055919</td>\n",
              "      <td>-1.322743</td>\n",
              "      <td>-1.853628</td>\n",
              "    </tr>\n",
              "    <tr>\n",
              "      <th>4336</th>\n",
              "      <td>-1.243771</td>\n",
              "      <td>-0.936920</td>\n",
              "      <td>-1.137008</td>\n",
              "    </tr>\n",
              "    <tr>\n",
              "      <th>4337</th>\n",
              "      <td>-1.600575</td>\n",
              "      <td>2.323804</td>\n",
              "      <td>0.858842</td>\n",
              "    </tr>\n",
              "    <tr>\n",
              "      <th>4338</th>\n",
              "      <td>-0.138121</td>\n",
              "      <td>0.418390</td>\n",
              "      <td>0.761481</td>\n",
              "    </tr>\n",
              "  </tbody>\n",
              "</table>\n",
              "<p>4339 rows × 3 columns</p>\n",
              "</div>"
            ],
            "text/plain": [
              "             0         1         2\n",
              "0     1.614124 -2.420116  3.193082\n",
              "1    -1.729289  1.178407  1.377477\n",
              "2     0.307296 -0.219010  0.745038\n",
              "3    -0.714932  0.451547  0.728345\n",
              "4     1.567863 -0.677875 -0.592290\n",
              "...        ...       ...       ...\n",
              "4334  1.458820 -1.069762 -1.124451\n",
              "4335  1.055919 -1.322743 -1.853628\n",
              "4336 -1.243771 -0.936920 -1.137008\n",
              "4337 -1.600575  2.323804  0.858842\n",
              "4338 -0.138121  0.418390  0.761481\n",
              "\n",
              "[4339 rows x 3 columns]"
            ]
          },
          "metadata": {
            "tags": []
          },
          "execution_count": 22
        }
      ]
    },
    {
      "cell_type": "code",
      "metadata": {
        "id": "6qXdz9SNoFEl"
      },
      "source": [
        ""
      ],
      "execution_count": 22,
      "outputs": []
    },
    {
      "cell_type": "markdown",
      "metadata": {
        "id": "xSSjtXkdoFo4"
      },
      "source": [
        "##Compare Different Models"
      ]
    },
    {
      "cell_type": "code",
      "metadata": {
        "id": "sJ6e4hp1oL7o",
        "colab": {
          "base_uri": "https://localhost:8080/"
        },
        "outputId": "e88a212a-1579-4bb9-e5f5-7c0620250c3a"
      },
      "source": [
        "from sklearn.cluster import AgglomerativeClustering,KMeans, DBSCAN\n",
        "from sklearn.metrics.cluster import adjusted_rand_score, silhouette_score\n",
        "from sklearn.metrics import silhouette_score\n",
        "\n",
        "\n",
        "cluster_agg= AgglomerativeClustering(n_clusters=2)\n",
        "\n",
        "y_pred_agg = cluster_agg.fit_predict(customers)\n",
        "silhouette_score(customers,cluster_agg.labels_)\n",
        "\n"
      ],
      "execution_count": 23,
      "outputs": [
        {
          "output_type": "execute_result",
          "data": {
            "text/plain": [
              "0.3721993409101969"
            ]
          },
          "metadata": {
            "tags": []
          },
          "execution_count": 23
        }
      ]
    },
    {
      "cell_type": "code",
      "metadata": {
        "id": "_bkNG1X2lCov",
        "colab": {
          "base_uri": "https://localhost:8080/"
        },
        "outputId": "1022fb03-351a-477e-f6bc-fe32521b6a03"
      },
      "source": [
        "print(\"Unique labels: {}\".format(np.unique(y_pred_agg)))"
      ],
      "execution_count": 24,
      "outputs": [
        {
          "output_type": "stream",
          "text": [
            "Unique labels: [0 1]\n"
          ],
          "name": "stdout"
        }
      ]
    },
    {
      "cell_type": "code",
      "metadata": {
        "id": "SvrQ5rCyi48Q",
        "colab": {
          "base_uri": "https://localhost:8080/"
        },
        "outputId": "578b9586-b586-4164-c05f-2538b95fb2c7"
      },
      "source": [
        "cluster_dbscan = DBSCAN()\n",
        "y_pred_dbscan = cluster_dbscan.fit_predict(customers)\n",
        "\n",
        "silhouette_score(customers,cluster_dbscan.labels_)"
      ],
      "execution_count": 25,
      "outputs": [
        {
          "output_type": "execute_result",
          "data": {
            "text/plain": [
              "0.4707447629600436"
            ]
          },
          "metadata": {
            "tags": []
          },
          "execution_count": 25
        }
      ]
    },
    {
      "cell_type": "code",
      "metadata": {
        "id": "vJPM1BLzAP7N",
        "colab": {
          "base_uri": "https://localhost:8080/"
        },
        "outputId": "086fb768-8a3c-4c88-9bc4-048f544d9908"
      },
      "source": [
        "print(\"Unique labels: {}\".format(np.unique(y_pred_dbscan)))"
      ],
      "execution_count": 26,
      "outputs": [
        {
          "output_type": "stream",
          "text": [
            "Unique labels: [-1  0]\n"
          ],
          "name": "stdout"
        }
      ]
    },
    {
      "cell_type": "markdown",
      "metadata": {
        "id": "NK0a8f9IJAnA"
      },
      "source": [
        "## Dimension Reduction - PCA"
      ]
    },
    {
      "cell_type": "code",
      "metadata": {
        "id": "DybfWJHpI_Ig"
      },
      "source": [
        "from sklearn.decomposition import PCA\n",
        "pca = PCA()\n",
        "pca_transformed = pca.fit_transform(customers)"
      ],
      "execution_count": 27,
      "outputs": []
    },
    {
      "cell_type": "code",
      "metadata": {
        "id": "x0U-LFiDKm3B",
        "colab": {
          "base_uri": "https://localhost:8080/"
        },
        "outputId": "622ddf42-f5cf-42d3-b662-e87ad9496ca6"
      },
      "source": [
        "pca.components_"
      ],
      "execution_count": 28,
      "outputs": [
        {
          "output_type": "execute_result",
          "data": {
            "text/plain": [
              "array([[-0.50701994,  0.61193106,  0.60701826],\n",
              "       [-0.86144462, -0.33601844, -0.38079494],\n",
              "       [-0.02905092, -0.71598323,  0.69751276]])"
            ]
          },
          "metadata": {
            "tags": []
          },
          "execution_count": 28
        }
      ]
    },
    {
      "cell_type": "markdown",
      "metadata": {
        "id": "JfAXOHahKwQT"
      },
      "source": [
        "# K-Means Clustering"
      ]
    },
    {
      "cell_type": "markdown",
      "metadata": {
        "id": "GEUwIeyCEkYo"
      },
      "source": [
        "##Finding the optimal number of clusters"
      ]
    },
    {
      "cell_type": "code",
      "metadata": {
        "id": "j2bPJ3NxJZL9",
        "colab": {
          "base_uri": "https://localhost:8080/",
          "height": 295
        },
        "outputId": "342fa1d7-82b6-47c9-f1b6-85677f01aa32"
      },
      "source": [
        "#modeling\n",
        "from sklearn.cluster import KMeans\n",
        "sse = {}\n",
        "for k in range(1, 11):\n",
        "    kmeans = KMeans(n_clusters=k, random_state=42,n_init=10).fit(customers)\n",
        "    sse[k] = kmeans.inertia_ # SSE to closest cluster centroid\n",
        "#inertia is the mean squared distance between each instance and its closest centroid\n",
        "\n",
        "\n",
        "plt.title(\"The Elbow Method\")\n",
        "plt.xlabel('K')\n",
        "plt.ylabel(\"SSE\")\n",
        "sns.pointplot(x=list(sse.keys()), y=list(sse.values()))\n",
        "plt.show()"
      ],
      "execution_count": 29,
      "outputs": [
        {
          "output_type": "display_data",
          "data": {
            "image/png": "[encoded data removed]",
            "text/plain": [
              "<Figure size 432x288 with 1 Axes>"
            ]
          },
          "metadata": {
            "tags": [],
            "needs_background": "light"
          }
        }
      ]
    },
    {
      "cell_type": "markdown",
      "metadata": {
        "id": "_GiwV5EsCmS9"
      },
      "source": [
        "**Based on our observation, the k-value of 2 is the best hyperparameter for our model because the next k-value tend to have a linear trend.**"
      ]
    },
    {
      "cell_type": "code",
      "metadata": {
        "id": "TUBqejMdOORM",
        "colab": {
          "base_uri": "https://localhost:8080/"
        },
        "outputId": "89a27b26-4a71-410e-f457-d33bc8106fa5"
      },
      "source": [
        "cluster=KMeans(n_clusters=2,random_state=42)\n",
        "cluster.fit_transform(customers)\n",
        "y_pred = cluster.fit_predict(customers)\n",
        "y_pred.shape, cluster.labels_.shape\n",
        "#The KMeans instance preserves a copy of the labels of the instances it was trained on, \n",
        "#available via the labels_ instance variable"
      ],
      "execution_count": 30,
      "outputs": [
        {
          "output_type": "execute_result",
          "data": {
            "text/plain": [
              "((4339,), (4339,))"
            ]
          },
          "metadata": {
            "tags": []
          },
          "execution_count": 30
        }
      ]
    },
    {
      "cell_type": "markdown",
      "metadata": {
        "id": "v1P5ofrhEY8x"
      },
      "source": [
        "**The score() method returns the negative inertia. Why negative? Because a predictor’s score() method must\n",
        "always respect Scikit-Learn’s “greater is better” rule: if a predictor is better than another, its score() method\n",
        "should return a greater score.**"
      ]
    },
    {
      "cell_type": "code",
      "metadata": {
        "id": "2hr7IPC_OZta",
        "colab": {
          "base_uri": "https://localhost:8080/"
        },
        "outputId": "2c47c9ba-0192-440d-c892-48560a2b0269"
      },
      "source": [
        "cluster.score(customers), print(\"Unique labels: {}\".format(np.unique(y_pred)))"
      ],
      "execution_count": 31,
      "outputs": [
        {
          "output_type": "stream",
          "text": [
            "Unique labels: [0 1]\n"
          ],
          "name": "stdout"
        },
        {
          "output_type": "execute_result",
          "data": {
            "text/plain": [
              "(-6750.088761618675, None)"
            ]
          },
          "metadata": {
            "tags": []
          },
          "execution_count": 31
        }
      ]
    },
    {
      "cell_type": "markdown",
      "metadata": {
        "id": "Ucsfr5BLE84B"
      },
      "source": [
        "## Model Evaludation - Silhousette Score"
      ]
    },
    {
      "cell_type": "code",
      "metadata": {
        "id": "jxjTaFEBFAsx",
        "colab": {
          "base_uri": "https://localhost:8080/"
        },
        "outputId": "0c036929-ce11-40c6-a13a-7a37ce989f3d"
      },
      "source": [
        "from sklearn.metrics import silhouette_score\n",
        "silhouette_score(customers,cluster.labels_)"
      ],
      "execution_count": 32,
      "outputs": [
        {
          "output_type": "execute_result",
          "data": {
            "text/plain": [
              "0.3969472752885103"
            ]
          },
          "metadata": {
            "tags": []
          },
          "execution_count": 32
        }
      ]
    },
    {
      "cell_type": "markdown",
      "metadata": {
        "id": "hqkCIbw7u_Ty"
      },
      "source": [
        "## RFM Segmentations"
      ]
    },
    {
      "cell_type": "code",
      "metadata": {
        "id": "XjlSjQfcvJ14",
        "colab": {
          "base_uri": "https://localhost:8080/",
          "height": 419
        },
        "outputId": "575c8ed4-5b53-432e-e002-c67c882b1e6c"
      },
      "source": [
        "recency_score = pd.qcut(customers.Recency, q=3,labels=range(1,4))\n",
        "frequency_score = pd.qcut(customers.Frequency, q=3,labels=range(1,4))\n",
        "monetary_score = pd.qcut(customers.MonetaryValue, q=3,labels=range(1,4))\n",
        "customers=customers.assign(R=recency_score.values, F=frequency_score.values,M=monetary_score.values )\n",
        "customers"
      ],
      "execution_count": 33,
      "outputs": [
        {
          "output_type": "execute_result",
          "data": {
            "text/html": [
              "<div>\n",
              "<style scoped>\n",
              "    .dataframe tbody tr th:only-of-type {\n",
              "        vertical-align: middle;\n",
              "    }\n",
              "\n",
              "    .dataframe tbody tr th {\n",
              "        vertical-align: top;\n",
              "    }\n",
              "\n",
              "    .dataframe thead th {\n",
              "        text-align: right;\n",
              "    }\n",
              "</style>\n",
              "<table border=\"1\" class=\"dataframe\">\n",
              "  <thead>\n",
              "    <tr style=\"text-align: right;\">\n",
              "      <th></th>\n",
              "      <th>Recency</th>\n",
              "      <th>Frequency</th>\n",
              "      <th>MonetaryValue</th>\n",
              "      <th>R</th>\n",
              "      <th>F</th>\n",
              "      <th>M</th>\n",
              "    </tr>\n",
              "  </thead>\n",
              "  <tbody>\n",
              "    <tr>\n",
              "      <th>0</th>\n",
              "      <td>1.614124</td>\n",
              "      <td>-2.420116</td>\n",
              "      <td>3.193082</td>\n",
              "      <td>3</td>\n",
              "      <td>1</td>\n",
              "      <td>3</td>\n",
              "    </tr>\n",
              "    <tr>\n",
              "      <th>1</th>\n",
              "      <td>-1.729289</td>\n",
              "      <td>1.178407</td>\n",
              "      <td>1.377477</td>\n",
              "      <td>1</td>\n",
              "      <td>3</td>\n",
              "      <td>3</td>\n",
              "    </tr>\n",
              "    <tr>\n",
              "      <th>2</th>\n",
              "      <td>0.307296</td>\n",
              "      <td>-0.219010</td>\n",
              "      <td>0.745038</td>\n",
              "      <td>2</td>\n",
              "      <td>2</td>\n",
              "      <td>3</td>\n",
              "    </tr>\n",
              "    <tr>\n",
              "      <th>3</th>\n",
              "      <td>-0.714932</td>\n",
              "      <td>0.451547</td>\n",
              "      <td>0.728345</td>\n",
              "      <td>1</td>\n",
              "      <td>2</td>\n",
              "      <td>3</td>\n",
              "    </tr>\n",
              "    <tr>\n",
              "      <th>4</th>\n",
              "      <td>1.567863</td>\n",
              "      <td>-0.677875</td>\n",
              "      <td>-0.592290</td>\n",
              "      <td>3</td>\n",
              "      <td>1</td>\n",
              "      <td>1</td>\n",
              "    </tr>\n",
              "    <tr>\n",
              "      <th>...</th>\n",
              "      <td>...</td>\n",
              "      <td>...</td>\n",
              "      <td>...</td>\n",
              "      <td>...</td>\n",
              "      <td>...</td>\n",
              "      <td>...</td>\n",
              "    </tr>\n",
              "    <tr>\n",
              "      <th>4334</th>\n",
              "      <td>1.458820</td>\n",
              "      <td>-1.069762</td>\n",
              "      <td>-1.124451</td>\n",
              "      <td>3</td>\n",
              "      <td>1</td>\n",
              "      <td>1</td>\n",
              "    </tr>\n",
              "    <tr>\n",
              "      <th>4335</th>\n",
              "      <td>1.055919</td>\n",
              "      <td>-1.322743</td>\n",
              "      <td>-1.853628</td>\n",
              "      <td>3</td>\n",
              "      <td>1</td>\n",
              "      <td>1</td>\n",
              "    </tr>\n",
              "    <tr>\n",
              "      <th>4336</th>\n",
              "      <td>-1.243771</td>\n",
              "      <td>-0.936920</td>\n",
              "      <td>-1.137008</td>\n",
              "      <td>1</td>\n",
              "      <td>1</td>\n",
              "      <td>1</td>\n",
              "    </tr>\n",
              "    <tr>\n",
              "      <th>4337</th>\n",
              "      <td>-1.600575</td>\n",
              "      <td>2.323804</td>\n",
              "      <td>0.858842</td>\n",
              "      <td>1</td>\n",
              "      <td>3</td>\n",
              "      <td>3</td>\n",
              "    </tr>\n",
              "    <tr>\n",
              "      <th>4338</th>\n",
              "      <td>-0.138121</td>\n",
              "      <td>0.418390</td>\n",
              "      <td>0.761481</td>\n",
              "      <td>2</td>\n",
              "      <td>2</td>\n",
              "      <td>3</td>\n",
              "    </tr>\n",
              "  </tbody>\n",
              "</table>\n",
              "<p>4339 rows × 6 columns</p>\n",
              "</div>"
            ],
            "text/plain": [
              "       Recency  Frequency  MonetaryValue  R  F  M\n",
              "0     1.614124  -2.420116       3.193082  3  1  3\n",
              "1    -1.729289   1.178407       1.377477  1  3  3\n",
              "2     0.307296  -0.219010       0.745038  2  2  3\n",
              "3    -0.714932   0.451547       0.728345  1  2  3\n",
              "4     1.567863  -0.677875      -0.592290  3  1  1\n",
              "...        ...        ...            ... .. .. ..\n",
              "4334  1.458820  -1.069762      -1.124451  3  1  1\n",
              "4335  1.055919  -1.322743      -1.853628  3  1  1\n",
              "4336 -1.243771  -0.936920      -1.137008  1  1  1\n",
              "4337 -1.600575   2.323804       0.858842  1  3  3\n",
              "4338 -0.138121   0.418390       0.761481  2  2  3\n",
              "\n",
              "[4339 rows x 6 columns]"
            ]
          },
          "metadata": {
            "tags": []
          },
          "execution_count": 33
        }
      ]
    },
    {
      "cell_type": "markdown",
      "metadata": {
        "id": "cLBhBrtXxHvJ"
      },
      "source": [
        "## RFM Score"
      ]
    },
    {
      "cell_type": "code",
      "metadata": {
        "id": "NCiU40THyWyv",
        "colab": {
          "base_uri": "https://localhost:8080/",
          "height": 204
        },
        "outputId": "d3e06270-8daa-404c-ec40-54270ef97d15"
      },
      "source": [
        "def rfm_score(row):\n",
        "  return str(row[\"R\"]) + str(row[\"F\"])+str(row[\"M\"])\n",
        "customers[\"RFM_Score\"]=customers.apply(rfm_score,axis=1)\n",
        "customers.sort_values(\"RFM_Score\", ascending=False).head()"
      ],
      "execution_count": 34,
      "outputs": [
        {
          "output_type": "execute_result",
          "data": {
            "text/html": [
              "<div>\n",
              "<style scoped>\n",
              "    .dataframe tbody tr th:only-of-type {\n",
              "        vertical-align: middle;\n",
              "    }\n",
              "\n",
              "    .dataframe tbody tr th {\n",
              "        vertical-align: top;\n",
              "    }\n",
              "\n",
              "    .dataframe thead th {\n",
              "        text-align: right;\n",
              "    }\n",
              "</style>\n",
              "<table border=\"1\" class=\"dataframe\">\n",
              "  <thead>\n",
              "    <tr style=\"text-align: right;\">\n",
              "      <th></th>\n",
              "      <th>Recency</th>\n",
              "      <th>Frequency</th>\n",
              "      <th>MonetaryValue</th>\n",
              "      <th>R</th>\n",
              "      <th>F</th>\n",
              "      <th>M</th>\n",
              "      <th>RFM_Score</th>\n",
              "    </tr>\n",
              "  </thead>\n",
              "  <tbody>\n",
              "    <tr>\n",
              "      <th>1936</th>\n",
              "      <td>0.661318</td>\n",
              "      <td>0.812077</td>\n",
              "      <td>0.677230</td>\n",
              "      <td>3</td>\n",
              "      <td>3</td>\n",
              "      <td>3</td>\n",
              "      <td>3.03.03.0</td>\n",
              "    </tr>\n",
              "    <tr>\n",
              "      <th>2715</th>\n",
              "      <td>0.690578</td>\n",
              "      <td>0.553137</td>\n",
              "      <td>0.523757</td>\n",
              "      <td>3</td>\n",
              "      <td>3</td>\n",
              "      <td>3</td>\n",
              "      <td>3.03.03.0</td>\n",
              "    </tr>\n",
              "    <tr>\n",
              "      <th>1297</th>\n",
              "      <td>1.318297</td>\n",
              "      <td>0.462303</td>\n",
              "      <td>0.480042</td>\n",
              "      <td>3</td>\n",
              "      <td>3</td>\n",
              "      <td>3</td>\n",
              "      <td>3.03.03.0</td>\n",
              "    </tr>\n",
              "    <tr>\n",
              "      <th>335</th>\n",
              "      <td>0.668714</td>\n",
              "      <td>0.676759</td>\n",
              "      <td>1.068596</td>\n",
              "      <td>3</td>\n",
              "      <td>3</td>\n",
              "      <td>3</td>\n",
              "      <td>3.03.03.0</td>\n",
              "    </tr>\n",
              "    <tr>\n",
              "      <th>1759</th>\n",
              "      <td>1.138362</td>\n",
              "      <td>0.608456</td>\n",
              "      <td>0.582468</td>\n",
              "      <td>3</td>\n",
              "      <td>3</td>\n",
              "      <td>3</td>\n",
              "      <td>3.03.03.0</td>\n",
              "    </tr>\n",
              "  </tbody>\n",
              "</table>\n",
              "</div>"
            ],
            "text/plain": [
              "       Recency  Frequency  MonetaryValue  R  F  M  RFM_Score\n",
              "1936  0.661318   0.812077       0.677230  3  3  3  3.03.03.0\n",
              "2715  0.690578   0.553137       0.523757  3  3  3  3.03.03.0\n",
              "1297  1.318297   0.462303       0.480042  3  3  3  3.03.03.0\n",
              "335   0.668714   0.676759       1.068596  3  3  3  3.03.03.0\n",
              "1759  1.138362   0.608456       0.582468  3  3  3  3.03.03.0"
            ]
          },
          "metadata": {
            "tags": []
          },
          "execution_count": 34
        }
      ]
    },
    {
      "cell_type": "code",
      "metadata": {
        "id": "Ic2FZhDyxGsz",
        "colab": {
          "base_uri": "https://localhost:8080/",
          "height": 49
        },
        "outputId": "65b2c3f7-62d5-4d0e-bac0-55ffb7bc674f"
      },
      "source": [
        "customers.query('RFM_Score==\"333\"').sort_values(\"MonetaryValue\", ascending=False)"
      ],
      "execution_count": 35,
      "outputs": [
        {
          "output_type": "execute_result",
          "data": {
            "text/html": [
              "<div>\n",
              "<style scoped>\n",
              "    .dataframe tbody tr th:only-of-type {\n",
              "        vertical-align: middle;\n",
              "    }\n",
              "\n",
              "    .dataframe tbody tr th {\n",
              "        vertical-align: top;\n",
              "    }\n",
              "\n",
              "    .dataframe thead th {\n",
              "        text-align: right;\n",
              "    }\n",
              "</style>\n",
              "<table border=\"1\" class=\"dataframe\">\n",
              "  <thead>\n",
              "    <tr style=\"text-align: right;\">\n",
              "      <th></th>\n",
              "      <th>Recency</th>\n",
              "      <th>Frequency</th>\n",
              "      <th>MonetaryValue</th>\n",
              "      <th>R</th>\n",
              "      <th>F</th>\n",
              "      <th>M</th>\n",
              "      <th>RFM_Score</th>\n",
              "    </tr>\n",
              "  </thead>\n",
              "  <tbody>\n",
              "  </tbody>\n",
              "</table>\n",
              "</div>"
            ],
            "text/plain": [
              "Empty DataFrame\n",
              "Columns: [Recency, Frequency, MonetaryValue, R, F, M, RFM_Score]\n",
              "Index: []"
            ]
          },
          "metadata": {
            "tags": []
          },
          "execution_count": 35
        }
      ]
    },
    {
      "cell_type": "code",
      "metadata": {
        "id": "Z8fW4UGuABcW",
        "colab": {
          "base_uri": "https://localhost:8080/",
          "height": 450
        },
        "outputId": "eb1d1b5a-e97e-4b71-ce14-3a324136036e"
      },
      "source": [
        "df.query('CustomerID == \"16180\"').groupby(\"StockCode\").sum().sort_values(\"Quantity\", ascending=False)"
      ],
      "execution_count": 36,
      "outputs": [
        {
          "output_type": "execute_result",
          "data": {
            "text/html": [
              "<div>\n",
              "<style scoped>\n",
              "    .dataframe tbody tr th:only-of-type {\n",
              "        vertical-align: middle;\n",
              "    }\n",
              "\n",
              "    .dataframe tbody tr th {\n",
              "        vertical-align: top;\n",
              "    }\n",
              "\n",
              "    .dataframe thead th {\n",
              "        text-align: right;\n",
              "    }\n",
              "</style>\n",
              "<table border=\"1\" class=\"dataframe\">\n",
              "  <thead>\n",
              "    <tr style=\"text-align: right;\">\n",
              "      <th></th>\n",
              "      <th>Quantity</th>\n",
              "      <th>UnitPrice</th>\n",
              "      <th>TotalSpend</th>\n",
              "    </tr>\n",
              "    <tr>\n",
              "      <th>StockCode</th>\n",
              "      <th></th>\n",
              "      <th></th>\n",
              "      <th></th>\n",
              "    </tr>\n",
              "  </thead>\n",
              "  <tbody>\n",
              "    <tr>\n",
              "      <th>23203</th>\n",
              "      <td>500</td>\n",
              "      <td>8.95</td>\n",
              "      <td>895.00</td>\n",
              "    </tr>\n",
              "    <tr>\n",
              "      <th>23199</th>\n",
              "      <td>500</td>\n",
              "      <td>8.95</td>\n",
              "      <td>895.00</td>\n",
              "    </tr>\n",
              "    <tr>\n",
              "      <th>23202</th>\n",
              "      <td>500</td>\n",
              "      <td>8.95</td>\n",
              "      <td>895.00</td>\n",
              "    </tr>\n",
              "    <tr>\n",
              "      <th>85099B</th>\n",
              "      <td>410</td>\n",
              "      <td>8.97</td>\n",
              "      <td>721.50</td>\n",
              "    </tr>\n",
              "    <tr>\n",
              "      <th>23200</th>\n",
              "      <td>400</td>\n",
              "      <td>7.16</td>\n",
              "      <td>716.00</td>\n",
              "    </tr>\n",
              "    <tr>\n",
              "      <th>...</th>\n",
              "      <td>...</td>\n",
              "      <td>...</td>\n",
              "      <td>...</td>\n",
              "    </tr>\n",
              "    <tr>\n",
              "      <th>23091</th>\n",
              "      <td>3</td>\n",
              "      <td>6.25</td>\n",
              "      <td>18.75</td>\n",
              "    </tr>\n",
              "    <tr>\n",
              "      <th>21754</th>\n",
              "      <td>3</td>\n",
              "      <td>5.95</td>\n",
              "      <td>17.85</td>\n",
              "    </tr>\n",
              "    <tr>\n",
              "      <th>21745</th>\n",
              "      <td>3</td>\n",
              "      <td>3.75</td>\n",
              "      <td>11.25</td>\n",
              "    </tr>\n",
              "    <tr>\n",
              "      <th>22926</th>\n",
              "      <td>2</td>\n",
              "      <td>5.95</td>\n",
              "      <td>11.90</td>\n",
              "    </tr>\n",
              "    <tr>\n",
              "      <th>22485</th>\n",
              "      <td>2</td>\n",
              "      <td>12.75</td>\n",
              "      <td>25.50</td>\n",
              "    </tr>\n",
              "  </tbody>\n",
              "</table>\n",
              "<p>90 rows × 3 columns</p>\n",
              "</div>"
            ],
            "text/plain": [
              "           Quantity  UnitPrice  TotalSpend\n",
              "StockCode                                 \n",
              "23203           500       8.95      895.00\n",
              "23199           500       8.95      895.00\n",
              "23202           500       8.95      895.00\n",
              "85099B          410       8.97      721.50\n",
              "23200           400       7.16      716.00\n",
              "...             ...        ...         ...\n",
              "23091             3       6.25       18.75\n",
              "21754             3       5.95       17.85\n",
              "21745             3       3.75       11.25\n",
              "22926             2       5.95       11.90\n",
              "22485             2      12.75       25.50\n",
              "\n",
              "[90 rows x 3 columns]"
            ]
          },
          "metadata": {
            "tags": []
          },
          "execution_count": 36
        }
      ]
    },
    {
      "cell_type": "code",
      "metadata": {
        "id": "6-y85iJyHEVO",
        "colab": {
          "base_uri": "https://localhost:8080/",
          "height": 886
        },
        "outputId": "171f7cd5-f7fb-4d7c-c0c9-5d4cd35a7291"
      },
      "source": [
        "RFM_count=pd.DataFrame(customers.RFM_Score.value_counts()).reset_index().rename(columns = {\"index\":\"RFM_Sore\", \"RFM_Score\":\"Count\"})\n",
        "RFM_count"
      ],
      "execution_count": 37,
      "outputs": [
        {
          "output_type": "execute_result",
          "data": {
            "text/html": [
              "<div>\n",
              "<style scoped>\n",
              "    .dataframe tbody tr th:only-of-type {\n",
              "        vertical-align: middle;\n",
              "    }\n",
              "\n",
              "    .dataframe tbody tr th {\n",
              "        vertical-align: top;\n",
              "    }\n",
              "\n",
              "    .dataframe thead th {\n",
              "        text-align: right;\n",
              "    }\n",
              "</style>\n",
              "<table border=\"1\" class=\"dataframe\">\n",
              "  <thead>\n",
              "    <tr style=\"text-align: right;\">\n",
              "      <th></th>\n",
              "      <th>RFM_Sore</th>\n",
              "      <th>Count</th>\n",
              "    </tr>\n",
              "  </thead>\n",
              "  <tbody>\n",
              "    <tr>\n",
              "      <th>0</th>\n",
              "      <td>1.03.03.0</td>\n",
              "      <td>692</td>\n",
              "    </tr>\n",
              "    <tr>\n",
              "      <th>1</th>\n",
              "      <td>3.01.01.0</td>\n",
              "      <td>643</td>\n",
              "    </tr>\n",
              "    <tr>\n",
              "      <th>2</th>\n",
              "      <td>2.03.03.0</td>\n",
              "      <td>339</td>\n",
              "    </tr>\n",
              "    <tr>\n",
              "      <th>3</th>\n",
              "      <td>2.02.02.0</td>\n",
              "      <td>339</td>\n",
              "    </tr>\n",
              "    <tr>\n",
              "      <th>4</th>\n",
              "      <td>2.01.01.0</td>\n",
              "      <td>289</td>\n",
              "    </tr>\n",
              "    <tr>\n",
              "      <th>5</th>\n",
              "      <td>3.02.02.0</td>\n",
              "      <td>275</td>\n",
              "    </tr>\n",
              "    <tr>\n",
              "      <th>6</th>\n",
              "      <td>1.02.02.0</td>\n",
              "      <td>238</td>\n",
              "    </tr>\n",
              "    <tr>\n",
              "      <th>7</th>\n",
              "      <td>1.01.01.0</td>\n",
              "      <td>167</td>\n",
              "    </tr>\n",
              "    <tr>\n",
              "      <th>8</th>\n",
              "      <td>3.01.02.0</td>\n",
              "      <td>147</td>\n",
              "    </tr>\n",
              "    <tr>\n",
              "      <th>9</th>\n",
              "      <td>3.02.01.0</td>\n",
              "      <td>134</td>\n",
              "    </tr>\n",
              "    <tr>\n",
              "      <th>10</th>\n",
              "      <td>1.03.02.0</td>\n",
              "      <td>127</td>\n",
              "    </tr>\n",
              "    <tr>\n",
              "      <th>11</th>\n",
              "      <td>2.01.02.0</td>\n",
              "      <td>108</td>\n",
              "    </tr>\n",
              "    <tr>\n",
              "      <th>12</th>\n",
              "      <td>1.02.03.0</td>\n",
              "      <td>104</td>\n",
              "    </tr>\n",
              "    <tr>\n",
              "      <th>13</th>\n",
              "      <td>2.02.01.0</td>\n",
              "      <td>103</td>\n",
              "    </tr>\n",
              "    <tr>\n",
              "      <th>14</th>\n",
              "      <td>2.03.02.0</td>\n",
              "      <td>99</td>\n",
              "    </tr>\n",
              "    <tr>\n",
              "      <th>15</th>\n",
              "      <td>2.02.03.0</td>\n",
              "      <td>94</td>\n",
              "    </tr>\n",
              "    <tr>\n",
              "      <th>16</th>\n",
              "      <td>3.03.03.0</td>\n",
              "      <td>86</td>\n",
              "    </tr>\n",
              "    <tr>\n",
              "      <th>17</th>\n",
              "      <td>1.02.01.0</td>\n",
              "      <td>70</td>\n",
              "    </tr>\n",
              "    <tr>\n",
              "      <th>18</th>\n",
              "      <td>3.03.02.0</td>\n",
              "      <td>59</td>\n",
              "    </tr>\n",
              "    <tr>\n",
              "      <th>19</th>\n",
              "      <td>1.01.02.0</td>\n",
              "      <td>54</td>\n",
              "    </tr>\n",
              "    <tr>\n",
              "      <th>20</th>\n",
              "      <td>3.02.03.0</td>\n",
              "      <td>51</td>\n",
              "    </tr>\n",
              "    <tr>\n",
              "      <th>21</th>\n",
              "      <td>3.01.03.0</td>\n",
              "      <td>33</td>\n",
              "    </tr>\n",
              "    <tr>\n",
              "      <th>22</th>\n",
              "      <td>2.01.03.0</td>\n",
              "      <td>24</td>\n",
              "    </tr>\n",
              "    <tr>\n",
              "      <th>23</th>\n",
              "      <td>1.01.03.0</td>\n",
              "      <td>23</td>\n",
              "    </tr>\n",
              "    <tr>\n",
              "      <th>24</th>\n",
              "      <td>2.03.01.0</td>\n",
              "      <td>15</td>\n",
              "    </tr>\n",
              "    <tr>\n",
              "      <th>25</th>\n",
              "      <td>1.03.01.0</td>\n",
              "      <td>13</td>\n",
              "    </tr>\n",
              "    <tr>\n",
              "      <th>26</th>\n",
              "      <td>3.03.01.0</td>\n",
              "      <td>13</td>\n",
              "    </tr>\n",
              "  </tbody>\n",
              "</table>\n",
              "</div>"
            ],
            "text/plain": [
              "     RFM_Sore  Count\n",
              "0   1.03.03.0    692\n",
              "1   3.01.01.0    643\n",
              "2   2.03.03.0    339\n",
              "3   2.02.02.0    339\n",
              "4   2.01.01.0    289\n",
              "5   3.02.02.0    275\n",
              "6   1.02.02.0    238\n",
              "7   1.01.01.0    167\n",
              "8   3.01.02.0    147\n",
              "9   3.02.01.0    134\n",
              "10  1.03.02.0    127\n",
              "11  2.01.02.0    108\n",
              "12  1.02.03.0    104\n",
              "13  2.02.01.0    103\n",
              "14  2.03.02.0     99\n",
              "15  2.02.03.0     94\n",
              "16  3.03.03.0     86\n",
              "17  1.02.01.0     70\n",
              "18  3.03.02.0     59\n",
              "19  1.01.02.0     54\n",
              "20  3.02.03.0     51\n",
              "21  3.01.03.0     33\n",
              "22  2.01.03.0     24\n",
              "23  1.01.03.0     23\n",
              "24  2.03.01.0     15\n",
              "25  1.03.01.0     13\n",
              "26  3.03.01.0     13"
            ]
          },
          "metadata": {
            "tags": []
          },
          "execution_count": 37
        }
      ]
    },
    {
      "cell_type": "code",
      "metadata": {
        "id": "MmV2aUu5Juee",
        "colab": {
          "base_uri": "https://localhost:8080/",
          "height": 515
        },
        "outputId": "3e3905db-c9c1-44c0-9eb7-d6f378aa6941"
      },
      "source": [
        "plt.figure(figsize=(15,8))\n",
        "sns.barplot(data=RFM_count, x='RFM_Sore', y='Count',palette=\"Greens_d\")"
      ],
      "execution_count": 38,
      "outputs": [
        {
          "output_type": "execute_result",
          "data": {
            "text/plain": [
              "<matplotlib.axes._subplots.AxesSubplot at 0x7f39d1b49748>"
            ]
          },
          "metadata": {
            "tags": []
          },
          "execution_count": 38
        },
        {
          "output_type": "display_data",
          "data": {
            "image/png": "[encoded data removed]",
            "text/plain": [
              "<Figure size 1080x576 with 1 Axes>"
            ]
          },
          "metadata": {
            "tags": [],
            "needs_background": "light"
          }
        }
      ]
    },
    {
      "cell_type": "code",
      "metadata": {
        "id": "bK_fb5OjAq9Y",
        "colab": {
          "base_uri": "https://localhost:8080/",
          "height": 419
        },
        "outputId": "d3041d54-85e6-4632-a0c4-8d2f9b2c4f88"
      },
      "source": [
        "def rfm_levels(customers):\n",
        "  if customers[\"RFM_Score\"]==\"313\":\n",
        "    return \"Best Customer\"\n",
        "  elif customers[\"RFM_Score\"]==\"111\":\n",
        "    return \"Lost Cheap Customer\"\n",
        "  elif customers[\"RFM_Score\"]==\"133\":\n",
        "    return \"Lost Customer\"\n",
        "  elif customers[\"RFM_Score\"]==\"233\":\n",
        "    return \"Almost Lost Customer\"\n",
        "  elif customers[\"RFM_Score\"]==\"311\":\n",
        "    return \"New Customers\"\n",
        "  elif customers[\"F\"]==3:\n",
        "     return \"Loyal Customer\"\n",
        "  elif customers[\"M\"]==3:\n",
        "     return \"Big Spender\"\n",
        "  else:\n",
        "     return \"Others\"\n",
        "customers[\"RFM_Level\"] = customers.apply(rfm_levels,axis=1)\n",
        "customers.iloc[:,6:]"
      ],
      "execution_count": 39,
      "outputs": [
        {
          "output_type": "execute_result",
          "data": {
            "text/html": [
              "<div>\n",
              "<style scoped>\n",
              "    .dataframe tbody tr th:only-of-type {\n",
              "        vertical-align: middle;\n",
              "    }\n",
              "\n",
              "    .dataframe tbody tr th {\n",
              "        vertical-align: top;\n",
              "    }\n",
              "\n",
              "    .dataframe thead th {\n",
              "        text-align: right;\n",
              "    }\n",
              "</style>\n",
              "<table border=\"1\" class=\"dataframe\">\n",
              "  <thead>\n",
              "    <tr style=\"text-align: right;\">\n",
              "      <th></th>\n",
              "      <th>RFM_Score</th>\n",
              "      <th>RFM_Level</th>\n",
              "    </tr>\n",
              "  </thead>\n",
              "  <tbody>\n",
              "    <tr>\n",
              "      <th>0</th>\n",
              "      <td>3.01.03.0</td>\n",
              "      <td>Big Spender</td>\n",
              "    </tr>\n",
              "    <tr>\n",
              "      <th>1</th>\n",
              "      <td>1.03.03.0</td>\n",
              "      <td>Loyal Customer</td>\n",
              "    </tr>\n",
              "    <tr>\n",
              "      <th>2</th>\n",
              "      <td>2.02.03.0</td>\n",
              "      <td>Big Spender</td>\n",
              "    </tr>\n",
              "    <tr>\n",
              "      <th>3</th>\n",
              "      <td>1.02.03.0</td>\n",
              "      <td>Big Spender</td>\n",
              "    </tr>\n",
              "    <tr>\n",
              "      <th>4</th>\n",
              "      <td>3.01.01.0</td>\n",
              "      <td>Others</td>\n",
              "    </tr>\n",
              "    <tr>\n",
              "      <th>...</th>\n",
              "      <td>...</td>\n",
              "      <td>...</td>\n",
              "    </tr>\n",
              "    <tr>\n",
              "      <th>4334</th>\n",
              "      <td>3.01.01.0</td>\n",
              "      <td>Others</td>\n",
              "    </tr>\n",
              "    <tr>\n",
              "      <th>4335</th>\n",
              "      <td>3.01.01.0</td>\n",
              "      <td>Others</td>\n",
              "    </tr>\n",
              "    <tr>\n",
              "      <th>4336</th>\n",
              "      <td>1.01.01.0</td>\n",
              "      <td>Others</td>\n",
              "    </tr>\n",
              "    <tr>\n",
              "      <th>4337</th>\n",
              "      <td>1.03.03.0</td>\n",
              "      <td>Loyal Customer</td>\n",
              "    </tr>\n",
              "    <tr>\n",
              "      <th>4338</th>\n",
              "      <td>2.02.03.0</td>\n",
              "      <td>Big Spender</td>\n",
              "    </tr>\n",
              "  </tbody>\n",
              "</table>\n",
              "<p>4339 rows × 2 columns</p>\n",
              "</div>"
            ],
            "text/plain": [
              "      RFM_Score       RFM_Level\n",
              "0     3.01.03.0     Big Spender\n",
              "1     1.03.03.0  Loyal Customer\n",
              "2     2.02.03.0     Big Spender\n",
              "3     1.02.03.0     Big Spender\n",
              "4     3.01.01.0          Others\n",
              "...         ...             ...\n",
              "4334  3.01.01.0          Others\n",
              "4335  3.01.01.0          Others\n",
              "4336  1.01.01.0          Others\n",
              "4337  1.03.03.0  Loyal Customer\n",
              "4338  2.02.03.0     Big Spender\n",
              "\n",
              "[4339 rows x 2 columns]"
            ]
          },
          "metadata": {
            "tags": []
          },
          "execution_count": 39
        }
      ]
    },
    {
      "cell_type": "code",
      "metadata": {
        "id": "6NGlG_cMI5cV",
        "colab": {
          "base_uri": "https://localhost:8080/",
          "height": 567
        },
        "outputId": "dabeac66-fc61-4160-b6af-6d017d616626"
      },
      "source": [
        "plt.figure(figsize=(15,8))\n",
        "customers.RFM_Level.value_counts().plot(kind=\"bar\")"
      ],
      "execution_count": 40,
      "outputs": [
        {
          "output_type": "execute_result",
          "data": {
            "text/plain": [
              "<matplotlib.axes._subplots.AxesSubplot at 0x7f39d1d8a898>"
            ]
          },
          "metadata": {
            "tags": []
          },
          "execution_count": 40
        },
        {
          "output_type": "display_data",
          "data": {
            "image/png": "[encoded data removed]",
            "text/plain": [
              "<Figure size 1080x576 with 1 Axes>"
            ]
          },
          "metadata": {
            "tags": [],
            "needs_background": "light"
          }
        }
      ]
    },
    {
      "cell_type": "code",
      "metadata": {
        "id": "y3n1FeqNKIVI"
      },
      "source": [
        ""
      ],
      "execution_count": 40,
      "outputs": []
    },
    {
      "cell_type": "code",
      "metadata": {
        "id": "4uiBYnn5KD0c",
        "colab": {
          "base_uri": "https://localhost:8080/"
        },
        "outputId": "20ce3e3b-1308-4645-ce9f-a5b6551459c8"
      },
      "source": [
        "customers.query('RFM_Level==\"Others\"').RFM_Score.value_counts()"
      ],
      "execution_count": 41,
      "outputs": [
        {
          "output_type": "execute_result",
          "data": {
            "text/plain": [
              "3.01.01.0    643\n",
              "2.02.02.0    339\n",
              "2.01.01.0    289\n",
              "3.02.02.0    275\n",
              "1.02.02.0    238\n",
              "1.01.01.0    167\n",
              "3.01.02.0    147\n",
              "3.02.01.0    134\n",
              "2.01.02.0    108\n",
              "2.02.01.0    103\n",
              "1.02.01.0     70\n",
              "1.01.02.0     54\n",
              "Name: RFM_Score, dtype: int64"
            ]
          },
          "metadata": {
            "tags": []
          },
          "execution_count": 41
        }
      ]
    },
    {
      "cell_type": "code",
      "metadata": {
        "id": "ACtytHV8H1Qe",
        "colab": {
          "base_uri": "https://localhost:8080/",
          "height": 204
        },
        "outputId": "3e2ee11b-b2ae-444c-ca47-4fcb1c849024"
      },
      "source": [
        "rfm_level_agg = customers.groupby('RFM_Level').agg({\n",
        "    'Recency': 'mean',\n",
        "    'Frequency': \"mean\",\n",
        "    'MonetaryValue': ['mean', 'count']\n",
        "}).round(2)\n",
        "rfm_level_agg"
      ],
      "execution_count": 42,
      "outputs": [
        {
          "output_type": "execute_result",
          "data": {
            "text/html": [
              "<div>\n",
              "<style scoped>\n",
              "    .dataframe tbody tr th:only-of-type {\n",
              "        vertical-align: middle;\n",
              "    }\n",
              "\n",
              "    .dataframe tbody tr th {\n",
              "        vertical-align: top;\n",
              "    }\n",
              "\n",
              "    .dataframe thead tr th {\n",
              "        text-align: left;\n",
              "    }\n",
              "\n",
              "    .dataframe thead tr:last-of-type th {\n",
              "        text-align: right;\n",
              "    }\n",
              "</style>\n",
              "<table border=\"1\" class=\"dataframe\">\n",
              "  <thead>\n",
              "    <tr>\n",
              "      <th></th>\n",
              "      <th>Recency</th>\n",
              "      <th>Frequency</th>\n",
              "      <th colspan=\"2\" halign=\"left\">MonetaryValue</th>\n",
              "    </tr>\n",
              "    <tr>\n",
              "      <th></th>\n",
              "      <th>mean</th>\n",
              "      <th>mean</th>\n",
              "      <th>mean</th>\n",
              "      <th>count</th>\n",
              "    </tr>\n",
              "    <tr>\n",
              "      <th>RFM_Level</th>\n",
              "      <th></th>\n",
              "      <th></th>\n",
              "      <th></th>\n",
              "      <th></th>\n",
              "    </tr>\n",
              "  </thead>\n",
              "  <tbody>\n",
              "    <tr>\n",
              "      <th>Big Spender</th>\n",
              "      <td>-0.17</td>\n",
              "      <td>-0.16</td>\n",
              "      <td>0.84</td>\n",
              "      <td>329</td>\n",
              "    </tr>\n",
              "    <tr>\n",
              "      <th>Loyal Customer</th>\n",
              "      <td>-0.61</td>\n",
              "      <td>1.09</td>\n",
              "      <td>0.89</td>\n",
              "      <td>1443</td>\n",
              "    </tr>\n",
              "    <tr>\n",
              "      <th>Others</th>\n",
              "      <td>0.36</td>\n",
              "      <td>-0.59</td>\n",
              "      <td>-0.61</td>\n",
              "      <td>2567</td>\n",
              "    </tr>\n",
              "  </tbody>\n",
              "</table>\n",
              "</div>"
            ],
            "text/plain": [
              "               Recency Frequency MonetaryValue      \n",
              "                  mean      mean          mean count\n",
              "RFM_Level                                           \n",
              "Big Spender      -0.17     -0.16          0.84   329\n",
              "Loyal Customer   -0.61      1.09          0.89  1443\n",
              "Others            0.36     -0.59         -0.61  2567"
            ]
          },
          "metadata": {
            "tags": []
          },
          "execution_count": 42
        }
      ]
    },
    {
      "cell_type": "markdown",
      "metadata": {
        "id": "FoEeMznlGePY"
      },
      "source": [
        "**RFM Table based on clusters**"
      ]
    },
    {
      "cell_type": "code",
      "metadata": {
        "id": "eAaFoEDSGdlO",
        "colab": {
          "base_uri": "https://localhost:8080/",
          "height": 173
        },
        "outputId": "95268694-9689-449e-be6d-209c7211e15e"
      },
      "source": [
        "customers[\"Cluster\"] = cluster.labels_\n",
        "customers.groupby(\"Cluster\").agg({\n",
        "    'Recency': 'mean',\n",
        "    'Frequency': \"mean\",\n",
        "    'MonetaryValue': ['mean', 'count']\n",
        "}).round(2)"
      ],
      "execution_count": 43,
      "outputs": [
        {
          "output_type": "execute_result",
          "data": {
            "text/html": [
              "<div>\n",
              "<style scoped>\n",
              "    .dataframe tbody tr th:only-of-type {\n",
              "        vertical-align: middle;\n",
              "    }\n",
              "\n",
              "    .dataframe tbody tr th {\n",
              "        vertical-align: top;\n",
              "    }\n",
              "\n",
              "    .dataframe thead tr th {\n",
              "        text-align: left;\n",
              "    }\n",
              "\n",
              "    .dataframe thead tr:last-of-type th {\n",
              "        text-align: right;\n",
              "    }\n",
              "</style>\n",
              "<table border=\"1\" class=\"dataframe\">\n",
              "  <thead>\n",
              "    <tr>\n",
              "      <th></th>\n",
              "      <th>Recency</th>\n",
              "      <th>Frequency</th>\n",
              "      <th colspan=\"2\" halign=\"left\">MonetaryValue</th>\n",
              "    </tr>\n",
              "    <tr>\n",
              "      <th></th>\n",
              "      <th>mean</th>\n",
              "      <th>mean</th>\n",
              "      <th>mean</th>\n",
              "      <th>count</th>\n",
              "    </tr>\n",
              "    <tr>\n",
              "      <th>Cluster</th>\n",
              "      <th></th>\n",
              "      <th></th>\n",
              "      <th></th>\n",
              "      <th></th>\n",
              "    </tr>\n",
              "  </thead>\n",
              "  <tbody>\n",
              "    <tr>\n",
              "      <th>0</th>\n",
              "      <td>0.59</td>\n",
              "      <td>-0.69</td>\n",
              "      <td>-0.67</td>\n",
              "      <td>2308</td>\n",
              "    </tr>\n",
              "    <tr>\n",
              "      <th>1</th>\n",
              "      <td>-0.67</td>\n",
              "      <td>0.78</td>\n",
              "      <td>0.76</td>\n",
              "      <td>2031</td>\n",
              "    </tr>\n",
              "  </tbody>\n",
              "</table>\n",
              "</div>"
            ],
            "text/plain": [
              "        Recency Frequency MonetaryValue      \n",
              "           mean      mean          mean count\n",
              "Cluster                                      \n",
              "0          0.59     -0.69         -0.67  2308\n",
              "1         -0.67      0.78          0.76  2031"
            ]
          },
          "metadata": {
            "tags": []
          },
          "execution_count": 43
        }
      ]
    },
    {
      "cell_type": "code",
      "metadata": {
        "id": "cPK2D7VyHmpy"
      },
      "source": [
        ""
      ],
      "execution_count": 43,
      "outputs": []
    },
    {
      "cell_type": "markdown",
      "metadata": {
        "id": "Jo-BnLnMHn7w"
      },
      "source": [
        "##snake plot"
      ]
    },
    {
      "cell_type": "code",
      "metadata": {
        "id": "lE-v1jK9HYWI",
        "colab": {
          "base_uri": "https://localhost:8080/",
          "height": 350
        },
        "outputId": "f4ddf5de-d52c-4e00-87b0-fad564bdddf7"
      },
      "source": [
        "# Create the dataframe\n",
        "df_normalized = pd.DataFrame(customers, columns=['Recency', 'Frequency', 'MonetaryValue'])\n",
        "df_normalized['ID'] = customers.index\n",
        "df_normalized['Cluster'] = cluster.labels_\n",
        "# Melt The Data\n",
        "df_nor_melt = pd.melt(df_normalized.reset_index(),\n",
        "                      id_vars=['ID', 'Cluster'],\n",
        "                      value_vars=['Recency','Frequency','MonetaryValue'],\n",
        "                      var_name='Attribute',\n",
        "                      value_name='Value')\n",
        "# Visualize it\n",
        "sns.lineplot('Attribute', 'Value', hue='Cluster', data=df_nor_melt)"
      ],
      "execution_count": 44,
      "outputs": [
        {
          "output_type": "stream",
          "text": [
            "/usr/local/lib/python3.6/dist-packages/seaborn/_decorators.py:43: FutureWarning: Pass the following variables as keyword args: x, y. From version 0.12, the only valid positional argument will be `data`, and passing other arguments without an explicit keyword will result in an error or misinterpretation.\n",
            "  FutureWarning\n"
          ],
          "name": "stderr"
        },
        {
          "output_type": "execute_result",
          "data": {
            "text/plain": [
              "<matplotlib.axes._subplots.AxesSubplot at 0x7f39d1e3eb38>"
            ]
          },
          "metadata": {
            "tags": []
          },
          "execution_count": 44
        },
        {
          "output_type": "display_data",
          "data": {
            "image/png": "[encoded data removed]",
            "text/plain": [
              "<Figure size 432x288 with 1 Axes>"
            ]
          },
          "metadata": {
            "tags": [],
            "needs_background": "light"
          }
        }
      ]
    },
    {
      "cell_type": "markdown",
      "metadata": {
        "id": "tXxhaAEq1RSb"
      },
      "source": [
        "##Frequency/Recency Analysis Using the BG/NBD Model from lifetime\n",
        "- BG/NBD model is available as BetaGeoFitter class in Lifetimes package"
      ]
    },
    {
      "cell_type": "code",
      "metadata": {
        "colab": {
          "base_uri": "https://localhost:8080/"
        },
        "id": "5Ikvn59l1OlZ",
        "outputId": "5bf67644-c99b-4cdc-b516-c6e3186dd4b0"
      },
      "source": [
        "pip install lifetimes\n"
      ],
      "execution_count": 45,
      "outputs": [
        {
          "output_type": "stream",
          "text": [
            "Requirement already satisfied: lifetimes in /usr/local/lib/python3.6/dist-packages (0.11.3)\n",
            "Requirement already satisfied: dill>=0.2.6 in /usr/local/lib/python3.6/dist-packages (from lifetimes) (0.3.3)\n",
            "Requirement already satisfied: scipy>=1.0.0 in /usr/local/lib/python3.6/dist-packages (from lifetimes) (1.4.1)\n",
            "Requirement already satisfied: pandas>=0.24.0 in /usr/local/lib/python3.6/dist-packages (from lifetimes) (1.1.5)\n",
            "Requirement already satisfied: numpy>=1.10.0 in /usr/local/lib/python3.6/dist-packages (from lifetimes) (1.19.5)\n",
            "Requirement already satisfied: autograd>=1.2.0 in /usr/local/lib/python3.6/dist-packages (from lifetimes) (1.3)\n",
            "Requirement already satisfied: pytz>=2017.2 in /usr/local/lib/python3.6/dist-packages (from pandas>=0.24.0->lifetimes) (2018.9)\n",
            "Requirement already satisfied: python-dateutil>=2.7.3 in /usr/local/lib/python3.6/dist-packages (from pandas>=0.24.0->lifetimes) (2.8.1)\n",
            "Requirement already satisfied: future>=0.15.2 in /usr/local/lib/python3.6/dist-packages (from autograd>=1.2.0->lifetimes) (0.16.0)\n",
            "Requirement already satisfied: six>=1.5 in /usr/local/lib/python3.6/dist-packages (from python-dateutil>=2.7.3->pandas>=0.24.0->lifetimes) (1.15.0)\n"
          ],
          "name": "stdout"
        }
      ]
    },
    {
      "cell_type": "code",
      "metadata": {
        "colab": {
          "base_uri": "https://localhost:8080/",
          "height": 235
        },
        "id": "I1d9BXQs5VeD",
        "outputId": "64a9452d-43da-4279-cdd9-30ababb6ada0"
      },
      "source": [
        "\n",
        "from lifetimes.utils import summary_data_from_transaction_data\n",
        "\n",
        "data = summary_data_from_transaction_data(df, 'CustomerID', 'InvoiceDate', monetary_value_col='TotalSpend', observation_period_end='2011-12-9')\n",
        "data.head()"
      ],
      "execution_count": 46,
      "outputs": [
        {
          "output_type": "execute_result",
          "data": {
            "text/html": [
              "<div>\n",
              "<style scoped>\n",
              "    .dataframe tbody tr th:only-of-type {\n",
              "        vertical-align: middle;\n",
              "    }\n",
              "\n",
              "    .dataframe tbody tr th {\n",
              "        vertical-align: top;\n",
              "    }\n",
              "\n",
              "    .dataframe thead th {\n",
              "        text-align: right;\n",
              "    }\n",
              "</style>\n",
              "<table border=\"1\" class=\"dataframe\">\n",
              "  <thead>\n",
              "    <tr style=\"text-align: right;\">\n",
              "      <th></th>\n",
              "      <th>frequency</th>\n",
              "      <th>recency</th>\n",
              "      <th>T</th>\n",
              "      <th>monetary_value</th>\n",
              "    </tr>\n",
              "    <tr>\n",
              "      <th>CustomerID</th>\n",
              "      <th></th>\n",
              "      <th></th>\n",
              "      <th></th>\n",
              "      <th></th>\n",
              "    </tr>\n",
              "  </thead>\n",
              "  <tbody>\n",
              "    <tr>\n",
              "      <th>12346</th>\n",
              "      <td>0.0</td>\n",
              "      <td>0.0</td>\n",
              "      <td>325.0</td>\n",
              "      <td>0.000000</td>\n",
              "    </tr>\n",
              "    <tr>\n",
              "      <th>12347</th>\n",
              "      <td>6.0</td>\n",
              "      <td>365.0</td>\n",
              "      <td>367.0</td>\n",
              "      <td>599.701667</td>\n",
              "    </tr>\n",
              "    <tr>\n",
              "      <th>12348</th>\n",
              "      <td>3.0</td>\n",
              "      <td>283.0</td>\n",
              "      <td>358.0</td>\n",
              "      <td>301.480000</td>\n",
              "    </tr>\n",
              "    <tr>\n",
              "      <th>12349</th>\n",
              "      <td>0.0</td>\n",
              "      <td>0.0</td>\n",
              "      <td>18.0</td>\n",
              "      <td>0.000000</td>\n",
              "    </tr>\n",
              "    <tr>\n",
              "      <th>12350</th>\n",
              "      <td>0.0</td>\n",
              "      <td>0.0</td>\n",
              "      <td>310.0</td>\n",
              "      <td>0.000000</td>\n",
              "    </tr>\n",
              "  </tbody>\n",
              "</table>\n",
              "</div>"
            ],
            "text/plain": [
              "            frequency  recency      T  monetary_value\n",
              "CustomerID                                           \n",
              "12346             0.0      0.0  325.0        0.000000\n",
              "12347             6.0    365.0  367.0      599.701667\n",
              "12348             3.0    283.0  358.0      301.480000\n",
              "12349             0.0      0.0   18.0        0.000000\n",
              "12350             0.0      0.0  310.0        0.000000"
            ]
          },
          "metadata": {
            "tags": []
          },
          "execution_count": 46
        }
      ]
    },
    {
      "cell_type": "code",
      "metadata": {
        "colab": {
          "base_uri": "https://localhost:8080/",
          "height": 190
        },
        "id": "NQg1UwlR2Dmu",
        "outputId": "87458332-3cd1-4ee9-ca9f-ef28cc0a2ae5"
      },
      "source": [
        "from lifetimes import BetaGeoFitter\n",
        "\n",
        "bgf = BetaGeoFitter(penalizer_coef=0.0)\n",
        "bgf.fit(data['frequency'], data['recency'], data['T'])\n",
        "print(bgf)\n",
        "bgf.summary"
      ],
      "execution_count": 47,
      "outputs": [
        {
          "output_type": "stream",
          "text": [
            "<lifetimes.BetaGeoFitter: fitted with 4339 subjects, a: 0.00, alpha: 68.89, b: 6.75, r: 0.83>\n"
          ],
          "name": "stdout"
        },
        {
          "output_type": "execute_result",
          "data": {
            "text/html": [
              "<div>\n",
              "<style scoped>\n",
              "    .dataframe tbody tr th:only-of-type {\n",
              "        vertical-align: middle;\n",
              "    }\n",
              "\n",
              "    .dataframe tbody tr th {\n",
              "        vertical-align: top;\n",
              "    }\n",
              "\n",
              "    .dataframe thead th {\n",
              "        text-align: right;\n",
              "    }\n",
              "</style>\n",
              "<table border=\"1\" class=\"dataframe\">\n",
              "  <thead>\n",
              "    <tr style=\"text-align: right;\">\n",
              "      <th></th>\n",
              "      <th>coef</th>\n",
              "      <th>se(coef)</th>\n",
              "      <th>lower 95% bound</th>\n",
              "      <th>upper 95% bound</th>\n",
              "    </tr>\n",
              "  </thead>\n",
              "  <tbody>\n",
              "    <tr>\n",
              "      <th>r</th>\n",
              "      <td>0.826433</td>\n",
              "      <td>0.026780</td>\n",
              "      <td>0.773944</td>\n",
              "      <td>0.878922</td>\n",
              "    </tr>\n",
              "    <tr>\n",
              "      <th>alpha</th>\n",
              "      <td>68.890678</td>\n",
              "      <td>2.611055</td>\n",
              "      <td>63.773011</td>\n",
              "      <td>74.008345</td>\n",
              "    </tr>\n",
              "    <tr>\n",
              "      <th>a</th>\n",
              "      <td>0.003443</td>\n",
              "      <td>0.010347</td>\n",
              "      <td>-0.016837</td>\n",
              "      <td>0.023722</td>\n",
              "    </tr>\n",
              "    <tr>\n",
              "      <th>b</th>\n",
              "      <td>6.749363</td>\n",
              "      <td>22.412933</td>\n",
              "      <td>-37.179985</td>\n",
              "      <td>50.678711</td>\n",
              "    </tr>\n",
              "  </tbody>\n",
              "</table>\n",
              "</div>"
            ],
            "text/plain": [
              "            coef   se(coef)  lower 95% bound  upper 95% bound\n",
              "r       0.826433   0.026780         0.773944         0.878922\n",
              "alpha  68.890678   2.611055        63.773011        74.008345\n",
              "a       0.003443   0.010347        -0.016837         0.023722\n",
              "b       6.749363  22.412933       -37.179985        50.678711"
            ]
          },
          "metadata": {
            "tags": []
          },
          "execution_count": 47
        }
      ]
    },
    {
      "cell_type": "code",
      "metadata": {
        "colab": {
          "base_uri": "https://localhost:8080/",
          "height": 235
        },
        "id": "z4fDbxQT3UXz",
        "outputId": "bc6e6baf-d918-4dab-df3a-23398872747c"
      },
      "source": [
        "future_horizon = 10000\n",
        "data['predicted_purchases'] = bgf.predict(\n",
        "    future_horizon,\n",
        "    data['frequency'],\n",
        "    data['recency'],\n",
        "    data['T'])\n",
        "data.head()"
      ],
      "execution_count": 48,
      "outputs": [
        {
          "output_type": "execute_result",
          "data": {
            "text/html": [
              "<div>\n",
              "<style scoped>\n",
              "    .dataframe tbody tr th:only-of-type {\n",
              "        vertical-align: middle;\n",
              "    }\n",
              "\n",
              "    .dataframe tbody tr th {\n",
              "        vertical-align: top;\n",
              "    }\n",
              "\n",
              "    .dataframe thead th {\n",
              "        text-align: right;\n",
              "    }\n",
              "</style>\n",
              "<table border=\"1\" class=\"dataframe\">\n",
              "  <thead>\n",
              "    <tr style=\"text-align: right;\">\n",
              "      <th></th>\n",
              "      <th>frequency</th>\n",
              "      <th>recency</th>\n",
              "      <th>T</th>\n",
              "      <th>monetary_value</th>\n",
              "      <th>predicted_purchases</th>\n",
              "    </tr>\n",
              "    <tr>\n",
              "      <th>CustomerID</th>\n",
              "      <th></th>\n",
              "      <th></th>\n",
              "      <th></th>\n",
              "      <th></th>\n",
              "      <th></th>\n",
              "    </tr>\n",
              "  </thead>\n",
              "  <tbody>\n",
              "    <tr>\n",
              "      <th>12346</th>\n",
              "      <td>0.0</td>\n",
              "      <td>0.0</td>\n",
              "      <td>325.0</td>\n",
              "      <td>0.000000</td>\n",
              "      <td>20.890131</td>\n",
              "    </tr>\n",
              "    <tr>\n",
              "      <th>12347</th>\n",
              "      <td>6.0</td>\n",
              "      <td>365.0</td>\n",
              "      <td>367.0</td>\n",
              "      <td>599.701667</td>\n",
              "      <td>155.547011</td>\n",
              "    </tr>\n",
              "    <tr>\n",
              "      <th>12348</th>\n",
              "      <td>3.0</td>\n",
              "      <td>283.0</td>\n",
              "      <td>358.0</td>\n",
              "      <td>301.480000</td>\n",
              "      <td>89.033247</td>\n",
              "    </tr>\n",
              "    <tr>\n",
              "      <th>12349</th>\n",
              "      <td>0.0</td>\n",
              "      <td>0.0</td>\n",
              "      <td>18.0</td>\n",
              "      <td>0.000000</td>\n",
              "      <td>94.324297</td>\n",
              "    </tr>\n",
              "    <tr>\n",
              "      <th>12350</th>\n",
              "      <td>0.0</td>\n",
              "      <td>0.0</td>\n",
              "      <td>310.0</td>\n",
              "      <td>0.000000</td>\n",
              "      <td>21.715263</td>\n",
              "    </tr>\n",
              "  </tbody>\n",
              "</table>\n",
              "</div>"
            ],
            "text/plain": [
              "            frequency  recency      T  monetary_value  predicted_purchases\n",
              "CustomerID                                                                \n",
              "12346             0.0      0.0  325.0        0.000000            20.890131\n",
              "12347             6.0    365.0  367.0      599.701667           155.547011\n",
              "12348             3.0    283.0  358.0      301.480000            89.033247\n",
              "12349             0.0      0.0   18.0        0.000000            94.324297\n",
              "12350             0.0      0.0  310.0        0.000000            21.715263"
            ]
          },
          "metadata": {
            "tags": []
          },
          "execution_count": 48
        }
      ]
    },
    {
      "cell_type": "code",
      "metadata": {
        "colab": {
          "base_uri": "https://localhost:8080/"
        },
        "id": "QjfUrJ0x9ts4",
        "outputId": "9cefcacd-3131-424a-84dd-86c384e62861"
      },
      "source": [
        "#compute the customer alive probability\n",
        "data['probability_alive'] = bgf.conditional_probability_alive(data[\"frequency\"],data[\"recency\"],data[\"T\"])\n",
        "data.probability_alive.describe()\n"
      ],
      "execution_count": 49,
      "outputs": [
        {
          "output_type": "execute_result",
          "data": {
            "text/plain": [
              "count    4339.000000\n",
              "mean        0.999005\n",
              "std         0.006941\n",
              "min         0.716230\n",
              "25%         0.999272\n",
              "50%         0.999584\n",
              "75%         1.000000\n",
              "max         1.000000\n",
              "Name: probability_alive, dtype: float64"
            ]
          },
          "metadata": {
            "tags": []
          },
          "execution_count": 49
        }
      ]
    },
    {
      "cell_type": "markdown",
      "metadata": {
        "id": "WM5pG8rR65ij"
      },
      "source": [
        "**Visualizing our Frequency/Recency Matrix**"
      ]
    },
    {
      "cell_type": "code",
      "metadata": {
        "colab": {
          "base_uri": "https://localhost:8080/",
          "height": 327
        },
        "id": "YxZB84tL682k",
        "outputId": "85750e62-de77-4d6c-859d-b595944e5029"
      },
      "source": [
        "from lifetimes.plotting import plot_frequency_recency_matrix\n",
        "\n",
        "plot_frequency_recency_matrix(bgf)"
      ],
      "execution_count": 50,
      "outputs": [
        {
          "output_type": "execute_result",
          "data": {
            "text/plain": [
              "<matplotlib.axes._subplots.AxesSubplot at 0x7f39e622d908>"
            ]
          },
          "metadata": {
            "tags": []
          },
          "execution_count": 50
        },
        {
          "output_type": "display_data",
          "data": {
            "image/png": "[encoded data removed]",
            "text/plain": [
              "<Figure size 432x288 with 2 Axes>"
            ]
          },
          "metadata": {
            "tags": [],
            "needs_background": "light"
          }
        }
      ]
    },
    {
      "cell_type": "markdown",
      "metadata": {
        "id": "5hAih-xb7f18"
      },
      "source": [
        "**Visualizing the still alive Matrix**"
      ]
    },
    {
      "cell_type": "code",
      "metadata": {
        "colab": {
          "base_uri": "https://localhost:8080/",
          "height": 327
        },
        "id": "atKGaU0-7n3F",
        "outputId": "54856f38-8485-4738-c475-a670690d72e5"
      },
      "source": [
        "from lifetimes.plotting import plot_probability_alive_matrix\n",
        "\n",
        "plot_probability_alive_matrix(bgf)"
      ],
      "execution_count": 51,
      "outputs": [
        {
          "output_type": "execute_result",
          "data": {
            "text/plain": [
              "<matplotlib.axes._subplots.AxesSubplot at 0x7f39d1f8ad68>"
            ]
          },
          "metadata": {
            "tags": []
          },
          "execution_count": 51
        },
        {
          "output_type": "display_data",
          "data": {
            "image/png": "[encoded data removed]",
            "text/plain": [
              "<Figure size 432x288 with 2 Axes>"
            ]
          },
          "metadata": {
            "tags": [],
            "needs_background": "light"
          }
        }
      ]
    },
    {
      "cell_type": "code",
      "metadata": {
        "colab": {
          "base_uri": "https://localhost:8080/",
          "height": 255
        },
        "id": "qcoNU-A179dz",
        "outputId": "d8131155-45ff-4293-c192-211aff6309ec"
      },
      "source": [
        "#predict future transaction for the next 30 days based on historical data\n",
        "t = 30\n",
        "data['predicted_purchases'] = bgf.conditional_expected_number_of_purchases_up_to_time(t, data['frequency'], data['recency'], data['T'])\n",
        "\n",
        "data['pre_num_txn'] = bgf.conditional_expected_number_of_purchases_up_to_time(t, data['frequency'], data['recency'], data['T'])\n",
        "\n",
        "data.sort_values(by='predicted_purchases', ascending=False).head(5)\n"
      ],
      "execution_count": 62,
      "outputs": [
        {
          "output_type": "execute_result",
          "data": {
            "text/html": [
              "<div>\n",
              "<style scoped>\n",
              "    .dataframe tbody tr th:only-of-type {\n",
              "        vertical-align: middle;\n",
              "    }\n",
              "\n",
              "    .dataframe tbody tr th {\n",
              "        vertical-align: top;\n",
              "    }\n",
              "\n",
              "    .dataframe thead th {\n",
              "        text-align: right;\n",
              "    }\n",
              "</style>\n",
              "<table border=\"1\" class=\"dataframe\">\n",
              "  <thead>\n",
              "    <tr style=\"text-align: right;\">\n",
              "      <th></th>\n",
              "      <th>frequency</th>\n",
              "      <th>recency</th>\n",
              "      <th>T</th>\n",
              "      <th>monetary_value</th>\n",
              "      <th>predicted_purchases</th>\n",
              "      <th>probability_alive</th>\n",
              "      <th>predicted_clv</th>\n",
              "      <th>pre_num_txn</th>\n",
              "    </tr>\n",
              "    <tr>\n",
              "      <th>CustomerID</th>\n",
              "      <th></th>\n",
              "      <th></th>\n",
              "      <th></th>\n",
              "      <th></th>\n",
              "      <th></th>\n",
              "      <th></th>\n",
              "      <th></th>\n",
              "      <th></th>\n",
              "    </tr>\n",
              "  </thead>\n",
              "  <tbody>\n",
              "    <tr>\n",
              "      <th>14911</th>\n",
              "      <td>131.0</td>\n",
              "      <td>372.0</td>\n",
              "      <td>373.0</td>\n",
              "      <td>1093.661679</td>\n",
              "      <td>9.090383</td>\n",
              "      <td>0.999966</td>\n",
              "      <td>9789.694678</td>\n",
              "      <td>9.090383</td>\n",
              "    </tr>\n",
              "    <tr>\n",
              "      <th>12748</th>\n",
              "      <td>113.0</td>\n",
              "      <td>373.0</td>\n",
              "      <td>373.0</td>\n",
              "      <td>298.360885</td>\n",
              "      <td>7.848374</td>\n",
              "      <td>0.999971</td>\n",
              "      <td>2327.861600</td>\n",
              "      <td>7.848374</td>\n",
              "    </tr>\n",
              "    <tr>\n",
              "      <th>17841</th>\n",
              "      <td>111.0</td>\n",
              "      <td>372.0</td>\n",
              "      <td>373.0</td>\n",
              "      <td>364.452162</td>\n",
              "      <td>7.710373</td>\n",
              "      <td>0.999962</td>\n",
              "      <td>2786.398562</td>\n",
              "      <td>7.710373</td>\n",
              "    </tr>\n",
              "    <tr>\n",
              "      <th>15311</th>\n",
              "      <td>89.0</td>\n",
              "      <td>373.0</td>\n",
              "      <td>373.0</td>\n",
              "      <td>677.729438</td>\n",
              "      <td>6.192362</td>\n",
              "      <td>0.999964</td>\n",
              "      <td>4134.538991</td>\n",
              "      <td>6.192362</td>\n",
              "    </tr>\n",
              "    <tr>\n",
              "      <th>14606</th>\n",
              "      <td>88.0</td>\n",
              "      <td>372.0</td>\n",
              "      <td>373.0</td>\n",
              "      <td>135.890114</td>\n",
              "      <td>6.123362</td>\n",
              "      <td>0.999955</td>\n",
              "      <td>846.120615</td>\n",
              "      <td>6.123362</td>\n",
              "    </tr>\n",
              "  </tbody>\n",
              "</table>\n",
              "</div>"
            ],
            "text/plain": [
              "            frequency  recency  ...  predicted_clv  pre_num_txn\n",
              "CustomerID                      ...                            \n",
              "14911           131.0    372.0  ...    9789.694678     9.090383\n",
              "12748           113.0    373.0  ...    2327.861600     7.848374\n",
              "17841           111.0    372.0  ...    2786.398562     7.710373\n",
              "15311            89.0    373.0  ...    4134.538991     6.192362\n",
              "14606            88.0    372.0  ...     846.120615     6.123362\n",
              "\n",
              "[5 rows x 8 columns]"
            ]
          },
          "metadata": {
            "tags": []
          },
          "execution_count": 62
        }
      ]
    },
    {
      "cell_type": "code",
      "metadata": {
        "id": "S4t30FsADYUP"
      },
      "source": [
        "#predict future transaction for the next 30 days based on historical data\n",
        "t=30\n",
        "data[\"pred_num_txn\"] = round(bgf.condit)"
      ],
      "execution_count": null,
      "outputs": []
    },
    {
      "cell_type": "code",
      "metadata": {
        "colab": {
          "base_uri": "https://localhost:8080/",
          "height": 309
        },
        "id": "-ARb6Ey68cSO",
        "outputId": "2345ccab-bb0f-4654-a315-05be72065f7f"
      },
      "source": [
        "from lifetimes.plotting import plot_period_transactions\n",
        "plot_period_transactions(bgf)"
      ],
      "execution_count": 53,
      "outputs": [
        {
          "output_type": "execute_result",
          "data": {
            "text/plain": [
              "<matplotlib.axes._subplots.AxesSubplot at 0x7f39d204c630>"
            ]
          },
          "metadata": {
            "tags": []
          },
          "execution_count": 53
        },
        {
          "output_type": "display_data",
          "data": {
            "image/png": "[encoded data removed]",
            "text/plain": [
              "<Figure size 432x288 with 1 Axes>"
            ]
          },
          "metadata": {
            "tags": [],
            "needs_background": "light"
          }
        }
      ]
    },
    {
      "cell_type": "code",
      "metadata": {
        "colab": {
          "base_uri": "https://localhost:8080/"
        },
        "id": "v9bN9Zz-BCV7",
        "outputId": "c3474f9b-8cf0-4f82-f3dd-bc3c901bb425"
      },
      "source": [
        "from lifetimes.utils import calibration_and_holdout_data\n",
        "summary_cal_holdout = calibration_and_holdout_data(df, 'CustomerID', 'InvoiceDate',\n",
        "                                        calibration_period_end='2011-06-08',\n",
        "                                        observation_period_end='2011-12-9' )   \n",
        "print(summary_cal_holdout.head())"
      ],
      "execution_count": 54,
      "outputs": [
        {
          "output_type": "stream",
          "text": [
            "            frequency_cal  recency_cal  ...  frequency_holdout  duration_holdout\n",
            "CustomerID                              ...                                     \n",
            "12346                 0.0          0.0  ...                0.0             184.0\n",
            "12347                 2.0        121.0  ...                4.0             184.0\n",
            "12348                 2.0        110.0  ...                1.0             184.0\n",
            "12350                 0.0          0.0  ...                0.0             184.0\n",
            "12352                 3.0         34.0  ...                3.0             184.0\n",
            "\n",
            "[5 rows x 5 columns]\n"
          ],
          "name": "stdout"
        }
      ]
    },
    {
      "cell_type": "code",
      "metadata": {
        "colab": {
          "base_uri": "https://localhost:8080/",
          "height": 312
        },
        "id": "Mf4LvwGtBKdS",
        "outputId": "6cb05490-f7fe-41f6-dd84-ff16c52a697b"
      },
      "source": [
        "from lifetimes.plotting import plot_calibration_purchases_vs_holdout_purchases\n",
        "bgf.fit(summary_cal_holdout['frequency_cal'], summary_cal_holdout['recency_cal'], summary_cal_holdout['T_cal'])\n",
        "plot_calibration_purchases_vs_holdout_purchases(bgf, summary_cal_holdout)"
      ],
      "execution_count": 55,
      "outputs": [
        {
          "output_type": "execute_result",
          "data": {
            "text/plain": [
              "<matplotlib.axes._subplots.AxesSubplot at 0x7f39d2142940>"
            ]
          },
          "metadata": {
            "tags": []
          },
          "execution_count": 55
        },
        {
          "output_type": "display_data",
          "data": {
            "image/png": "[encoded data removed]",
            "text/plain": [
              "<Figure size 432x288 with 1 Axes>"
            ]
          },
          "metadata": {
            "tags": [],
            "needs_background": "light"
          }
        }
      ]
    },
    {
      "cell_type": "markdown",
      "metadata": {
        "id": "Yz8R7_-8-iiB"
      },
      "source": [
        "**Estimating customer lifetime value using the Gamma-Gamma model**"
      ]
    },
    {
      "cell_type": "code",
      "metadata": {
        "colab": {
          "base_uri": "https://localhost:8080/",
          "height": 111
        },
        "id": "Z2eVTrr3DeR1",
        "outputId": "5a89a6ac-e208-4e44-f4c7-8edb88d4f495"
      },
      "source": [
        "\n",
        "returning_customers_summary = data[data['frequency']>0]\n",
        "returning_customers_summary[['monetary_value', 'frequency']].corr()"
      ],
      "execution_count": 56,
      "outputs": [
        {
          "output_type": "execute_result",
          "data": {
            "text/html": [
              "<div>\n",
              "<style scoped>\n",
              "    .dataframe tbody tr th:only-of-type {\n",
              "        vertical-align: middle;\n",
              "    }\n",
              "\n",
              "    .dataframe tbody tr th {\n",
              "        vertical-align: top;\n",
              "    }\n",
              "\n",
              "    .dataframe thead th {\n",
              "        text-align: right;\n",
              "    }\n",
              "</style>\n",
              "<table border=\"1\" class=\"dataframe\">\n",
              "  <thead>\n",
              "    <tr style=\"text-align: right;\">\n",
              "      <th></th>\n",
              "      <th>monetary_value</th>\n",
              "      <th>frequency</th>\n",
              "    </tr>\n",
              "  </thead>\n",
              "  <tbody>\n",
              "    <tr>\n",
              "      <th>monetary_value</th>\n",
              "      <td>1.000000</td>\n",
              "      <td>0.015882</td>\n",
              "    </tr>\n",
              "    <tr>\n",
              "      <th>frequency</th>\n",
              "      <td>0.015882</td>\n",
              "      <td>1.000000</td>\n",
              "    </tr>\n",
              "  </tbody>\n",
              "</table>\n",
              "</div>"
            ],
            "text/plain": [
              "                monetary_value  frequency\n",
              "monetary_value        1.000000   0.015882\n",
              "frequency             0.015882   1.000000"
            ]
          },
          "metadata": {
            "tags": []
          },
          "execution_count": 56
        }
      ]
    },
    {
      "cell_type": "code",
      "metadata": {
        "colab": {
          "base_uri": "https://localhost:8080/"
        },
        "id": "DokG-wgH-KBx",
        "outputId": "117661e4-2b2f-43aa-df7a-5d9361467dfe"
      },
      "source": [
        "from lifetimes import GammaGammaFitter\n",
        "ggf = GammaGammaFitter(penalizer_coef = 0)\n",
        "ggf.fit(returning_customers_summary['frequency'],\n",
        "        returning_customers_summary['monetary_value'])\n",
        "print(ggf)"
      ],
      "execution_count": 57,
      "outputs": [
        {
          "output_type": "stream",
          "text": [
            "<lifetimes.GammaGammaFitter: fitted with 2790 subjects, p: 2.10, q: 3.45, v: 485.57>\n"
          ],
          "name": "stdout"
        }
      ]
    },
    {
      "cell_type": "code",
      "metadata": {
        "colab": {
          "base_uri": "https://localhost:8080/"
        },
        "id": "WTfPeWaFD2X8",
        "outputId": "fcd634db-93ae-49bf-e5fa-f5292f46458d"
      },
      "source": [
        "print(ggf.conditional_expected_average_profit(\n",
        "        returning_customers_summary['frequency'],\n",
        "        returning_customers_summary['monetary_value']\n",
        "    ).head(10))"
      ],
      "execution_count": 58,
      "outputs": [
        {
          "output_type": "stream",
          "text": [
            "CustomerID\n",
            "12347     569.988807\n",
            "12348     333.762672\n",
            "12352     376.166864\n",
            "12356     324.008941\n",
            "12358     539.930643\n",
            "12359    1515.282839\n",
            "12360     652.217077\n",
            "12362     514.793066\n",
            "12363     341.147333\n",
            "12364     282.075487\n",
            "dtype: float64\n"
          ],
          "name": "stdout"
        }
      ]
    },
    {
      "cell_type": "code",
      "metadata": {
        "colab": {
          "base_uri": "https://localhost:8080/",
          "height": 235
        },
        "id": "49rFW2WhBsQA",
        "outputId": "42dae37e-daf6-44e6-e688-495beb754801"
      },
      "source": [
        "#Predicting Customer lifetime value for the next 30 days\n",
        "data[\"predicted_clv\"] = ggf.customer_lifetime_value(bgf, data[\"frequency\"],\n",
        "                                                    data[\"recency\"],\n",
        "                                                    data[\"T\"],\n",
        "                                                    data[\"monetary_value\"],\n",
        "                                                    time = 1, #lifetime in months\n",
        "                                                    freq = \"D\") #frequency in which the data is present(T)\n",
        "data.head()                      "
      ],
      "execution_count": 59,
      "outputs": [
        {
          "output_type": "execute_result",
          "data": {
            "text/html": [
              "<div>\n",
              "<style scoped>\n",
              "    .dataframe tbody tr th:only-of-type {\n",
              "        vertical-align: middle;\n",
              "    }\n",
              "\n",
              "    .dataframe tbody tr th {\n",
              "        vertical-align: top;\n",
              "    }\n",
              "\n",
              "    .dataframe thead th {\n",
              "        text-align: right;\n",
              "    }\n",
              "</style>\n",
              "<table border=\"1\" class=\"dataframe\">\n",
              "  <thead>\n",
              "    <tr style=\"text-align: right;\">\n",
              "      <th></th>\n",
              "      <th>frequency</th>\n",
              "      <th>recency</th>\n",
              "      <th>T</th>\n",
              "      <th>monetary_value</th>\n",
              "      <th>predicted_purchases</th>\n",
              "      <th>probability_alive</th>\n",
              "      <th>predicted_clv</th>\n",
              "    </tr>\n",
              "    <tr>\n",
              "      <th>CustomerID</th>\n",
              "      <th></th>\n",
              "      <th></th>\n",
              "      <th></th>\n",
              "      <th></th>\n",
              "      <th></th>\n",
              "      <th></th>\n",
              "      <th></th>\n",
              "    </tr>\n",
              "  </thead>\n",
              "  <tbody>\n",
              "    <tr>\n",
              "      <th>12346</th>\n",
              "      <td>0.0</td>\n",
              "      <td>0.0</td>\n",
              "      <td>325.0</td>\n",
              "      <td>0.000000</td>\n",
              "      <td>0.002098</td>\n",
              "      <td>1.000000</td>\n",
              "      <td>23.812466</td>\n",
              "    </tr>\n",
              "    <tr>\n",
              "      <th>12347</th>\n",
              "      <td>6.0</td>\n",
              "      <td>365.0</td>\n",
              "      <td>367.0</td>\n",
              "      <td>599.701667</td>\n",
              "      <td>0.015656</td>\n",
              "      <td>0.999698</td>\n",
              "      <td>266.276375</td>\n",
              "    </tr>\n",
              "    <tr>\n",
              "      <th>12348</th>\n",
              "      <td>3.0</td>\n",
              "      <td>283.0</td>\n",
              "      <td>358.0</td>\n",
              "      <td>301.480000</td>\n",
              "      <td>0.008956</td>\n",
              "      <td>0.999177</td>\n",
              "      <td>88.414076</td>\n",
              "    </tr>\n",
              "    <tr>\n",
              "      <th>12349</th>\n",
              "      <td>0.0</td>\n",
              "      <td>0.0</td>\n",
              "      <td>18.0</td>\n",
              "      <td>0.000000</td>\n",
              "      <td>0.009511</td>\n",
              "      <td>1.000000</td>\n",
              "      <td>115.445379</td>\n",
              "    </tr>\n",
              "    <tr>\n",
              "      <th>12350</th>\n",
              "      <td>0.0</td>\n",
              "      <td>0.0</td>\n",
              "      <td>310.0</td>\n",
              "      <td>0.000000</td>\n",
              "      <td>0.002181</td>\n",
              "      <td>1.000000</td>\n",
              "      <td>24.773215</td>\n",
              "    </tr>\n",
              "  </tbody>\n",
              "</table>\n",
              "</div>"
            ],
            "text/plain": [
              "            frequency  recency  ...  probability_alive  predicted_clv\n",
              "CustomerID                      ...                                  \n",
              "12346             0.0      0.0  ...           1.000000      23.812466\n",
              "12347             6.0    365.0  ...           0.999698     266.276375\n",
              "12348             3.0    283.0  ...           0.999177      88.414076\n",
              "12349             0.0      0.0  ...           1.000000     115.445379\n",
              "12350             0.0      0.0  ...           1.000000      24.773215\n",
              "\n",
              "[5 rows x 7 columns]"
            ]
          },
          "metadata": {
            "tags": []
          },
          "execution_count": 59
        }
      ]
    },
    {
      "cell_type": "code",
      "metadata": {
        "colab": {
          "base_uri": "https://localhost:8080/",
          "height": 255
        },
        "id": "-h9vT62GCsXA",
        "outputId": "f3a574da-f0d2-402e-f6df-b2a5a970fc77"
      },
      "source": [
        "#calculating the conditional expected avergae profit for each customer per transaction\n",
        "data = data[data.monetary_value>0]\n",
        "data['exp_avg_sales'] = ggf.conditional_expected_average_profit(data[\"frequency\"],\n",
        "                                                    data[\"monetary_value\"]\n",
        "                                                   )\n",
        "data.head()"
      ],
      "execution_count": 64,
      "outputs": [
        {
          "output_type": "execute_result",
          "data": {
            "text/html": [
              "<div>\n",
              "<style scoped>\n",
              "    .dataframe tbody tr th:only-of-type {\n",
              "        vertical-align: middle;\n",
              "    }\n",
              "\n",
              "    .dataframe tbody tr th {\n",
              "        vertical-align: top;\n",
              "    }\n",
              "\n",
              "    .dataframe thead th {\n",
              "        text-align: right;\n",
              "    }\n",
              "</style>\n",
              "<table border=\"1\" class=\"dataframe\">\n",
              "  <thead>\n",
              "    <tr style=\"text-align: right;\">\n",
              "      <th></th>\n",
              "      <th>frequency</th>\n",
              "      <th>recency</th>\n",
              "      <th>T</th>\n",
              "      <th>monetary_value</th>\n",
              "      <th>predicted_purchases</th>\n",
              "      <th>probability_alive</th>\n",
              "      <th>predicted_clv</th>\n",
              "      <th>pre_num_txn</th>\n",
              "      <th>exp_avg_sales</th>\n",
              "    </tr>\n",
              "    <tr>\n",
              "      <th>CustomerID</th>\n",
              "      <th></th>\n",
              "      <th></th>\n",
              "      <th></th>\n",
              "      <th></th>\n",
              "      <th></th>\n",
              "      <th></th>\n",
              "      <th></th>\n",
              "      <th></th>\n",
              "      <th></th>\n",
              "    </tr>\n",
              "  </thead>\n",
              "  <tbody>\n",
              "    <tr>\n",
              "      <th>12347</th>\n",
              "      <td>6.0</td>\n",
              "      <td>365.0</td>\n",
              "      <td>367.0</td>\n",
              "      <td>599.701667</td>\n",
              "      <td>0.471832</td>\n",
              "      <td>0.999698</td>\n",
              "      <td>266.276375</td>\n",
              "      <td>0.471832</td>\n",
              "      <td>569.988807</td>\n",
              "    </tr>\n",
              "    <tr>\n",
              "      <th>12348</th>\n",
              "      <td>3.0</td>\n",
              "      <td>283.0</td>\n",
              "      <td>358.0</td>\n",
              "      <td>301.480000</td>\n",
              "      <td>0.267550</td>\n",
              "      <td>0.999177</td>\n",
              "      <td>88.414076</td>\n",
              "      <td>0.267550</td>\n",
              "      <td>333.762672</td>\n",
              "    </tr>\n",
              "    <tr>\n",
              "      <th>12352</th>\n",
              "      <td>6.0</td>\n",
              "      <td>260.0</td>\n",
              "      <td>296.0</td>\n",
              "      <td>368.256667</td>\n",
              "      <td>0.565466</td>\n",
              "      <td>0.999405</td>\n",
              "      <td>210.603415</td>\n",
              "      <td>0.565466</td>\n",
              "      <td>376.166864</td>\n",
              "    </tr>\n",
              "    <tr>\n",
              "      <th>12356</th>\n",
              "      <td>2.0</td>\n",
              "      <td>303.0</td>\n",
              "      <td>325.0</td>\n",
              "      <td>269.905000</td>\n",
              "      <td>0.212814</td>\n",
              "      <td>0.999478</td>\n",
              "      <td>68.270871</td>\n",
              "      <td>0.212814</td>\n",
              "      <td>324.008941</td>\n",
              "    </tr>\n",
              "    <tr>\n",
              "      <th>12358</th>\n",
              "      <td>1.0</td>\n",
              "      <td>149.0</td>\n",
              "      <td>150.0</td>\n",
              "      <td>683.200000</td>\n",
              "      <td>0.247012</td>\n",
              "      <td>0.999486</td>\n",
              "      <td>132.048719</td>\n",
              "      <td>0.247012</td>\n",
              "      <td>539.930643</td>\n",
              "    </tr>\n",
              "  </tbody>\n",
              "</table>\n",
              "</div>"
            ],
            "text/plain": [
              "            frequency  recency  ...  pre_num_txn  exp_avg_sales\n",
              "CustomerID                      ...                            \n",
              "12347             6.0    365.0  ...     0.471832     569.988807\n",
              "12348             3.0    283.0  ...     0.267550     333.762672\n",
              "12352             6.0    260.0  ...     0.565466     376.166864\n",
              "12356             2.0    303.0  ...     0.212814     324.008941\n",
              "12358             1.0    149.0  ...     0.247012     539.930643\n",
              "\n",
              "[5 rows x 9 columns]"
            ]
          },
          "metadata": {
            "tags": []
          },
          "execution_count": 64
        }
      ]
    },
    {
      "cell_type": "code",
      "metadata": {
        "colab": {
          "base_uri": "https://localhost:8080/"
        },
        "id": "iH6IfGELFygW",
        "outputId": "aee0fcad-d06f-4666-d1af-e2c71eee36bd"
      },
      "source": [
        "#checking the expected average value and the actual average value in the data\n",
        "print(f\"Expected average sales: {data.exp_avg_sales.mean()}\")\n",
        "print(f\"Actual average sales: {data.monetary_value.mean()}\")"
      ],
      "execution_count": 65,
      "outputs": [
        {
          "output_type": "stream",
          "text": [
            "Expected average sales: 454.5701345329098\n",
            "Actual average sales: 477.3586892535673\n"
          ],
          "name": "stdout"
        }
      ]
    },
    {
      "cell_type": "code",
      "metadata": {
        "colab": {
          "base_uri": "https://localhost:8080/",
          "height": 255
        },
        "id": "uN_3z7z3GKv8",
        "outputId": "d7f6639f-5b8f-43bb-8819-f0ac5a314388"
      },
      "source": [
        "data[\"manual_predicted_clv\"] = data.pre_num_txn * data.exp_avg_sales\n",
        "data.head()"
      ],
      "execution_count": 66,
      "outputs": [
        {
          "output_type": "execute_result",
          "data": {
            "text/html": [
              "<div>\n",
              "<style scoped>\n",
              "    .dataframe tbody tr th:only-of-type {\n",
              "        vertical-align: middle;\n",
              "    }\n",
              "\n",
              "    .dataframe tbody tr th {\n",
              "        vertical-align: top;\n",
              "    }\n",
              "\n",
              "    .dataframe thead th {\n",
              "        text-align: right;\n",
              "    }\n",
              "</style>\n",
              "<table border=\"1\" class=\"dataframe\">\n",
              "  <thead>\n",
              "    <tr style=\"text-align: right;\">\n",
              "      <th></th>\n",
              "      <th>frequency</th>\n",
              "      <th>recency</th>\n",
              "      <th>T</th>\n",
              "      <th>monetary_value</th>\n",
              "      <th>predicted_purchases</th>\n",
              "      <th>probability_alive</th>\n",
              "      <th>predicted_clv</th>\n",
              "      <th>pre_num_txn</th>\n",
              "      <th>exp_avg_sales</th>\n",
              "      <th>manual_predicted_clv</th>\n",
              "    </tr>\n",
              "    <tr>\n",
              "      <th>CustomerID</th>\n",
              "      <th></th>\n",
              "      <th></th>\n",
              "      <th></th>\n",
              "      <th></th>\n",
              "      <th></th>\n",
              "      <th></th>\n",
              "      <th></th>\n",
              "      <th></th>\n",
              "      <th></th>\n",
              "      <th></th>\n",
              "    </tr>\n",
              "  </thead>\n",
              "  <tbody>\n",
              "    <tr>\n",
              "      <th>12347</th>\n",
              "      <td>6.0</td>\n",
              "      <td>365.0</td>\n",
              "      <td>367.0</td>\n",
              "      <td>599.701667</td>\n",
              "      <td>0.471832</td>\n",
              "      <td>0.999698</td>\n",
              "      <td>266.276375</td>\n",
              "      <td>0.471832</td>\n",
              "      <td>569.988807</td>\n",
              "      <td>268.939139</td>\n",
              "    </tr>\n",
              "    <tr>\n",
              "      <th>12348</th>\n",
              "      <td>3.0</td>\n",
              "      <td>283.0</td>\n",
              "      <td>358.0</td>\n",
              "      <td>301.480000</td>\n",
              "      <td>0.267550</td>\n",
              "      <td>0.999177</td>\n",
              "      <td>88.414076</td>\n",
              "      <td>0.267550</td>\n",
              "      <td>333.762672</td>\n",
              "      <td>89.298217</td>\n",
              "    </tr>\n",
              "    <tr>\n",
              "      <th>12352</th>\n",
              "      <td>6.0</td>\n",
              "      <td>260.0</td>\n",
              "      <td>296.0</td>\n",
              "      <td>368.256667</td>\n",
              "      <td>0.565466</td>\n",
              "      <td>0.999405</td>\n",
              "      <td>210.603415</td>\n",
              "      <td>0.565466</td>\n",
              "      <td>376.166864</td>\n",
              "      <td>212.709449</td>\n",
              "    </tr>\n",
              "    <tr>\n",
              "      <th>12356</th>\n",
              "      <td>2.0</td>\n",
              "      <td>303.0</td>\n",
              "      <td>325.0</td>\n",
              "      <td>269.905000</td>\n",
              "      <td>0.212814</td>\n",
              "      <td>0.999478</td>\n",
              "      <td>68.270871</td>\n",
              "      <td>0.212814</td>\n",
              "      <td>324.008941</td>\n",
              "      <td>68.953579</td>\n",
              "    </tr>\n",
              "    <tr>\n",
              "      <th>12358</th>\n",
              "      <td>1.0</td>\n",
              "      <td>149.0</td>\n",
              "      <td>150.0</td>\n",
              "      <td>683.200000</td>\n",
              "      <td>0.247012</td>\n",
              "      <td>0.999486</td>\n",
              "      <td>132.048719</td>\n",
              "      <td>0.247012</td>\n",
              "      <td>539.930643</td>\n",
              "      <td>133.369206</td>\n",
              "    </tr>\n",
              "  </tbody>\n",
              "</table>\n",
              "</div>"
            ],
            "text/plain": [
              "            frequency  recency  ...  exp_avg_sales  manual_predicted_clv\n",
              "CustomerID                      ...                                     \n",
              "12347             6.0    365.0  ...     569.988807            268.939139\n",
              "12348             3.0    283.0  ...     333.762672             89.298217\n",
              "12352             6.0    260.0  ...     376.166864            212.709449\n",
              "12356             2.0    303.0  ...     324.008941             68.953579\n",
              "12358             1.0    149.0  ...     539.930643            133.369206\n",
              "\n",
              "[5 rows x 10 columns]"
            ]
          },
          "metadata": {
            "tags": []
          },
          "execution_count": 66
        }
      ]
    },
    {
      "cell_type": "code",
      "metadata": {
        "colab": {
          "base_uri": "https://localhost:8080/"
        },
        "id": "EZdnFGPTGWWk",
        "outputId": "7198f8f7-64db-4ffb-e655-bc652c03215f"
      },
      "source": [
        "print(f\"Predicted_clv: {data.predicted_clv.mean()}\")\n",
        "print(f\"Manual_Predicted_clv: {data.manual_predicted_clv.mean()}\")"
      ],
      "execution_count": 67,
      "outputs": [
        {
          "output_type": "stream",
          "text": [
            "Predicted_clv: 241.1082054723455\n",
            "Manual_Predicted_clv: 243.51928752706826\n"
          ],
          "name": "stdout"
        }
      ]
    }
  ]
}