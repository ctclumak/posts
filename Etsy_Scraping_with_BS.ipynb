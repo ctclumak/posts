{
  "nbformat": 4,
  "nbformat_minor": 0,
  "metadata": {
    "colab": {
      "name": "Etsy Scraping with BS.ipynb",
      "provenance": [],
      "authorship_tag": "ABX9TyPQ0Onv4FLMMNyXIwmNWol+",
      "include_colab_link": true
    },
    "kernelspec": {
      "name": "python3",
      "display_name": "Python 3"
    }
  },
  "cells": [
    {
      "cell_type": "markdown",
      "metadata": {
        "id": "view-in-github",
        "colab_type": "text"
      },
      "source": [
        "<a href=\"https://colab.research.google.com/github/ctclumak/posts/blob/master/Etsy_Scraping_with_BS.ipynb\" target=\"_parent\"><img src=\"https://colab.research.google.com/assets/colab-badge.svg\" alt=\"Open In Colab\"/></a>"
      ]
    },
    {
      "cell_type": "code",
      "metadata": {
        "id": "BGh5oqlOO_a3"
      },
      "source": [
        "import requests, re\n",
        "import time,random\n",
        "from bs4 import BeautifulSoup\n",
        "import pandas as pd\n",
        "import json\n",
        "from json import loads"
      ],
      "execution_count": null,
      "outputs": []
    },
    {
      "cell_type": "code",
      "metadata": {
        "id": "IHG0gyYZPDa0"
      },
      "source": [
        "query = \"wedding+accessories\"\n",
        "headers = {'User-Agent':'Mozilla/5.0 (Macintosh; Intel Mac OS X 10_11_2) AppleWebKit/601.3.9 (KHTML, like Gecko) Version/9.0.2 Safari/601.3.9'} \n",
        "base_url = \"https://www.etsy.com/search/?q=%s&ref=pagination&page=%d\"\n",
        "urls=[]\n",
        "\n",
        "for i in range(1,5):\n",
        "    url = base_url % (query,i)  \n",
        "    urls.append(url)\n",
        "  \n",
        "for url in urls:\n",
        "    soup_search = requests.get(url,headers=headers)\n",
        "    soup=BeautifulSoup(soup_search.content,\"html5lib\")\n",
        "    #This is the listing id list\n",
        "    listing_id = soup.find_all(\"a\")\n",
        "\n",
        "    #This holds the listing url\n",
        "    list_id_records = []\n",
        "    keywords_records = []      \n",
        "  \n",
        "  #this gather listing url by listing id and adding to website address\n",
        "    for listing in listing_id:\n",
        "        list_id = (listing.get(\"data-listing-id\"))\n",
        "        if list_id != None:\n",
        "            url_product = \"http://www.etsy.com/listing/\" + str(list_id) +\"/\"\n",
        "            list_id_records.append(url_product)\n",
        "\n",
        "    for list_id in list_id_records:\n",
        "        etsy_page_product = requests.get(list_id)\n",
        "        soup_product = BeautifulSoup(etsy_page_product.content, \"html.parser\")\n",
        "        list_id_no = soup_product.select(\"a.listing-link\")[0].get(\"data-listing-id\")\n",
        "        title = soup_product.find(\"div\", {\"data-component\":\"listing-page-title-component\"}).text.strip()\n",
        "        #seller = soup_product.select(\".wt-mb-xs-1 p a.wt-text-link-no-underline\")[0].find(\"span\").text.strip().replace(\"\\n\",\" \")\n",
        "        price = soup_product.find(\"p\", {\"class\":\"wt-text-title-03 wt-mr-xs-2\"}).text.strip().replace(\"\\n\",\" \").replace(\"Price: \",\"\").replace(\"+\",\"\")\n",
        "        try:\n",
        "          total_sales = soup_product.select(\".wt-display-inline-flex-xs a.wt-text-link-no-underline\")[0].find(\"span\").text.strip().replace(\"\\n\",\" \").replace(\"sales\", \"\").strip()\n",
        "        except:\n",
        "          total_sales =0\n",
        "        description = soup_product.find(\"p\", {\"class\":\"wt-text-body-01 wt-break-word\"}).text.strip().replace(\"\\n\",\" \")\n",
        "        product_url = \"http://www.etsy.com/listing/\" + str(list_id_no) +\"/\"\n",
        "        try: \n",
        "          review = soup_product.find(\"h3\", {\"class\":\"wt-text-body-03\"}).text.strip().replace(\"\\n\",\",\").replace(\",\",\"\").replace(\"shop\",\"\")\n",
        "        except:\n",
        "          review =0\n",
        "        #website = soup_product.select(\".wt-mb-xs-1 p a.wt-text-link-no-underline\")[0].get(\"href\")\n",
        "        keywords_records.append((list_id_no, title, price, total_sales,description, product_url, review))\n",
        "        df = pd.DataFrame(keywords_records, columns =[\"List_ID\", \"Title\",\"Current_Price\", \"Product_Sales\", \"Product_Detail\", \"Product_list\", \"Total_Review\"])\n",
        "df_main = pd.DataFrame()\n",
        "df_main = pd.concat([df_main,df])\n",
        "time.sleep(random.randint(1,3))\n",
        "df_main.to_csv('etsy_products.csv', index=False, encoding='utf-8')\n",
        "        \n",
        "len(keywords_records)"
      ],
      "execution_count": null,
      "outputs": []
    }
  ]
}