{
  "nbformat": 4,
  "nbformat_minor": 0,
  "metadata": {
    "colab": {
      "name": "TF-Regression Exercise.ipynb",
      "provenance": [],
      "include_colab_link": true
    },
    "kernelspec": {
      "name": "python3",
      "display_name": "Python 3"
    }
  },
  "cells": [
    {
      "cell_type": "markdown",
      "metadata": {
        "id": "view-in-github",
        "colab_type": "text"
      },
      "source": [
        "<a href=\"https://colab.research.google.com/github/ctclumak/posts/blob/master/TF_Regression_Exercise.ipynb\" target=\"_parent\"><img src=\"https://colab.research.google.com/assets/colab-badge.svg\" alt=\"Open In Colab\"/></a>"
      ]
    },
    {
      "cell_type": "code",
      "metadata": {
        "id": "ulKZmtFM09Kh",
        "colab_type": "code",
        "colab": {
          "base_uri": "https://localhost:8080/",
          "height": 80
        },
        "outputId": "65c7c694-34e6-4bd4-bbc5-e0ead7987f25"
      },
      "source": [
        "import pandas as pd\n",
        "import numpy as np\n",
        "import matplotlib.pyplot as plt\n",
        "import tensorflow as tf\n",
        "%matplotlib inline\n"
      ],
      "execution_count": 21,
      "outputs": [
        {
          "output_type": "display_data",
          "data": {
            "text/html": [
              "<p style=\"color: red;\">\n",
              "The default version of TensorFlow in Colab will soon switch to TensorFlow 2.x.<br>\n",
              "We recommend you <a href=\"https://www.tensorflow.org/guide/migrate\" target=\"_blank\">upgrade</a> now \n",
              "or ensure your notebook will continue to use TensorFlow 1.x via the <code>%tensorflow_version 1.x</code> magic:\n",
              "<a href=\"https://colab.research.google.com/notebooks/tensorflow_version.ipynb\" target=\"_blank\">more info</a>.</p>\n"
            ],
            "text/plain": [
              "<IPython.core.display.HTML object>"
            ]
          },
          "metadata": {
            "tags": []
          }
        }
      ]
    },
    {
      "cell_type": "code",
      "metadata": {
        "id": "IueRQ1r42Beo",
        "colab_type": "code",
        "colab": {}
      },
      "source": [
        "housing = pd.read_csv(\"cal_housing_clean.csv\")"
      ],
      "execution_count": 0,
      "outputs": []
    },
    {
      "cell_type": "code",
      "metadata": {
        "id": "a-X_1mee2HrW",
        "colab_type": "code",
        "colab": {
          "base_uri": "https://localhost:8080/",
          "height": 224
        },
        "outputId": "37d6328e-ea93-47ef-a450-92403c72371c"
      },
      "source": [
        "housing.head()"
      ],
      "execution_count": 3,
      "outputs": [
        {
          "output_type": "execute_result",
          "data": {
            "text/html": [
              "<div>\n",
              "<style scoped>\n",
              "    .dataframe tbody tr th:only-of-type {\n",
              "        vertical-align: middle;\n",
              "    }\n",
              "\n",
              "    .dataframe tbody tr th {\n",
              "        vertical-align: top;\n",
              "    }\n",
              "\n",
              "    .dataframe thead th {\n",
              "        text-align: right;\n",
              "    }\n",
              "</style>\n",
              "<table border=\"1\" class=\"dataframe\">\n",
              "  <thead>\n",
              "    <tr style=\"text-align: right;\">\n",
              "      <th></th>\n",
              "      <th>housingMedianAge</th>\n",
              "      <th>totalRooms</th>\n",
              "      <th>totalBedrooms</th>\n",
              "      <th>population</th>\n",
              "      <th>households</th>\n",
              "      <th>medianIncome</th>\n",
              "      <th>medianHouseValue</th>\n",
              "    </tr>\n",
              "  </thead>\n",
              "  <tbody>\n",
              "    <tr>\n",
              "      <th>0</th>\n",
              "      <td>41.0</td>\n",
              "      <td>880.0</td>\n",
              "      <td>129.0</td>\n",
              "      <td>322.0</td>\n",
              "      <td>126.0</td>\n",
              "      <td>8.3252</td>\n",
              "      <td>452600.0</td>\n",
              "    </tr>\n",
              "    <tr>\n",
              "      <th>1</th>\n",
              "      <td>21.0</td>\n",
              "      <td>7099.0</td>\n",
              "      <td>1106.0</td>\n",
              "      <td>2401.0</td>\n",
              "      <td>1138.0</td>\n",
              "      <td>8.3014</td>\n",
              "      <td>358500.0</td>\n",
              "    </tr>\n",
              "    <tr>\n",
              "      <th>2</th>\n",
              "      <td>52.0</td>\n",
              "      <td>1467.0</td>\n",
              "      <td>190.0</td>\n",
              "      <td>496.0</td>\n",
              "      <td>177.0</td>\n",
              "      <td>7.2574</td>\n",
              "      <td>352100.0</td>\n",
              "    </tr>\n",
              "    <tr>\n",
              "      <th>3</th>\n",
              "      <td>52.0</td>\n",
              "      <td>1274.0</td>\n",
              "      <td>235.0</td>\n",
              "      <td>558.0</td>\n",
              "      <td>219.0</td>\n",
              "      <td>5.6431</td>\n",
              "      <td>341300.0</td>\n",
              "    </tr>\n",
              "    <tr>\n",
              "      <th>4</th>\n",
              "      <td>52.0</td>\n",
              "      <td>1627.0</td>\n",
              "      <td>280.0</td>\n",
              "      <td>565.0</td>\n",
              "      <td>259.0</td>\n",
              "      <td>3.8462</td>\n",
              "      <td>342200.0</td>\n",
              "    </tr>\n",
              "  </tbody>\n",
              "</table>\n",
              "</div>"
            ],
            "text/plain": [
              "   housingMedianAge  totalRooms  ...  medianIncome  medianHouseValue\n",
              "0              41.0       880.0  ...        8.3252          452600.0\n",
              "1              21.0      7099.0  ...        8.3014          358500.0\n",
              "2              52.0      1467.0  ...        7.2574          352100.0\n",
              "3              52.0      1274.0  ...        5.6431          341300.0\n",
              "4              52.0      1627.0  ...        3.8462          342200.0\n",
              "\n",
              "[5 rows x 7 columns]"
            ]
          },
          "metadata": {
            "tags": []
          },
          "execution_count": 3
        }
      ]
    },
    {
      "cell_type": "code",
      "metadata": {
        "id": "J0tcIvdp2Iin",
        "colab_type": "code",
        "colab": {}
      },
      "source": [
        "x_data = housing.drop([\"medianHouseValue\"], axis = 1)\n",
        "y_val = housing.medianHouseValue"
      ],
      "execution_count": 0,
      "outputs": []
    },
    {
      "cell_type": "code",
      "metadata": {
        "id": "p-sWLql02bKq",
        "colab_type": "code",
        "colab": {}
      },
      "source": [
        "# train test split\n",
        "from sklearn.model_selection import train_test_split"
      ],
      "execution_count": 0,
      "outputs": []
    },
    {
      "cell_type": "code",
      "metadata": {
        "id": "_39hkUOv2i9d",
        "colab_type": "code",
        "colab": {}
      },
      "source": [
        "X_train, X_test, y_train, y_test = train_test_split(x_data, y_val,test_size = 0.3, random_state = 101 )"
      ],
      "execution_count": 0,
      "outputs": []
    },
    {
      "cell_type": "code",
      "metadata": {
        "id": "TYW_2uda26ct",
        "colab_type": "code",
        "colab": {}
      },
      "source": [
        "#feature scalling\n",
        "from sklearn.preprocessing import MinMaxScaler"
      ],
      "execution_count": 0,
      "outputs": []
    },
    {
      "cell_type": "code",
      "metadata": {
        "id": "gV_XJZpJ3k1p",
        "colab_type": "code",
        "colab": {
          "base_uri": "https://localhost:8080/",
          "height": 34
        },
        "outputId": "13a8b046-c3cd-433c-daa9-9358e7f2cc02"
      },
      "source": [
        "scaler = MinMaxScaler()\n",
        "scaler.fit(X_train)"
      ],
      "execution_count": 15,
      "outputs": [
        {
          "output_type": "execute_result",
          "data": {
            "text/plain": [
              "MinMaxScaler(copy=True, feature_range=(0, 1))"
            ]
          },
          "metadata": {
            "tags": []
          },
          "execution_count": 15
        }
      ]
    },
    {
      "cell_type": "code",
      "metadata": {
        "id": "q8026W6E3wLy",
        "colab_type": "code",
        "colab": {}
      },
      "source": [
        "X_train = pd.DataFrame(scaler.transform(X_train), columns = X_train.columns, index = X_train.index)"
      ],
      "execution_count": 0,
      "outputs": []
    },
    {
      "cell_type": "code",
      "metadata": {
        "id": "YbAtEsbu3_2w",
        "colab_type": "code",
        "colab": {}
      },
      "source": [
        "X_test = pd.DataFrame(scaler.transform(X_test), columns = X_test.columns, index = X_test.index)"
      ],
      "execution_count": 0,
      "outputs": []
    },
    {
      "cell_type": "code",
      "metadata": {
        "id": "KRYflZE44MuR",
        "colab_type": "code",
        "colab": {
          "base_uri": "https://localhost:8080/",
          "height": 68
        },
        "outputId": "83c5dc45-5092-4ae4-c751-7b673c20d736"
      },
      "source": [
        "#create feature columns \n",
        "housing.columns"
      ],
      "execution_count": 19,
      "outputs": [
        {
          "output_type": "execute_result",
          "data": {
            "text/plain": [
              "Index(['housingMedianAge', 'totalRooms', 'totalBedrooms', 'population',\n",
              "       'households', 'medianIncome', 'medianHouseValue'],\n",
              "      dtype='object')"
            ]
          },
          "metadata": {
            "tags": []
          },
          "execution_count": 19
        }
      ]
    },
    {
      "cell_type": "code",
      "metadata": {
        "id": "2kYfxfIM4a7g",
        "colab_type": "code",
        "colab": {}
      },
      "source": [
        "age = tf.feature_column.numeric_column('housingMedianAge')\n",
        "rooms = tf.feature_column.numeric_column('totalRooms')\n",
        "bedrooms = tf.feature_column.numeric_column('totalBedrooms')\n",
        "pop = tf.feature_column.numeric_column('population')\n",
        "households = tf.feature_column.numeric_column('households')\n",
        "income = tf.feature_column.numeric_column('medianIncome')"
      ],
      "execution_count": 0,
      "outputs": []
    },
    {
      "cell_type": "code",
      "metadata": {
        "id": "slvQB-Oe4mQ7",
        "colab_type": "code",
        "colab": {}
      },
      "source": [
        "feat_cols = [age, rooms, bedrooms, pop, households, income]"
      ],
      "execution_count": 0,
      "outputs": []
    },
    {
      "cell_type": "code",
      "metadata": {
        "id": "yZn4WNOi40_I",
        "colab_type": "code",
        "colab": {}
      },
      "source": [
        "#create innput function\n",
        "input_func = tf.estimator.inputs.pandas_input_fn(X_train, y_train, batch_size= 10, num_epochs= 1000, shuffle= True)\n"
      ],
      "execution_count": 0,
      "outputs": []
    },
    {
      "cell_type": "code",
      "metadata": {
        "id": "ELPUJvOA5gn_",
        "colab_type": "code",
        "colab": {
          "base_uri": "https://localhost:8080/",
          "height": 190
        },
        "outputId": "821ea636-339b-4bca-bf4a-cc215855c325"
      },
      "source": [
        "#create the estimator model \n",
        "model = tf.estimator.DNNRegressor(hidden_units= [6,6,6], feature_columns=feat_cols)"
      ],
      "execution_count": 31,
      "outputs": [
        {
          "output_type": "stream",
          "text": [
            "INFO:tensorflow:Using default config.\n",
            "WARNING:tensorflow:Using temporary folder as model directory: /tmp/tmptz5jrh9b\n",
            "INFO:tensorflow:Using config: {'_model_dir': '/tmp/tmptz5jrh9b', '_tf_random_seed': None, '_save_summary_steps': 100, '_save_checkpoints_steps': None, '_save_checkpoints_secs': 600, '_session_config': allow_soft_placement: true\n",
            "graph_options {\n",
            "  rewrite_options {\n",
            "    meta_optimizer_iterations: ONE\n",
            "  }\n",
            "}\n",
            ", '_keep_checkpoint_max': 5, '_keep_checkpoint_every_n_hours': 10000, '_log_step_count_steps': 100, '_train_distribute': None, '_device_fn': None, '_protocol': None, '_eval_distribute': None, '_experimental_distribute': None, '_experimental_max_worker_delay_secs': None, '_session_creation_timeout_secs': 7200, '_service': None, '_cluster_spec': <tensorflow.python.training.server_lib.ClusterSpec object at 0x7f000b08a2e8>, '_task_type': 'worker', '_task_id': 0, '_global_id_in_cluster': 0, '_master': '', '_evaluation_master': '', '_is_chief': True, '_num_ps_replicas': 0, '_num_worker_replicas': 1}\n"
          ],
          "name": "stdout"
        }
      ]
    },
    {
      "cell_type": "code",
      "metadata": {
        "id": "_MyrbKa65vhD",
        "colab_type": "code",
        "colab": {
          "base_uri": "https://localhost:8080/",
          "height": 1000
        },
        "outputId": "78976377-6244-4d60-db74-1e1dcd9d8bff"
      },
      "source": [
        "# train model \n",
        "model.train(input_fn = input_func, steps = 25000)"
      ],
      "execution_count": 33,
      "outputs": [
        {
          "output_type": "stream",
          "text": [
            "WARNING:tensorflow:From /usr/local/lib/python3.6/dist-packages/tensorflow_core/python/training/training_util.py:236: Variable.initialized_value (from tensorflow.python.ops.variables) is deprecated and will be removed in a future version.\n",
            "Instructions for updating:\n",
            "Use Variable.read_value. Variables in 2.X are initialized automatically both in eager and graph (inside tf.defun) contexts.\n",
            "WARNING:tensorflow:From /usr/local/lib/python3.6/dist-packages/tensorflow_estimator/python/estimator/inputs/queues/feeding_queue_runner.py:62: QueueRunner.__init__ (from tensorflow.python.training.queue_runner_impl) is deprecated and will be removed in a future version.\n",
            "Instructions for updating:\n",
            "To construct input pipelines, use the `tf.data` module.\n",
            "WARNING:tensorflow:From /usr/local/lib/python3.6/dist-packages/tensorflow_estimator/python/estimator/inputs/queues/feeding_functions.py:500: add_queue_runner (from tensorflow.python.training.queue_runner_impl) is deprecated and will be removed in a future version.\n",
            "Instructions for updating:\n",
            "To construct input pipelines, use the `tf.data` module.\n",
            "INFO:tensorflow:Calling model_fn.\n",
            "WARNING:tensorflow:From /usr/local/lib/python3.6/dist-packages/tensorflow_core/python/ops/resource_variable_ops.py:1630: calling BaseResourceVariable.__init__ (from tensorflow.python.ops.resource_variable_ops) with constraint is deprecated and will be removed in a future version.\n",
            "Instructions for updating:\n",
            "If using Keras pass *_constraint arguments to layers.\n",
            "WARNING:tensorflow:From /usr/local/lib/python3.6/dist-packages/tensorflow_estimator/python/estimator/canned/head.py:437: to_float (from tensorflow.python.ops.math_ops) is deprecated and will be removed in a future version.\n",
            "Instructions for updating:\n",
            "Use `tf.cast` instead.\n",
            "WARNING:tensorflow:From /usr/local/lib/python3.6/dist-packages/tensorflow_core/python/training/adagrad.py:76: calling Constant.__init__ (from tensorflow.python.ops.init_ops) with dtype is deprecated and will be removed in a future version.\n",
            "Instructions for updating:\n",
            "Call initializer instance with the dtype argument instead of passing it to the constructor\n",
            "INFO:tensorflow:Done calling model_fn.\n",
            "INFO:tensorflow:Create CheckpointSaverHook.\n",
            "WARNING:tensorflow:From /usr/local/lib/python3.6/dist-packages/tensorflow_core/python/ops/array_ops.py:1475: where (from tensorflow.python.ops.array_ops) is deprecated and will be removed in a future version.\n",
            "Instructions for updating:\n",
            "Use tf.where in 2.0, which has the same broadcast rule as np.where\n",
            "INFO:tensorflow:Graph was finalized.\n",
            "INFO:tensorflow:Running local_init_op.\n",
            "INFO:tensorflow:Done running local_init_op.\n",
            "WARNING:tensorflow:From /usr/local/lib/python3.6/dist-packages/tensorflow_core/python/training/monitored_session.py:882: start_queue_runners (from tensorflow.python.training.queue_runner_impl) is deprecated and will be removed in a future version.\n",
            "Instructions for updating:\n",
            "To construct input pipelines, use the `tf.data` module.\n",
            "INFO:tensorflow:Saving checkpoints for 0 into /tmp/tmptz5jrh9b/model.ckpt.\n",
            "INFO:tensorflow:loss = 690455500000.0, step = 1\n",
            "INFO:tensorflow:global_step/sec: 410.582\n",
            "INFO:tensorflow:loss = 537855230000.0, step = 101 (0.250 sec)\n",
            "INFO:tensorflow:global_step/sec: 475.29\n",
            "INFO:tensorflow:loss = 568616200000.0, step = 201 (0.211 sec)\n",
            "INFO:tensorflow:global_step/sec: 420.7\n",
            "INFO:tensorflow:loss = 379537000000.0, step = 301 (0.234 sec)\n",
            "INFO:tensorflow:global_step/sec: 498.96\n",
            "INFO:tensorflow:loss = 621037940000.0, step = 401 (0.204 sec)\n",
            "INFO:tensorflow:global_step/sec: 446.038\n",
            "INFO:tensorflow:loss = 539036220000.0, step = 501 (0.220 sec)\n",
            "INFO:tensorflow:global_step/sec: 456.753\n",
            "INFO:tensorflow:loss = 370852040000.0, step = 601 (0.222 sec)\n",
            "INFO:tensorflow:global_step/sec: 450.76\n",
            "INFO:tensorflow:loss = 110646380000.0, step = 701 (0.223 sec)\n",
            "INFO:tensorflow:global_step/sec: 447.112\n",
            "INFO:tensorflow:loss = 151099470000.0, step = 801 (0.220 sec)\n",
            "INFO:tensorflow:global_step/sec: 443.382\n",
            "INFO:tensorflow:loss = 368259560000.0, step = 901 (0.226 sec)\n",
            "INFO:tensorflow:global_step/sec: 460.542\n",
            "INFO:tensorflow:loss = 200606400000.0, step = 1001 (0.214 sec)\n",
            "INFO:tensorflow:global_step/sec: 443.546\n",
            "INFO:tensorflow:loss = 78622770000.0, step = 1101 (0.226 sec)\n",
            "INFO:tensorflow:global_step/sec: 455.219\n",
            "INFO:tensorflow:loss = 241396990000.0, step = 1201 (0.220 sec)\n",
            "INFO:tensorflow:global_step/sec: 469.142\n",
            "INFO:tensorflow:loss = 112995310000.0, step = 1301 (0.218 sec)\n",
            "INFO:tensorflow:global_step/sec: 466.679\n",
            "INFO:tensorflow:loss = 106777035000.0, step = 1401 (0.213 sec)\n",
            "INFO:tensorflow:global_step/sec: 491.335\n",
            "INFO:tensorflow:loss = 97675870000.0, step = 1501 (0.204 sec)\n",
            "INFO:tensorflow:global_step/sec: 442.071\n",
            "INFO:tensorflow:loss = 152758850000.0, step = 1601 (0.221 sec)\n",
            "INFO:tensorflow:global_step/sec: 437.558\n",
            "INFO:tensorflow:loss = 109460050000.0, step = 1701 (0.230 sec)\n",
            "INFO:tensorflow:global_step/sec: 449.762\n",
            "INFO:tensorflow:loss = 60866550000.0, step = 1801 (0.230 sec)\n",
            "INFO:tensorflow:global_step/sec: 429.416\n",
            "INFO:tensorflow:loss = 81552680000.0, step = 1901 (0.237 sec)\n",
            "INFO:tensorflow:global_step/sec: 425.906\n",
            "INFO:tensorflow:loss = 131874190000.0, step = 2001 (0.223 sec)\n",
            "INFO:tensorflow:global_step/sec: 486.032\n",
            "INFO:tensorflow:loss = 198907920000.0, step = 2101 (0.209 sec)\n",
            "WARNING:tensorflow:It seems that global step (tf.train.get_global_step) has not been increased. Current value (could be stable): 2181 vs previous value: 2181. You could increase the global step by passing tf.train.get_global_step() to Optimizer.apply_gradients or Optimizer.minimize.\n",
            "WARNING:tensorflow:It seems that global step (tf.train.get_global_step) has not been increased. Current value (could be stable): 2184 vs previous value: 2184. You could increase the global step by passing tf.train.get_global_step() to Optimizer.apply_gradients or Optimizer.minimize.\n",
            "WARNING:tensorflow:It seems that global step (tf.train.get_global_step) has not been increased. Current value (could be stable): 2187 vs previous value: 2187. You could increase the global step by passing tf.train.get_global_step() to Optimizer.apply_gradients or Optimizer.minimize.\n",
            "INFO:tensorflow:global_step/sec: 468.633\n",
            "INFO:tensorflow:loss = 120794910000.0, step = 2201 (0.211 sec)\n",
            "INFO:tensorflow:global_step/sec: 479.468\n",
            "INFO:tensorflow:loss = 105718810000.0, step = 2301 (0.209 sec)\n",
            "INFO:tensorflow:global_step/sec: 423.1\n",
            "INFO:tensorflow:loss = 76812560000.0, step = 2401 (0.238 sec)\n",
            "INFO:tensorflow:global_step/sec: 473.278\n",
            "INFO:tensorflow:loss = 77989890000.0, step = 2501 (0.210 sec)\n",
            "INFO:tensorflow:global_step/sec: 472.436\n",
            "INFO:tensorflow:loss = 184194140000.0, step = 2601 (0.215 sec)\n",
            "INFO:tensorflow:global_step/sec: 495.738\n",
            "INFO:tensorflow:loss = 71137090000.0, step = 2701 (0.208 sec)\n",
            "INFO:tensorflow:global_step/sec: 432.011\n",
            "INFO:tensorflow:loss = 141535000000.0, step = 2801 (0.222 sec)\n",
            "INFO:tensorflow:global_step/sec: 482.737\n",
            "INFO:tensorflow:loss = 98887240000.0, step = 2901 (0.207 sec)\n",
            "WARNING:tensorflow:It seems that global step (tf.train.get_global_step) has not been increased. Current value (could be stable): 2922 vs previous value: 2922. You could increase the global step by passing tf.train.get_global_step() to Optimizer.apply_gradients or Optimizer.minimize.\n",
            "WARNING:tensorflow:It seems that global step (tf.train.get_global_step) has not been increased. Current value (could be stable): 2927 vs previous value: 2927. You could increase the global step by passing tf.train.get_global_step() to Optimizer.apply_gradients or Optimizer.minimize.\n",
            "INFO:tensorflow:global_step/sec: 483.151\n",
            "INFO:tensorflow:loss = 149211940000.0, step = 3001 (0.216 sec)\n",
            "INFO:tensorflow:global_step/sec: 443.887\n",
            "INFO:tensorflow:loss = 90276630000.0, step = 3101 (0.222 sec)\n",
            "INFO:tensorflow:global_step/sec: 449.681\n",
            "INFO:tensorflow:loss = 162231980000.0, step = 3201 (0.216 sec)\n",
            "INFO:tensorflow:global_step/sec: 488.087\n",
            "INFO:tensorflow:loss = 130863640000.0, step = 3301 (0.205 sec)\n",
            "INFO:tensorflow:global_step/sec: 440.206\n",
            "INFO:tensorflow:loss = 123629050000.0, step = 3401 (0.227 sec)\n",
            "INFO:tensorflow:global_step/sec: 526.85\n",
            "INFO:tensorflow:loss = 55683535000.0, step = 3501 (0.193 sec)\n",
            "INFO:tensorflow:global_step/sec: 460.557\n",
            "INFO:tensorflow:loss = 47433298000.0, step = 3601 (0.221 sec)\n",
            "INFO:tensorflow:global_step/sec: 460.085\n",
            "INFO:tensorflow:loss = 121943196000.0, step = 3701 (0.218 sec)\n",
            "INFO:tensorflow:global_step/sec: 439.486\n",
            "INFO:tensorflow:loss = 173526120000.0, step = 3801 (0.222 sec)\n",
            "INFO:tensorflow:global_step/sec: 499.293\n",
            "INFO:tensorflow:loss = 88497190000.0, step = 3901 (0.204 sec)\n",
            "INFO:tensorflow:global_step/sec: 461.408\n",
            "INFO:tensorflow:loss = 93607570000.0, step = 4001 (0.217 sec)\n",
            "INFO:tensorflow:global_step/sec: 478.846\n",
            "INFO:tensorflow:loss = 127815860000.0, step = 4101 (0.207 sec)\n",
            "INFO:tensorflow:global_step/sec: 456.701\n",
            "INFO:tensorflow:loss = 100221240000.0, step = 4201 (0.218 sec)\n",
            "INFO:tensorflow:global_step/sec: 449.372\n",
            "INFO:tensorflow:loss = 46618268000.0, step = 4301 (0.225 sec)\n",
            "INFO:tensorflow:global_step/sec: 501.681\n",
            "INFO:tensorflow:loss = 76285250000.0, step = 4401 (0.205 sec)\n",
            "INFO:tensorflow:global_step/sec: 430.085\n",
            "INFO:tensorflow:loss = 279645620000.0, step = 4501 (0.227 sec)\n",
            "INFO:tensorflow:global_step/sec: 462.175\n",
            "INFO:tensorflow:loss = 240258970000.0, step = 4601 (0.212 sec)\n",
            "INFO:tensorflow:global_step/sec: 451.044\n",
            "INFO:tensorflow:loss = 92517690000.0, step = 4701 (0.228 sec)\n",
            "INFO:tensorflow:global_step/sec: 440.55\n",
            "INFO:tensorflow:loss = 77349700000.0, step = 4801 (0.220 sec)\n",
            "INFO:tensorflow:global_step/sec: 465.036\n",
            "INFO:tensorflow:loss = 117375760000.0, step = 4901 (0.217 sec)\n",
            "INFO:tensorflow:global_step/sec: 473.53\n",
            "INFO:tensorflow:loss = 164414850000.0, step = 5001 (0.212 sec)\n",
            "INFO:tensorflow:global_step/sec: 473.088\n",
            "INFO:tensorflow:loss = 64846475000.0, step = 5101 (0.211 sec)\n",
            "INFO:tensorflow:global_step/sec: 464.374\n",
            "INFO:tensorflow:loss = 84769290000.0, step = 5201 (0.216 sec)\n",
            "INFO:tensorflow:global_step/sec: 465.519\n",
            "INFO:tensorflow:loss = 92710396000.0, step = 5301 (0.214 sec)\n",
            "INFO:tensorflow:global_step/sec: 471.507\n",
            "INFO:tensorflow:loss = 118861005000.0, step = 5401 (0.214 sec)\n",
            "INFO:tensorflow:global_step/sec: 456.164\n",
            "INFO:tensorflow:loss = 35296625000.0, step = 5501 (0.221 sec)\n",
            "INFO:tensorflow:global_step/sec: 457.833\n",
            "INFO:tensorflow:loss = 70985010000.0, step = 5601 (0.215 sec)\n",
            "INFO:tensorflow:global_step/sec: 465.79\n",
            "INFO:tensorflow:loss = 124325446000.0, step = 5701 (0.225 sec)\n",
            "INFO:tensorflow:global_step/sec: 466.248\n",
            "INFO:tensorflow:loss = 111298180000.0, step = 5801 (0.206 sec)\n",
            "INFO:tensorflow:global_step/sec: 463.934\n",
            "INFO:tensorflow:loss = 108721780000.0, step = 5901 (0.221 sec)\n",
            "INFO:tensorflow:global_step/sec: 465.974\n",
            "INFO:tensorflow:loss = 119526900000.0, step = 6001 (0.211 sec)\n",
            "INFO:tensorflow:global_step/sec: 451.569\n",
            "INFO:tensorflow:loss = 94596800000.0, step = 6101 (0.224 sec)\n",
            "INFO:tensorflow:global_step/sec: 516.376\n",
            "INFO:tensorflow:loss = 109012190000.0, step = 6201 (0.188 sec)\n",
            "INFO:tensorflow:global_step/sec: 474.136\n",
            "INFO:tensorflow:loss = 79028330000.0, step = 6301 (0.213 sec)\n",
            "INFO:tensorflow:global_step/sec: 442.424\n",
            "INFO:tensorflow:loss = 32318378000.0, step = 6401 (0.224 sec)\n",
            "INFO:tensorflow:global_step/sec: 478.517\n",
            "INFO:tensorflow:loss = 167990200000.0, step = 6501 (0.217 sec)\n",
            "INFO:tensorflow:global_step/sec: 405.211\n",
            "INFO:tensorflow:loss = 54971960000.0, step = 6601 (0.247 sec)\n",
            "INFO:tensorflow:global_step/sec: 448.483\n",
            "INFO:tensorflow:loss = 78070735000.0, step = 6701 (0.217 sec)\n",
            "INFO:tensorflow:global_step/sec: 428.56\n",
            "INFO:tensorflow:loss = 150396900000.0, step = 6801 (0.232 sec)\n",
            "INFO:tensorflow:global_step/sec: 444.321\n",
            "INFO:tensorflow:loss = 59506020000.0, step = 6901 (0.232 sec)\n",
            "INFO:tensorflow:global_step/sec: 447.673\n",
            "INFO:tensorflow:loss = 41921280000.0, step = 7001 (0.217 sec)\n",
            "INFO:tensorflow:global_step/sec: 438.442\n",
            "INFO:tensorflow:loss = 149656470000.0, step = 7101 (0.226 sec)\n",
            "INFO:tensorflow:global_step/sec: 451.969\n",
            "INFO:tensorflow:loss = 113224540000.0, step = 7201 (0.220 sec)\n",
            "INFO:tensorflow:global_step/sec: 477.33\n",
            "INFO:tensorflow:loss = 180470900000.0, step = 7301 (0.215 sec)\n",
            "INFO:tensorflow:global_step/sec: 532.325\n",
            "INFO:tensorflow:loss = 67562275000.0, step = 7401 (0.190 sec)\n",
            "INFO:tensorflow:global_step/sec: 448.898\n",
            "INFO:tensorflow:loss = 122166380000.0, step = 7501 (0.216 sec)\n",
            "INFO:tensorflow:global_step/sec: 419.727\n",
            "INFO:tensorflow:loss = 49057554000.0, step = 7601 (0.245 sec)\n",
            "INFO:tensorflow:global_step/sec: 447.246\n",
            "INFO:tensorflow:loss = 64532340000.0, step = 7701 (0.216 sec)\n",
            "INFO:tensorflow:global_step/sec: 442.261\n",
            "INFO:tensorflow:loss = 157489230000.0, step = 7801 (0.227 sec)\n",
            "INFO:tensorflow:global_step/sec: 472.218\n",
            "INFO:tensorflow:loss = 62111770000.0, step = 7901 (0.216 sec)\n",
            "INFO:tensorflow:global_step/sec: 458.79\n",
            "INFO:tensorflow:loss = 131094675000.0, step = 8001 (0.215 sec)\n",
            "INFO:tensorflow:global_step/sec: 456.49\n",
            "INFO:tensorflow:loss = 48686633000.0, step = 8101 (0.218 sec)\n",
            "INFO:tensorflow:global_step/sec: 489.41\n",
            "INFO:tensorflow:loss = 53470867000.0, step = 8201 (0.215 sec)\n",
            "INFO:tensorflow:global_step/sec: 444.112\n",
            "INFO:tensorflow:loss = 111633056000.0, step = 8301 (0.220 sec)\n",
            "INFO:tensorflow:global_step/sec: 487.495\n",
            "INFO:tensorflow:loss = 268256500000.0, step = 8401 (0.200 sec)\n",
            "INFO:tensorflow:global_step/sec: 495.267\n",
            "INFO:tensorflow:loss = 57173205000.0, step = 8501 (0.202 sec)\n",
            "INFO:tensorflow:global_step/sec: 454.917\n",
            "INFO:tensorflow:loss = 108527780000.0, step = 8601 (0.222 sec)\n",
            "INFO:tensorflow:global_step/sec: 445.101\n",
            "INFO:tensorflow:loss = 89346154000.0, step = 8701 (0.222 sec)\n",
            "INFO:tensorflow:global_step/sec: 515.798\n",
            "INFO:tensorflow:loss = 62096360000.0, step = 8801 (0.201 sec)\n",
            "INFO:tensorflow:global_step/sec: 437.229\n",
            "INFO:tensorflow:loss = 46916542000.0, step = 8901 (0.224 sec)\n",
            "INFO:tensorflow:global_step/sec: 450.456\n",
            "INFO:tensorflow:loss = 143150810000.0, step = 9001 (0.224 sec)\n",
            "INFO:tensorflow:global_step/sec: 453.539\n",
            "INFO:tensorflow:loss = 29618827000.0, step = 9101 (0.218 sec)\n",
            "INFO:tensorflow:global_step/sec: 488.723\n",
            "INFO:tensorflow:loss = 23713389000.0, step = 9201 (0.214 sec)\n",
            "INFO:tensorflow:global_step/sec: 419.936\n",
            "INFO:tensorflow:loss = 228141170000.0, step = 9301 (0.237 sec)\n",
            "INFO:tensorflow:global_step/sec: 461.113\n",
            "INFO:tensorflow:loss = 54685356000.0, step = 9401 (0.208 sec)\n",
            "INFO:tensorflow:global_step/sec: 447.686\n",
            "INFO:tensorflow:loss = 64436576000.0, step = 9501 (0.223 sec)\n",
            "INFO:tensorflow:global_step/sec: 457.512\n",
            "INFO:tensorflow:loss = 150169580000.0, step = 9601 (0.221 sec)\n",
            "INFO:tensorflow:global_step/sec: 457.968\n",
            "INFO:tensorflow:loss = 150528790000.0, step = 9701 (0.221 sec)\n",
            "INFO:tensorflow:global_step/sec: 451.769\n",
            "INFO:tensorflow:loss = 55091175000.0, step = 9801 (0.217 sec)\n",
            "INFO:tensorflow:global_step/sec: 464.333\n",
            "INFO:tensorflow:loss = 165451070000.0, step = 9901 (0.213 sec)\n",
            "INFO:tensorflow:global_step/sec: 465.522\n",
            "INFO:tensorflow:loss = 40743985000.0, step = 10001 (0.216 sec)\n",
            "INFO:tensorflow:global_step/sec: 462.66\n",
            "INFO:tensorflow:loss = 149308920000.0, step = 10101 (0.217 sec)\n",
            "INFO:tensorflow:global_step/sec: 468.114\n",
            "INFO:tensorflow:loss = 63743775000.0, step = 10201 (0.211 sec)\n",
            "INFO:tensorflow:global_step/sec: 472.394\n",
            "INFO:tensorflow:loss = 117083930000.0, step = 10301 (0.213 sec)\n",
            "INFO:tensorflow:global_step/sec: 473.767\n",
            "INFO:tensorflow:loss = 169122090000.0, step = 10401 (0.210 sec)\n",
            "INFO:tensorflow:global_step/sec: 468.243\n",
            "INFO:tensorflow:loss = 55140024000.0, step = 10501 (0.219 sec)\n",
            "INFO:tensorflow:global_step/sec: 460.112\n",
            "INFO:tensorflow:loss = 94059450000.0, step = 10601 (0.213 sec)\n",
            "INFO:tensorflow:global_step/sec: 449.659\n",
            "INFO:tensorflow:loss = 177703120000.0, step = 10701 (0.221 sec)\n",
            "INFO:tensorflow:global_step/sec: 474.878\n",
            "INFO:tensorflow:loss = 131737035000.0, step = 10801 (0.212 sec)\n",
            "INFO:tensorflow:global_step/sec: 469.483\n",
            "INFO:tensorflow:loss = 60674847000.0, step = 10901 (0.212 sec)\n",
            "INFO:tensorflow:global_step/sec: 475.048\n",
            "INFO:tensorflow:loss = 136095040000.0, step = 11001 (0.214 sec)\n",
            "INFO:tensorflow:global_step/sec: 473.052\n",
            "INFO:tensorflow:loss = 252784380000.0, step = 11101 (0.208 sec)\n",
            "INFO:tensorflow:global_step/sec: 454.864\n",
            "INFO:tensorflow:loss = 156997680000.0, step = 11201 (0.220 sec)\n",
            "INFO:tensorflow:global_step/sec: 470.091\n",
            "INFO:tensorflow:loss = 100527415000.0, step = 11301 (0.213 sec)\n",
            "INFO:tensorflow:global_step/sec: 475.569\n",
            "INFO:tensorflow:loss = 67279593000.0, step = 11401 (0.212 sec)\n",
            "INFO:tensorflow:global_step/sec: 457.655\n",
            "INFO:tensorflow:loss = 94927020000.0, step = 11501 (0.223 sec)\n",
            "INFO:tensorflow:global_step/sec: 451.924\n",
            "INFO:tensorflow:loss = 101555814000.0, step = 11601 (0.217 sec)\n",
            "INFO:tensorflow:global_step/sec: 447.771\n",
            "INFO:tensorflow:loss = 157199840000.0, step = 11701 (0.236 sec)\n",
            "INFO:tensorflow:global_step/sec: 415.457\n",
            "INFO:tensorflow:loss = 88373170000.0, step = 11801 (0.225 sec)\n",
            "INFO:tensorflow:global_step/sec: 453.439\n",
            "INFO:tensorflow:loss = 152109730000.0, step = 11901 (0.221 sec)\n",
            "INFO:tensorflow:global_step/sec: 453.756\n",
            "INFO:tensorflow:loss = 119603360000.0, step = 12001 (0.224 sec)\n",
            "INFO:tensorflow:global_step/sec: 453.745\n",
            "INFO:tensorflow:loss = 73802820000.0, step = 12101 (0.217 sec)\n",
            "INFO:tensorflow:global_step/sec: 451.735\n",
            "INFO:tensorflow:loss = 92506060000.0, step = 12201 (0.224 sec)\n",
            "INFO:tensorflow:global_step/sec: 456.041\n",
            "INFO:tensorflow:loss = 117607980000.0, step = 12301 (0.219 sec)\n",
            "INFO:tensorflow:global_step/sec: 497.72\n",
            "INFO:tensorflow:loss = 78461060000.0, step = 12401 (0.205 sec)\n",
            "INFO:tensorflow:global_step/sec: 435.331\n",
            "INFO:tensorflow:loss = 108551310000.0, step = 12501 (0.227 sec)\n",
            "INFO:tensorflow:global_step/sec: 455\n",
            "INFO:tensorflow:loss = 67311395000.0, step = 12601 (0.218 sec)\n",
            "INFO:tensorflow:global_step/sec: 463.519\n",
            "INFO:tensorflow:loss = 152447630000.0, step = 12701 (0.220 sec)\n",
            "INFO:tensorflow:global_step/sec: 499.35\n",
            "INFO:tensorflow:loss = 110660846000.0, step = 12801 (0.195 sec)\n",
            "INFO:tensorflow:global_step/sec: 477.086\n",
            "INFO:tensorflow:loss = 73237365000.0, step = 12901 (0.211 sec)\n",
            "INFO:tensorflow:global_step/sec: 419.779\n",
            "INFO:tensorflow:loss = 46191866000.0, step = 13001 (0.245 sec)\n",
            "INFO:tensorflow:global_step/sec: 446.686\n",
            "INFO:tensorflow:loss = 61496623000.0, step = 13101 (0.219 sec)\n",
            "INFO:tensorflow:global_step/sec: 456.917\n",
            "INFO:tensorflow:loss = 228802100000.0, step = 13201 (0.218 sec)\n",
            "INFO:tensorflow:global_step/sec: 469.791\n",
            "INFO:tensorflow:loss = 97213300000.0, step = 13301 (0.222 sec)\n",
            "INFO:tensorflow:global_step/sec: 442.426\n",
            "INFO:tensorflow:loss = 140859080000.0, step = 13401 (0.219 sec)\n",
            "INFO:tensorflow:global_step/sec: 459.124\n",
            "INFO:tensorflow:loss = 107618150000.0, step = 13501 (0.217 sec)\n",
            "INFO:tensorflow:global_step/sec: 454.466\n",
            "INFO:tensorflow:loss = 36589162000.0, step = 13601 (0.218 sec)\n",
            "INFO:tensorflow:global_step/sec: 479.051\n",
            "INFO:tensorflow:loss = 125807360000.0, step = 13701 (0.212 sec)\n",
            "INFO:tensorflow:global_step/sec: 476.127\n",
            "INFO:tensorflow:loss = 54316720000.0, step = 13801 (0.211 sec)\n",
            "INFO:tensorflow:global_step/sec: 490.661\n",
            "INFO:tensorflow:loss = 99854025000.0, step = 13901 (0.210 sec)\n",
            "INFO:tensorflow:global_step/sec: 465.722\n",
            "INFO:tensorflow:loss = 68825430000.0, step = 14001 (0.212 sec)\n",
            "INFO:tensorflow:global_step/sec: 453.901\n",
            "INFO:tensorflow:loss = 58679566000.0, step = 14101 (0.219 sec)\n",
            "INFO:tensorflow:global_step/sec: 433.39\n",
            "INFO:tensorflow:loss = 175495770000.0, step = 14201 (0.232 sec)\n",
            "INFO:tensorflow:global_step/sec: 464.227\n",
            "INFO:tensorflow:loss = 114041360000.0, step = 14301 (0.211 sec)\n",
            "INFO:tensorflow:global_step/sec: 458.06\n",
            "INFO:tensorflow:loss = 81149260000.0, step = 14401 (0.217 sec)\n",
            "INFO:tensorflow:global_step/sec: 455.552\n",
            "INFO:tensorflow:loss = 206438300000.0, step = 14501 (0.217 sec)\n",
            "INFO:tensorflow:global_step/sec: 443.853\n",
            "INFO:tensorflow:loss = 51430728000.0, step = 14601 (0.227 sec)\n",
            "INFO:tensorflow:global_step/sec: 448.137\n",
            "INFO:tensorflow:loss = 21240392000.0, step = 14701 (0.221 sec)\n",
            "INFO:tensorflow:global_step/sec: 460.288\n",
            "INFO:tensorflow:loss = 110616830000.0, step = 14801 (0.221 sec)\n",
            "INFO:tensorflow:global_step/sec: 441.947\n",
            "INFO:tensorflow:loss = 121649226000.0, step = 14901 (0.225 sec)\n",
            "INFO:tensorflow:global_step/sec: 457.375\n",
            "INFO:tensorflow:loss = 82590640000.0, step = 15001 (0.219 sec)\n",
            "INFO:tensorflow:global_step/sec: 431.335\n",
            "INFO:tensorflow:loss = 39060955000.0, step = 15101 (0.230 sec)\n",
            "INFO:tensorflow:global_step/sec: 457.603\n",
            "INFO:tensorflow:loss = 80336240000.0, step = 15201 (0.219 sec)\n",
            "INFO:tensorflow:global_step/sec: 452.028\n",
            "INFO:tensorflow:loss = 175513730000.0, step = 15301 (0.221 sec)\n",
            "INFO:tensorflow:global_step/sec: 442.801\n",
            "INFO:tensorflow:loss = 50686476000.0, step = 15401 (0.224 sec)\n",
            "INFO:tensorflow:global_step/sec: 455.221\n",
            "INFO:tensorflow:loss = 34551726000.0, step = 15501 (0.223 sec)\n",
            "INFO:tensorflow:global_step/sec: 453.072\n",
            "INFO:tensorflow:loss = 44326330000.0, step = 15601 (0.218 sec)\n",
            "INFO:tensorflow:global_step/sec: 438.955\n",
            "INFO:tensorflow:loss = 135319420000.0, step = 15701 (0.231 sec)\n",
            "INFO:tensorflow:global_step/sec: 458.115\n",
            "INFO:tensorflow:loss = 78541820000.0, step = 15801 (0.216 sec)\n",
            "INFO:tensorflow:global_step/sec: 457.428\n",
            "INFO:tensorflow:loss = 148923220000.0, step = 15901 (0.221 sec)\n",
            "INFO:tensorflow:global_step/sec: 459.805\n",
            "INFO:tensorflow:loss = 43287695000.0, step = 16001 (0.217 sec)\n",
            "INFO:tensorflow:global_step/sec: 485.041\n",
            "INFO:tensorflow:loss = 45391688000.0, step = 16101 (0.204 sec)\n",
            "INFO:tensorflow:global_step/sec: 452.378\n",
            "INFO:tensorflow:loss = 77566860000.0, step = 16201 (0.221 sec)\n",
            "INFO:tensorflow:global_step/sec: 474.891\n",
            "INFO:tensorflow:loss = 50970608000.0, step = 16301 (0.211 sec)\n",
            "INFO:tensorflow:global_step/sec: 432.088\n",
            "INFO:tensorflow:loss = 64569164000.0, step = 16401 (0.235 sec)\n",
            "INFO:tensorflow:global_step/sec: 431.515\n",
            "INFO:tensorflow:loss = 99241950000.0, step = 16501 (0.236 sec)\n",
            "INFO:tensorflow:global_step/sec: 431.173\n",
            "INFO:tensorflow:loss = 199263420000.0, step = 16601 (0.224 sec)\n",
            "INFO:tensorflow:global_step/sec: 456.259\n",
            "INFO:tensorflow:loss = 126477780000.0, step = 16701 (0.222 sec)\n",
            "INFO:tensorflow:global_step/sec: 444.812\n",
            "INFO:tensorflow:loss = 110814855000.0, step = 16801 (0.224 sec)\n",
            "INFO:tensorflow:global_step/sec: 442.198\n",
            "INFO:tensorflow:loss = 66454446000.0, step = 16901 (0.225 sec)\n",
            "INFO:tensorflow:global_step/sec: 425.089\n",
            "INFO:tensorflow:loss = 152694820000.0, step = 17001 (0.236 sec)\n",
            "INFO:tensorflow:global_step/sec: 463.51\n",
            "INFO:tensorflow:loss = 70487730000.0, step = 17101 (0.219 sec)\n",
            "INFO:tensorflow:global_step/sec: 475.699\n",
            "INFO:tensorflow:loss = 108492080000.0, step = 17201 (0.206 sec)\n",
            "INFO:tensorflow:global_step/sec: 467.798\n",
            "INFO:tensorflow:loss = 120433790000.0, step = 17301 (0.216 sec)\n",
            "INFO:tensorflow:global_step/sec: 461.017\n",
            "INFO:tensorflow:loss = 78585370000.0, step = 17401 (0.216 sec)\n",
            "INFO:tensorflow:global_step/sec: 490.19\n",
            "INFO:tensorflow:loss = 107343900000.0, step = 17501 (0.207 sec)\n",
            "INFO:tensorflow:global_step/sec: 538.531\n",
            "INFO:tensorflow:loss = 67652540000.0, step = 17601 (0.185 sec)\n",
            "INFO:tensorflow:global_step/sec: 484.185\n",
            "INFO:tensorflow:loss = 109854660000.0, step = 17701 (0.204 sec)\n",
            "INFO:tensorflow:global_step/sec: 494.078\n",
            "INFO:tensorflow:loss = 77897780000.0, step = 17801 (0.211 sec)\n",
            "INFO:tensorflow:global_step/sec: 448.909\n",
            "INFO:tensorflow:loss = 146508640000.0, step = 17901 (0.213 sec)\n",
            "INFO:tensorflow:global_step/sec: 450.568\n",
            "INFO:tensorflow:loss = 150648400000.0, step = 18001 (0.224 sec)\n",
            "INFO:tensorflow:global_step/sec: 480.649\n",
            "INFO:tensorflow:loss = 93826770000.0, step = 18101 (0.210 sec)\n",
            "INFO:tensorflow:global_step/sec: 476.12\n",
            "INFO:tensorflow:loss = 98474030000.0, step = 18201 (0.210 sec)\n",
            "INFO:tensorflow:global_step/sec: 500.281\n",
            "INFO:tensorflow:loss = 77514690000.0, step = 18301 (0.198 sec)\n",
            "INFO:tensorflow:global_step/sec: 485.995\n",
            "INFO:tensorflow:loss = 47991677000.0, step = 18401 (0.208 sec)\n",
            "INFO:tensorflow:global_step/sec: 556.99\n",
            "INFO:tensorflow:loss = 40402514000.0, step = 18501 (0.179 sec)\n",
            "INFO:tensorflow:global_step/sec: 491.723\n",
            "INFO:tensorflow:loss = 151446200000.0, step = 18601 (0.215 sec)\n",
            "INFO:tensorflow:global_step/sec: 450.95\n",
            "INFO:tensorflow:loss = 69101740000.0, step = 18701 (0.215 sec)\n",
            "INFO:tensorflow:global_step/sec: 435.062\n",
            "INFO:tensorflow:loss = 70928010000.0, step = 18801 (0.223 sec)\n",
            "INFO:tensorflow:global_step/sec: 450.058\n",
            "INFO:tensorflow:loss = 71143610000.0, step = 18901 (0.234 sec)\n",
            "INFO:tensorflow:global_step/sec: 420.446\n",
            "INFO:tensorflow:loss = 120856070000.0, step = 19001 (0.225 sec)\n",
            "INFO:tensorflow:global_step/sec: 488.864\n",
            "INFO:tensorflow:loss = 143993440000.0, step = 19101 (0.207 sec)\n",
            "INFO:tensorflow:global_step/sec: 481.846\n",
            "INFO:tensorflow:loss = 36101770000.0, step = 19201 (0.210 sec)\n",
            "INFO:tensorflow:global_step/sec: 469.724\n",
            "INFO:tensorflow:loss = 37919410000.0, step = 19301 (0.213 sec)\n",
            "INFO:tensorflow:global_step/sec: 441.89\n",
            "INFO:tensorflow:loss = 136439800000.0, step = 19401 (0.228 sec)\n",
            "INFO:tensorflow:global_step/sec: 420.93\n",
            "INFO:tensorflow:loss = 31545686000.0, step = 19501 (0.233 sec)\n",
            "INFO:tensorflow:global_step/sec: 466.195\n",
            "INFO:tensorflow:loss = 44839760000.0, step = 19601 (0.215 sec)\n",
            "INFO:tensorflow:global_step/sec: 431.218\n",
            "INFO:tensorflow:loss = 165325470000.0, step = 19701 (0.235 sec)\n",
            "INFO:tensorflow:global_step/sec: 474.277\n",
            "INFO:tensorflow:loss = 109565390000.0, step = 19801 (0.212 sec)\n",
            "INFO:tensorflow:global_step/sec: 468.856\n",
            "INFO:tensorflow:loss = 132641310000.0, step = 19901 (0.209 sec)\n",
            "INFO:tensorflow:global_step/sec: 498.447\n",
            "INFO:tensorflow:loss = 144381080000.0, step = 20001 (0.202 sec)\n",
            "INFO:tensorflow:global_step/sec: 479.245\n",
            "INFO:tensorflow:loss = 49660240000.0, step = 20101 (0.208 sec)\n",
            "INFO:tensorflow:global_step/sec: 489.87\n",
            "INFO:tensorflow:loss = 125930850000.0, step = 20201 (0.208 sec)\n",
            "INFO:tensorflow:global_step/sec: 437.499\n",
            "INFO:tensorflow:loss = 139984700000.0, step = 20301 (0.229 sec)\n",
            "INFO:tensorflow:global_step/sec: 459\n",
            "INFO:tensorflow:loss = 149642900000.0, step = 20401 (0.216 sec)\n",
            "INFO:tensorflow:global_step/sec: 454.827\n",
            "INFO:tensorflow:loss = 75176034000.0, step = 20501 (0.216 sec)\n",
            "INFO:tensorflow:global_step/sec: 488.332\n",
            "INFO:tensorflow:loss = 54067663000.0, step = 20601 (0.206 sec)\n",
            "INFO:tensorflow:global_step/sec: 469.154\n",
            "INFO:tensorflow:loss = 71467600000.0, step = 20701 (0.215 sec)\n",
            "INFO:tensorflow:global_step/sec: 501.196\n",
            "INFO:tensorflow:loss = 158909890000.0, step = 20801 (0.198 sec)\n",
            "INFO:tensorflow:global_step/sec: 466.234\n",
            "INFO:tensorflow:loss = 190040590000.0, step = 20901 (0.222 sec)\n",
            "INFO:tensorflow:global_step/sec: 451.373\n",
            "INFO:tensorflow:loss = 92149560000.0, step = 21001 (0.223 sec)\n",
            "INFO:tensorflow:global_step/sec: 445.928\n",
            "INFO:tensorflow:loss = 52209517000.0, step = 21101 (0.223 sec)\n",
            "INFO:tensorflow:global_step/sec: 456.81\n",
            "INFO:tensorflow:loss = 89458950000.0, step = 21201 (0.208 sec)\n",
            "INFO:tensorflow:global_step/sec: 466.508\n",
            "INFO:tensorflow:loss = 67028790000.0, step = 21301 (0.214 sec)\n",
            "INFO:tensorflow:global_step/sec: 465.588\n",
            "INFO:tensorflow:loss = 59544048000.0, step = 21401 (0.215 sec)\n",
            "INFO:tensorflow:global_step/sec: 481.711\n",
            "INFO:tensorflow:loss = 63913206000.0, step = 21501 (0.213 sec)\n",
            "INFO:tensorflow:global_step/sec: 442.693\n",
            "INFO:tensorflow:loss = 113289500000.0, step = 21601 (0.225 sec)\n",
            "INFO:tensorflow:global_step/sec: 452.456\n",
            "INFO:tensorflow:loss = 30882136000.0, step = 21701 (0.224 sec)\n",
            "INFO:tensorflow:global_step/sec: 446.936\n",
            "INFO:tensorflow:loss = 83383370000.0, step = 21801 (0.219 sec)\n",
            "INFO:tensorflow:global_step/sec: 435.539\n",
            "INFO:tensorflow:loss = 14134942000.0, step = 21901 (0.231 sec)\n",
            "INFO:tensorflow:global_step/sec: 444.814\n",
            "INFO:tensorflow:loss = 145930860000.0, step = 22001 (0.231 sec)\n",
            "INFO:tensorflow:global_step/sec: 460.678\n",
            "INFO:tensorflow:loss = 46523097000.0, step = 22101 (0.207 sec)\n",
            "INFO:tensorflow:global_step/sec: 466.065\n",
            "INFO:tensorflow:loss = 106972660000.0, step = 22201 (0.213 sec)\n",
            "INFO:tensorflow:global_step/sec: 463.466\n",
            "INFO:tensorflow:loss = 36017906000.0, step = 22301 (0.217 sec)\n",
            "INFO:tensorflow:global_step/sec: 458.197\n",
            "INFO:tensorflow:loss = 76130120000.0, step = 22401 (0.221 sec)\n",
            "INFO:tensorflow:global_step/sec: 470.549\n",
            "INFO:tensorflow:loss = 123226260000.0, step = 22501 (0.208 sec)\n",
            "INFO:tensorflow:global_step/sec: 486.846\n",
            "INFO:tensorflow:loss = 47169462000.0, step = 22601 (0.206 sec)\n",
            "INFO:tensorflow:global_step/sec: 466.823\n",
            "INFO:tensorflow:loss = 104697094000.0, step = 22701 (0.215 sec)\n",
            "INFO:tensorflow:global_step/sec: 451.724\n",
            "INFO:tensorflow:loss = 102278610000.0, step = 22801 (0.224 sec)\n",
            "INFO:tensorflow:global_step/sec: 461.14\n",
            "INFO:tensorflow:loss = 94543510000.0, step = 22901 (0.222 sec)\n",
            "INFO:tensorflow:global_step/sec: 472.723\n",
            "INFO:tensorflow:loss = 48175505000.0, step = 23001 (0.212 sec)\n",
            "INFO:tensorflow:global_step/sec: 467.893\n",
            "INFO:tensorflow:loss = 155100870000.0, step = 23101 (0.212 sec)\n",
            "INFO:tensorflow:global_step/sec: 461.695\n",
            "INFO:tensorflow:loss = 106212440000.0, step = 23201 (0.215 sec)\n",
            "INFO:tensorflow:global_step/sec: 462.531\n",
            "INFO:tensorflow:loss = 94352660000.0, step = 23301 (0.213 sec)\n",
            "INFO:tensorflow:global_step/sec: 473.61\n",
            "INFO:tensorflow:loss = 160228720000.0, step = 23401 (0.212 sec)\n",
            "INFO:tensorflow:global_step/sec: 473.029\n",
            "INFO:tensorflow:loss = 221717450000.0, step = 23501 (0.217 sec)\n",
            "INFO:tensorflow:global_step/sec: 457.166\n",
            "INFO:tensorflow:loss = 66304442000.0, step = 23601 (0.212 sec)\n",
            "INFO:tensorflow:global_step/sec: 505.717\n",
            "INFO:tensorflow:loss = 75523250000.0, step = 23701 (0.196 sec)\n",
            "INFO:tensorflow:global_step/sec: 461.883\n",
            "INFO:tensorflow:loss = 132751790000.0, step = 23801 (0.223 sec)\n",
            "INFO:tensorflow:global_step/sec: 451.062\n",
            "INFO:tensorflow:loss = 58501226000.0, step = 23901 (0.219 sec)\n",
            "INFO:tensorflow:global_step/sec: 464.562\n",
            "INFO:tensorflow:loss = 51292340000.0, step = 24001 (0.219 sec)\n",
            "INFO:tensorflow:global_step/sec: 460.693\n",
            "INFO:tensorflow:loss = 70703760000.0, step = 24101 (0.216 sec)\n",
            "INFO:tensorflow:global_step/sec: 455.694\n",
            "INFO:tensorflow:loss = 145410360000.0, step = 24201 (0.218 sec)\n",
            "INFO:tensorflow:global_step/sec: 474.655\n",
            "INFO:tensorflow:loss = 105154820000.0, step = 24301 (0.211 sec)\n",
            "INFO:tensorflow:global_step/sec: 435.726\n",
            "INFO:tensorflow:loss = 69606070000.0, step = 24401 (0.223 sec)\n",
            "INFO:tensorflow:global_step/sec: 458.505\n",
            "INFO:tensorflow:loss = 94561800000.0, step = 24501 (0.218 sec)\n",
            "INFO:tensorflow:global_step/sec: 460.498\n",
            "INFO:tensorflow:loss = 32330496000.0, step = 24601 (0.217 sec)\n",
            "INFO:tensorflow:global_step/sec: 456.741\n",
            "INFO:tensorflow:loss = 31243096000.0, step = 24701 (0.221 sec)\n",
            "INFO:tensorflow:global_step/sec: 326.975\n",
            "INFO:tensorflow:loss = 108918050000.0, step = 24801 (0.308 sec)\n",
            "INFO:tensorflow:global_step/sec: 443.957\n",
            "INFO:tensorflow:loss = 88057150000.0, step = 24901 (0.230 sec)\n",
            "INFO:tensorflow:Saving checkpoints for 25000 into /tmp/tmptz5jrh9b/model.ckpt.\n",
            "INFO:tensorflow:Loss for final step: 77667020000.0.\n"
          ],
          "name": "stdout"
        },
        {
          "output_type": "execute_result",
          "data": {
            "text/plain": [
              "<tensorflow_estimator.python.estimator.canned.dnn.DNNRegressor at 0x7f000b08a080>"
            ]
          },
          "metadata": {
            "tags": []
          },
          "execution_count": 33
        }
      ]
    },
    {
      "cell_type": "code",
      "metadata": {
        "id": "DHaEMP8t6HSG",
        "colab_type": "code",
        "colab": {}
      },
      "source": [
        "#create predict input function\n",
        "predict_input_func = tf.estimator.inputs.pandas_input_fn(x=X_test, batch_size= 10, num_epochs=1, shuffle= False)"
      ],
      "execution_count": 0,
      "outputs": []
    },
    {
      "cell_type": "code",
      "metadata": {
        "id": "1ldvmYhP6mEH",
        "colab_type": "code",
        "colab": {}
      },
      "source": [
        "pred_generator = model.predict(predict_input_func)"
      ],
      "execution_count": 0,
      "outputs": []
    },
    {
      "cell_type": "code",
      "metadata": {
        "id": "7gZd-ksG6wdK",
        "colab_type": "code",
        "colab": {
          "base_uri": "https://localhost:8080/",
          "height": 119
        },
        "outputId": "9e262e42-71ff-46c4-8dff-827207f3f495"
      },
      "source": [
        "predictions = list(pred_generator)"
      ],
      "execution_count": 36,
      "outputs": [
        {
          "output_type": "stream",
          "text": [
            "INFO:tensorflow:Calling model_fn.\n",
            "INFO:tensorflow:Done calling model_fn.\n",
            "INFO:tensorflow:Graph was finalized.\n",
            "INFO:tensorflow:Restoring parameters from /tmp/tmptz5jrh9b/model.ckpt-25000\n",
            "INFO:tensorflow:Running local_init_op.\n",
            "INFO:tensorflow:Done running local_init_op.\n"
          ],
          "name": "stdout"
        }
      ]
    },
    {
      "cell_type": "code",
      "metadata": {
        "id": "xsyPKbqC61wB",
        "colab_type": "code",
        "colab": {}
      },
      "source": [
        "#RMSE\n",
        "final_preds = []\n",
        "for pred in predictions:\n",
        "  final_preds.append(pred[\"predictions\"])"
      ],
      "execution_count": 0,
      "outputs": []
    },
    {
      "cell_type": "code",
      "metadata": {
        "id": "n1lH-jf28MUZ",
        "colab_type": "code",
        "colab": {
          "base_uri": "https://localhost:8080/",
          "height": 34
        },
        "outputId": "865188d7-e3b3-4dd7-d39c-9ac5b366be14"
      },
      "source": [
        "from sklearn.metrics import mean_squared_error\n",
        "mean_squared_error(y_test, final_preds)**0.05"
      ],
      "execution_count": 39,
      "outputs": [
        {
          "output_type": "execute_result",
          "data": {
            "text/plain": [
              "3.1468311277873053"
            ]
          },
          "metadata": {
            "tags": []
          },
          "execution_count": 39
        }
      ]
    },
    {
      "cell_type": "code",
      "metadata": {
        "id": "wn2hWfJh8aNm",
        "colab_type": "code",
        "colab": {}
      },
      "source": [
        ""
      ],
      "execution_count": 0,
      "outputs": []
    }
  ]
}