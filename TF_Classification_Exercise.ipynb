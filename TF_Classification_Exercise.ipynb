{
  "nbformat": 4,
  "nbformat_minor": 0,
  "metadata": {
    "colab": {
      "name": "TF-Classification Exercise.ipynb",
      "provenance": [],
      "include_colab_link": true
    },
    "kernelspec": {
      "name": "python3",
      "display_name": "Python 3"
    }
  },
  "cells": [
    {
      "cell_type": "markdown",
      "metadata": {
        "id": "view-in-github",
        "colab_type": "text"
      },
      "source": [
        "<a href=\"https://colab.research.google.com/github/ctclumak/posts/blob/master/TF_Classification_Exercise.ipynb\" target=\"_parent\"><img src=\"https://colab.research.google.com/assets/colab-badge.svg\" alt=\"Open In Colab\"/></a>"
      ]
    },
    {
      "cell_type": "code",
      "metadata": {
        "id": "VthrtSG597o_",
        "colab_type": "code",
        "outputId": "df7d2caa-147e-4d3c-f08a-1da0864ad395",
        "colab": {
          "base_uri": "https://localhost:8080/",
          "height": 80
        }
      },
      "source": [
        "import pandas as pd\n",
        "import numpy as np\n",
        "import matplotlib.pyplot as plt\n",
        "import tensorflow as tf\n",
        "%matplotlib inline"
      ],
      "execution_count": 2,
      "outputs": [
        {
          "output_type": "display_data",
          "data": {
            "text/html": [
              "<p style=\"color: red;\">\n",
              "The default version of TensorFlow in Colab will soon switch to TensorFlow 2.x.<br>\n",
              "We recommend you <a href=\"https://www.tensorflow.org/guide/migrate\" target=\"_blank\">upgrade</a> now \n",
              "or ensure your notebook will continue to use TensorFlow 1.x via the <code>%tensorflow_version 1.x</code> magic:\n",
              "<a href=\"https://colab.research.google.com/notebooks/tensorflow_version.ipynb\" target=\"_blank\">more info</a>.</p>\n"
            ],
            "text/plain": [
              "<IPython.core.display.HTML object>"
            ]
          },
          "metadata": {
            "tags": []
          }
        }
      ]
    },
    {
      "cell_type": "code",
      "metadata": {
        "id": "Ut9gUMTL-JWW",
        "colab_type": "code",
        "colab": {}
      },
      "source": [
        "census = pd.read_csv(\"census_data.csv\")"
      ],
      "execution_count": 0,
      "outputs": []
    },
    {
      "cell_type": "code",
      "metadata": {
        "id": "RwzMJ3d4mXXA",
        "colab_type": "code",
        "colab": {
          "base_uri": "https://localhost:8080/",
          "height": 292
        },
        "outputId": "1b00ca38-9b58-4fd6-d559-0b9ce2eda441"
      },
      "source": [
        "census.head()"
      ],
      "execution_count": 5,
      "outputs": [
        {
          "output_type": "execute_result",
          "data": {
            "text/html": [
              "<div>\n",
              "<style scoped>\n",
              "    .dataframe tbody tr th:only-of-type {\n",
              "        vertical-align: middle;\n",
              "    }\n",
              "\n",
              "    .dataframe tbody tr th {\n",
              "        vertical-align: top;\n",
              "    }\n",
              "\n",
              "    .dataframe thead th {\n",
              "        text-align: right;\n",
              "    }\n",
              "</style>\n",
              "<table border=\"1\" class=\"dataframe\">\n",
              "  <thead>\n",
              "    <tr style=\"text-align: right;\">\n",
              "      <th></th>\n",
              "      <th>age</th>\n",
              "      <th>workclass</th>\n",
              "      <th>education</th>\n",
              "      <th>education_num</th>\n",
              "      <th>marital_status</th>\n",
              "      <th>occupation</th>\n",
              "      <th>relationship</th>\n",
              "      <th>race</th>\n",
              "      <th>gender</th>\n",
              "      <th>capital_gain</th>\n",
              "      <th>capital_loss</th>\n",
              "      <th>hours_per_week</th>\n",
              "      <th>native_country</th>\n",
              "      <th>income_bracket</th>\n",
              "    </tr>\n",
              "  </thead>\n",
              "  <tbody>\n",
              "    <tr>\n",
              "      <th>0</th>\n",
              "      <td>39</td>\n",
              "      <td>State-gov</td>\n",
              "      <td>Bachelors</td>\n",
              "      <td>13</td>\n",
              "      <td>Never-married</td>\n",
              "      <td>Adm-clerical</td>\n",
              "      <td>Not-in-family</td>\n",
              "      <td>White</td>\n",
              "      <td>Male</td>\n",
              "      <td>2174</td>\n",
              "      <td>0</td>\n",
              "      <td>40</td>\n",
              "      <td>United-States</td>\n",
              "      <td>&lt;=50K</td>\n",
              "    </tr>\n",
              "    <tr>\n",
              "      <th>1</th>\n",
              "      <td>50</td>\n",
              "      <td>Self-emp-not-inc</td>\n",
              "      <td>Bachelors</td>\n",
              "      <td>13</td>\n",
              "      <td>Married-civ-spouse</td>\n",
              "      <td>Exec-managerial</td>\n",
              "      <td>Husband</td>\n",
              "      <td>White</td>\n",
              "      <td>Male</td>\n",
              "      <td>0</td>\n",
              "      <td>0</td>\n",
              "      <td>13</td>\n",
              "      <td>United-States</td>\n",
              "      <td>&lt;=50K</td>\n",
              "    </tr>\n",
              "    <tr>\n",
              "      <th>2</th>\n",
              "      <td>38</td>\n",
              "      <td>Private</td>\n",
              "      <td>HS-grad</td>\n",
              "      <td>9</td>\n",
              "      <td>Divorced</td>\n",
              "      <td>Handlers-cleaners</td>\n",
              "      <td>Not-in-family</td>\n",
              "      <td>White</td>\n",
              "      <td>Male</td>\n",
              "      <td>0</td>\n",
              "      <td>0</td>\n",
              "      <td>40</td>\n",
              "      <td>United-States</td>\n",
              "      <td>&lt;=50K</td>\n",
              "    </tr>\n",
              "    <tr>\n",
              "      <th>3</th>\n",
              "      <td>53</td>\n",
              "      <td>Private</td>\n",
              "      <td>11th</td>\n",
              "      <td>7</td>\n",
              "      <td>Married-civ-spouse</td>\n",
              "      <td>Handlers-cleaners</td>\n",
              "      <td>Husband</td>\n",
              "      <td>Black</td>\n",
              "      <td>Male</td>\n",
              "      <td>0</td>\n",
              "      <td>0</td>\n",
              "      <td>40</td>\n",
              "      <td>United-States</td>\n",
              "      <td>&lt;=50K</td>\n",
              "    </tr>\n",
              "    <tr>\n",
              "      <th>4</th>\n",
              "      <td>28</td>\n",
              "      <td>Private</td>\n",
              "      <td>Bachelors</td>\n",
              "      <td>13</td>\n",
              "      <td>Married-civ-spouse</td>\n",
              "      <td>Prof-specialty</td>\n",
              "      <td>Wife</td>\n",
              "      <td>Black</td>\n",
              "      <td>Female</td>\n",
              "      <td>0</td>\n",
              "      <td>0</td>\n",
              "      <td>40</td>\n",
              "      <td>Cuba</td>\n",
              "      <td>&lt;=50K</td>\n",
              "    </tr>\n",
              "  </tbody>\n",
              "</table>\n",
              "</div>"
            ],
            "text/plain": [
              "   age          workclass  ...  native_country  income_bracket\n",
              "0   39          State-gov  ...   United-States           <=50K\n",
              "1   50   Self-emp-not-inc  ...   United-States           <=50K\n",
              "2   38            Private  ...   United-States           <=50K\n",
              "3   53            Private  ...   United-States           <=50K\n",
              "4   28            Private  ...            Cuba           <=50K\n",
              "\n",
              "[5 rows x 14 columns]"
            ]
          },
          "metadata": {
            "tags": []
          },
          "execution_count": 5
        }
      ]
    },
    {
      "cell_type": "code",
      "metadata": {
        "id": "cZYXrSO-mfzL",
        "colab_type": "code",
        "colab": {
          "base_uri": "https://localhost:8080/",
          "height": 34
        },
        "outputId": "7d99e0b0-0c89-4633-f9a0-20862c163de2"
      },
      "source": [
        "#converte the label column to 0 and 1  instread of string\n",
        "census.income_bracket.unique()"
      ],
      "execution_count": 6,
      "outputs": [
        {
          "output_type": "execute_result",
          "data": {
            "text/plain": [
              "array([' <=50K', ' >50K'], dtype=object)"
            ]
          },
          "metadata": {
            "tags": []
          },
          "execution_count": 6
        }
      ]
    },
    {
      "cell_type": "code",
      "metadata": {
        "id": "4bLovD5Ym2NE",
        "colab_type": "code",
        "colab": {}
      },
      "source": [
        "def label_fix(label):\n",
        "  if label == ' <=50K':\n",
        "    return 0 \n",
        "  else:\n",
        "    return 1"
      ],
      "execution_count": 0,
      "outputs": []
    },
    {
      "cell_type": "code",
      "metadata": {
        "id": "rJiVvbTOnHBz",
        "colab_type": "code",
        "colab": {
          "base_uri": "https://localhost:8080/",
          "height": 292
        },
        "outputId": "a7fe1b41-aa71-4a3b-d78f-1a653fb00de0"
      },
      "source": [
        "census.income_bracket = census.income_bracket.apply(label_fix)\n",
        "census.head()"
      ],
      "execution_count": 12,
      "outputs": [
        {
          "output_type": "execute_result",
          "data": {
            "text/html": [
              "<div>\n",
              "<style scoped>\n",
              "    .dataframe tbody tr th:only-of-type {\n",
              "        vertical-align: middle;\n",
              "    }\n",
              "\n",
              "    .dataframe tbody tr th {\n",
              "        vertical-align: top;\n",
              "    }\n",
              "\n",
              "    .dataframe thead th {\n",
              "        text-align: right;\n",
              "    }\n",
              "</style>\n",
              "<table border=\"1\" class=\"dataframe\">\n",
              "  <thead>\n",
              "    <tr style=\"text-align: right;\">\n",
              "      <th></th>\n",
              "      <th>age</th>\n",
              "      <th>workclass</th>\n",
              "      <th>education</th>\n",
              "      <th>education_num</th>\n",
              "      <th>marital_status</th>\n",
              "      <th>occupation</th>\n",
              "      <th>relationship</th>\n",
              "      <th>race</th>\n",
              "      <th>gender</th>\n",
              "      <th>capital_gain</th>\n",
              "      <th>capital_loss</th>\n",
              "      <th>hours_per_week</th>\n",
              "      <th>native_country</th>\n",
              "      <th>income_bracket</th>\n",
              "    </tr>\n",
              "  </thead>\n",
              "  <tbody>\n",
              "    <tr>\n",
              "      <th>0</th>\n",
              "      <td>39</td>\n",
              "      <td>State-gov</td>\n",
              "      <td>Bachelors</td>\n",
              "      <td>13</td>\n",
              "      <td>Never-married</td>\n",
              "      <td>Adm-clerical</td>\n",
              "      <td>Not-in-family</td>\n",
              "      <td>White</td>\n",
              "      <td>Male</td>\n",
              "      <td>2174</td>\n",
              "      <td>0</td>\n",
              "      <td>40</td>\n",
              "      <td>United-States</td>\n",
              "      <td>0</td>\n",
              "    </tr>\n",
              "    <tr>\n",
              "      <th>1</th>\n",
              "      <td>50</td>\n",
              "      <td>Self-emp-not-inc</td>\n",
              "      <td>Bachelors</td>\n",
              "      <td>13</td>\n",
              "      <td>Married-civ-spouse</td>\n",
              "      <td>Exec-managerial</td>\n",
              "      <td>Husband</td>\n",
              "      <td>White</td>\n",
              "      <td>Male</td>\n",
              "      <td>0</td>\n",
              "      <td>0</td>\n",
              "      <td>13</td>\n",
              "      <td>United-States</td>\n",
              "      <td>0</td>\n",
              "    </tr>\n",
              "    <tr>\n",
              "      <th>2</th>\n",
              "      <td>38</td>\n",
              "      <td>Private</td>\n",
              "      <td>HS-grad</td>\n",
              "      <td>9</td>\n",
              "      <td>Divorced</td>\n",
              "      <td>Handlers-cleaners</td>\n",
              "      <td>Not-in-family</td>\n",
              "      <td>White</td>\n",
              "      <td>Male</td>\n",
              "      <td>0</td>\n",
              "      <td>0</td>\n",
              "      <td>40</td>\n",
              "      <td>United-States</td>\n",
              "      <td>0</td>\n",
              "    </tr>\n",
              "    <tr>\n",
              "      <th>3</th>\n",
              "      <td>53</td>\n",
              "      <td>Private</td>\n",
              "      <td>11th</td>\n",
              "      <td>7</td>\n",
              "      <td>Married-civ-spouse</td>\n",
              "      <td>Handlers-cleaners</td>\n",
              "      <td>Husband</td>\n",
              "      <td>Black</td>\n",
              "      <td>Male</td>\n",
              "      <td>0</td>\n",
              "      <td>0</td>\n",
              "      <td>40</td>\n",
              "      <td>United-States</td>\n",
              "      <td>0</td>\n",
              "    </tr>\n",
              "    <tr>\n",
              "      <th>4</th>\n",
              "      <td>28</td>\n",
              "      <td>Private</td>\n",
              "      <td>Bachelors</td>\n",
              "      <td>13</td>\n",
              "      <td>Married-civ-spouse</td>\n",
              "      <td>Prof-specialty</td>\n",
              "      <td>Wife</td>\n",
              "      <td>Black</td>\n",
              "      <td>Female</td>\n",
              "      <td>0</td>\n",
              "      <td>0</td>\n",
              "      <td>40</td>\n",
              "      <td>Cuba</td>\n",
              "      <td>0</td>\n",
              "    </tr>\n",
              "  </tbody>\n",
              "</table>\n",
              "</div>"
            ],
            "text/plain": [
              "   age          workclass  ...  native_country  income_bracket\n",
              "0   39          State-gov  ...   United-States               0\n",
              "1   50   Self-emp-not-inc  ...   United-States               0\n",
              "2   38            Private  ...   United-States               0\n",
              "3   53            Private  ...   United-States               0\n",
              "4   28            Private  ...            Cuba               0\n",
              "\n",
              "[5 rows x 14 columns]"
            ]
          },
          "metadata": {
            "tags": []
          },
          "execution_count": 12
        }
      ]
    },
    {
      "cell_type": "code",
      "metadata": {
        "id": "_CDUxoXwnZqz",
        "colab_type": "code",
        "colab": {}
      },
      "source": [
        "x_data = census.drop(\"income_bracket\", axis = 1)\n",
        "y_val = census.income_bracket\n",
        "from sklearn.model_selection import train_test_split\n",
        "X_train, X_test, y_train, y_test = train_test_split(x_data, y_val, test_size = 0.3, random_state = 101)\n"
      ],
      "execution_count": 0,
      "outputs": []
    },
    {
      "cell_type": "code",
      "metadata": {
        "id": "_Ioh02t0nu_f",
        "colab_type": "code",
        "colab": {
          "base_uri": "https://localhost:8080/",
          "height": 85
        },
        "outputId": "efad7b44-b240-4bed-e970-44c35d0489c5"
      },
      "source": [
        "#create the feature column\n",
        "census.columns"
      ],
      "execution_count": 17,
      "outputs": [
        {
          "output_type": "execute_result",
          "data": {
            "text/plain": [
              "Index(['age', 'workclass', 'education', 'education_num', 'marital_status',\n",
              "       'occupation', 'relationship', 'race', 'gender', 'capital_gain',\n",
              "       'capital_loss', 'hours_per_week', 'native_country', 'income_bracket'],\n",
              "      dtype='object')"
            ]
          },
          "metadata": {
            "tags": []
          },
          "execution_count": 17
        }
      ]
    },
    {
      "cell_type": "code",
      "metadata": {
        "id": "cYPbeZg6oNeC",
        "colab_type": "code",
        "colab": {}
      },
      "source": [
        "#categorical feture columns"
      ],
      "execution_count": 0,
      "outputs": []
    },
    {
      "cell_type": "code",
      "metadata": {
        "id": "xVxR_BhKrGax",
        "colab_type": "code",
        "colab": {}
      },
      "source": [
        "gender = tf.feature_column.categorical_column_with_vocabulary_list(\"gender\", [\"Female\",\"Male\"])\n",
        "occupation = tf.feature_column.categorical_column_with_hash_bucket(\"occupation\", hash_bucket_size=1000)\n",
        "marital_status = tf.feature_column.categorical_column_with_hash_bucket(\"marital_status\", hash_bucket_size=1000)\n",
        "relationship = tf.feature_column.categorical_column_with_hash_bucket(\"relationship\", hash_bucket_size=1000)\n",
        "education = tf.feature_column.categorical_column_with_hash_bucket(\"education\", hash_bucket_size=1000)\n",
        "workclass = tf.feature_column.categorical_column_with_hash_bucket(\"workclass\", hash_bucket_size=1000)\n",
        "native_country = tf.feature_column.categorical_column_with_hash_bucket(\"native_country\", hash_bucket_size=1000)"
      ],
      "execution_count": 0,
      "outputs": []
    },
    {
      "cell_type": "code",
      "metadata": {
        "id": "Yaarj1Azrcsa",
        "colab_type": "code",
        "colab": {}
      },
      "source": [
        "#numerical feature columns\n",
        "\n",
        "age = tf.feature_column.numeric_column(\"age\")\n",
        "education_num = tf.feature_column.numeric_column(\"education_num\")\n",
        "capital_gain = tf.feature_column.numeric_column(\"capital_gain\")\n",
        "capital_loss = tf.feature_column.numeric_column(\"capital_loss\")\n",
        "hours_per_week = tf.feature_column.numeric_column(\"hours_per_week\")"
      ],
      "execution_count": 0,
      "outputs": []
    },
    {
      "cell_type": "code",
      "metadata": {
        "id": "UxjqQcSjskqA",
        "colab_type": "code",
        "colab": {}
      },
      "source": [
        "feat_cols = [gender,occupation,marital_status,relationship,education,workclass,native_country,\n",
        "            age,education_num,capital_gain,capital_loss,hours_per_week]"
      ],
      "execution_count": 0,
      "outputs": []
    },
    {
      "cell_type": "code",
      "metadata": {
        "id": "rlpkwGPIs1yq",
        "colab_type": "code",
        "colab": {}
      },
      "source": [
        "#create the input function\n",
        "input_func = tf.estimator.inputs.pandas_input_fn(X_train, y_train, batch_size= 100, num_epochs= None,shuffle= True)"
      ],
      "execution_count": 0,
      "outputs": []
    },
    {
      "cell_type": "code",
      "metadata": {
        "id": "ZvA4dqGEtRyD",
        "colab_type": "code",
        "colab": {
          "base_uri": "https://localhost:8080/",
          "height": 190
        },
        "outputId": "4efa91ab-a731-48eb-dff4-7191ddc59250"
      },
      "source": [
        "#create model\n",
        "model = tf.estimator.LinearClassifier(feature_columns= feat_cols)"
      ],
      "execution_count": 25,
      "outputs": [
        {
          "output_type": "stream",
          "text": [
            "INFO:tensorflow:Using default config.\n",
            "WARNING:tensorflow:Using temporary folder as model directory: /tmp/tmpv669l763\n",
            "INFO:tensorflow:Using config: {'_model_dir': '/tmp/tmpv669l763', '_tf_random_seed': None, '_save_summary_steps': 100, '_save_checkpoints_steps': None, '_save_checkpoints_secs': 600, '_session_config': allow_soft_placement: true\n",
            "graph_options {\n",
            "  rewrite_options {\n",
            "    meta_optimizer_iterations: ONE\n",
            "  }\n",
            "}\n",
            ", '_keep_checkpoint_max': 5, '_keep_checkpoint_every_n_hours': 10000, '_log_step_count_steps': 100, '_train_distribute': None, '_device_fn': None, '_protocol': None, '_eval_distribute': None, '_experimental_distribute': None, '_experimental_max_worker_delay_secs': None, '_session_creation_timeout_secs': 7200, '_service': None, '_cluster_spec': <tensorflow.python.training.server_lib.ClusterSpec object at 0x7fd5932da470>, '_task_type': 'worker', '_task_id': 0, '_global_id_in_cluster': 0, '_master': '', '_evaluation_master': '', '_is_chief': True, '_num_ps_replicas': 0, '_num_worker_replicas': 1}\n"
          ],
          "name": "stdout"
        }
      ]
    },
    {
      "cell_type": "code",
      "metadata": {
        "id": "dbkjvrkqtpBv",
        "colab_type": "code",
        "colab": {
          "base_uri": "https://localhost:8080/",
          "height": 1000
        },
        "outputId": "3df17ebd-80cd-4864-dc78-3d8b9f211325"
      },
      "source": [
        "#train the model with at least 5000 steps\n",
        "model.train(input_fn=input_func, steps = 10000)"
      ],
      "execution_count": 26,
      "outputs": [
        {
          "output_type": "stream",
          "text": [
            "WARNING:tensorflow:From /usr/local/lib/python3.6/dist-packages/tensorflow_core/python/training/training_util.py:236: Variable.initialized_value (from tensorflow.python.ops.variables) is deprecated and will be removed in a future version.\n",
            "Instructions for updating:\n",
            "Use Variable.read_value. Variables in 2.X are initialized automatically both in eager and graph (inside tf.defun) contexts.\n",
            "WARNING:tensorflow:From /usr/local/lib/python3.6/dist-packages/tensorflow_estimator/python/estimator/inputs/queues/feeding_queue_runner.py:62: QueueRunner.__init__ (from tensorflow.python.training.queue_runner_impl) is deprecated and will be removed in a future version.\n",
            "Instructions for updating:\n",
            "To construct input pipelines, use the `tf.data` module.\n",
            "WARNING:tensorflow:From /usr/local/lib/python3.6/dist-packages/tensorflow_estimator/python/estimator/inputs/queues/feeding_functions.py:500: add_queue_runner (from tensorflow.python.training.queue_runner_impl) is deprecated and will be removed in a future version.\n",
            "Instructions for updating:\n",
            "To construct input pipelines, use the `tf.data` module.\n",
            "INFO:tensorflow:Calling model_fn.\n",
            "WARNING:tensorflow:From /usr/local/lib/python3.6/dist-packages/tensorflow_core/python/feature_column/feature_column_v2.py:305: Layer.add_variable (from tensorflow.python.keras.engine.base_layer) is deprecated and will be removed in a future version.\n",
            "Instructions for updating:\n",
            "Please use `layer.add_weight` method instead.\n",
            "WARNING:tensorflow:From /usr/local/lib/python3.6/dist-packages/tensorflow_core/python/ops/resource_variable_ops.py:1630: calling BaseResourceVariable.__init__ (from tensorflow.python.ops.resource_variable_ops) with constraint is deprecated and will be removed in a future version.\n",
            "Instructions for updating:\n",
            "If using Keras pass *_constraint arguments to layers.\n",
            "WARNING:tensorflow:From /usr/local/lib/python3.6/dist-packages/tensorflow_core/python/ops/embedding_ops.py:802: where (from tensorflow.python.ops.array_ops) is deprecated and will be removed in a future version.\n",
            "Instructions for updating:\n",
            "Use tf.where in 2.0, which has the same broadcast rule as np.where\n",
            "WARNING:tensorflow:From /usr/local/lib/python3.6/dist-packages/tensorflow_estimator/python/estimator/canned/linear.py:308: to_float (from tensorflow.python.ops.math_ops) is deprecated and will be removed in a future version.\n",
            "Instructions for updating:\n",
            "Use `tf.cast` instead.\n",
            "INFO:tensorflow:Done calling model_fn.\n",
            "INFO:tensorflow:Create CheckpointSaverHook.\n",
            "INFO:tensorflow:Graph was finalized.\n",
            "INFO:tensorflow:Running local_init_op.\n",
            "INFO:tensorflow:Done running local_init_op.\n",
            "WARNING:tensorflow:From /usr/local/lib/python3.6/dist-packages/tensorflow_core/python/training/monitored_session.py:882: start_queue_runners (from tensorflow.python.training.queue_runner_impl) is deprecated and will be removed in a future version.\n",
            "Instructions for updating:\n",
            "To construct input pipelines, use the `tf.data` module.\n",
            "INFO:tensorflow:Saving checkpoints for 0 into /tmp/tmpv669l763/model.ckpt.\n",
            "INFO:tensorflow:loss = 69.31472, step = 1\n",
            "INFO:tensorflow:global_step/sec: 168.825\n",
            "INFO:tensorflow:loss = 232.36406, step = 101 (0.599 sec)\n",
            "INFO:tensorflow:global_step/sec: 247.892\n",
            "INFO:tensorflow:loss = 467.04254, step = 201 (0.399 sec)\n",
            "INFO:tensorflow:global_step/sec: 242.988\n",
            "INFO:tensorflow:loss = 239.89972, step = 301 (0.416 sec)\n",
            "INFO:tensorflow:global_step/sec: 241.074\n",
            "INFO:tensorflow:loss = 58.32309, step = 401 (0.412 sec)\n",
            "INFO:tensorflow:global_step/sec: 240.538\n",
            "INFO:tensorflow:loss = 83.070816, step = 501 (0.415 sec)\n",
            "INFO:tensorflow:global_step/sec: 234.82\n",
            "INFO:tensorflow:loss = 143.71565, step = 601 (0.426 sec)\n",
            "INFO:tensorflow:global_step/sec: 240.525\n",
            "INFO:tensorflow:loss = 140.1401, step = 701 (0.418 sec)\n",
            "INFO:tensorflow:global_step/sec: 226.292\n",
            "INFO:tensorflow:loss = 131.5049, step = 801 (0.444 sec)\n",
            "INFO:tensorflow:global_step/sec: 229.754\n",
            "INFO:tensorflow:loss = 442.36212, step = 901 (0.429 sec)\n",
            "INFO:tensorflow:global_step/sec: 238.139\n",
            "INFO:tensorflow:loss = 50.140038, step = 1001 (0.420 sec)\n",
            "INFO:tensorflow:global_step/sec: 237.122\n",
            "INFO:tensorflow:loss = 115.98995, step = 1101 (0.423 sec)\n",
            "INFO:tensorflow:global_step/sec: 239.909\n",
            "INFO:tensorflow:loss = 39.13752, step = 1201 (0.420 sec)\n",
            "INFO:tensorflow:global_step/sec: 243.229\n",
            "INFO:tensorflow:loss = 119.96622, step = 1301 (0.410 sec)\n",
            "INFO:tensorflow:global_step/sec: 241.501\n",
            "INFO:tensorflow:loss = 350.80426, step = 1401 (0.411 sec)\n",
            "INFO:tensorflow:global_step/sec: 244.994\n",
            "INFO:tensorflow:loss = 22.70513, step = 1501 (0.410 sec)\n",
            "INFO:tensorflow:global_step/sec: 247.579\n",
            "INFO:tensorflow:loss = 52.78309, step = 1601 (0.402 sec)\n",
            "INFO:tensorflow:global_step/sec: 241.232\n",
            "INFO:tensorflow:loss = 32.748707, step = 1701 (0.419 sec)\n",
            "INFO:tensorflow:global_step/sec: 247.697\n",
            "INFO:tensorflow:loss = 59.02351, step = 1801 (0.405 sec)\n",
            "INFO:tensorflow:global_step/sec: 241.95\n",
            "INFO:tensorflow:loss = 109.156555, step = 1901 (0.408 sec)\n",
            "INFO:tensorflow:global_step/sec: 245.881\n",
            "INFO:tensorflow:loss = 326.12842, step = 2001 (0.410 sec)\n",
            "WARNING:tensorflow:It seems that global step (tf.train.get_global_step) has not been increased. Current value (could be stable): 2001 vs previous value: 2001. You could increase the global step by passing tf.train.get_global_step() to Optimizer.apply_gradients or Optimizer.minimize.\n",
            "INFO:tensorflow:global_step/sec: 241.482\n",
            "INFO:tensorflow:loss = 64.53332, step = 2101 (0.413 sec)\n",
            "INFO:tensorflow:global_step/sec: 245.228\n",
            "INFO:tensorflow:loss = 86.49628, step = 2201 (0.407 sec)\n",
            "WARNING:tensorflow:It seems that global step (tf.train.get_global_step) has not been increased. Current value (could be stable): 2255 vs previous value: 2255. You could increase the global step by passing tf.train.get_global_step() to Optimizer.apply_gradients or Optimizer.minimize.\n",
            "INFO:tensorflow:global_step/sec: 237.263\n",
            "INFO:tensorflow:loss = 131.40155, step = 2301 (0.419 sec)\n",
            "INFO:tensorflow:global_step/sec: 239.581\n",
            "INFO:tensorflow:loss = 88.23204, step = 2401 (0.422 sec)\n",
            "INFO:tensorflow:global_step/sec: 240.81\n",
            "INFO:tensorflow:loss = 159.35242, step = 2501 (0.412 sec)\n",
            "INFO:tensorflow:global_step/sec: 237.263\n",
            "INFO:tensorflow:loss = 102.89351, step = 2601 (0.420 sec)\n",
            "INFO:tensorflow:global_step/sec: 218.239\n",
            "INFO:tensorflow:loss = 48.088245, step = 2701 (0.461 sec)\n",
            "WARNING:tensorflow:It seems that global step (tf.train.get_global_step) has not been increased. Current value (could be stable): 2707 vs previous value: 2707. You could increase the global step by passing tf.train.get_global_step() to Optimizer.apply_gradients or Optimizer.minimize.\n",
            "INFO:tensorflow:global_step/sec: 205.614\n",
            "INFO:tensorflow:loss = 51.091923, step = 2801 (0.487 sec)\n",
            "INFO:tensorflow:global_step/sec: 217.695\n",
            "INFO:tensorflow:loss = 198.65729, step = 2901 (0.456 sec)\n",
            "INFO:tensorflow:global_step/sec: 209.201\n",
            "INFO:tensorflow:loss = 109.07902, step = 3001 (0.483 sec)\n",
            "INFO:tensorflow:global_step/sec: 235.356\n",
            "INFO:tensorflow:loss = 49.512398, step = 3101 (0.420 sec)\n",
            "INFO:tensorflow:global_step/sec: 233.945\n",
            "INFO:tensorflow:loss = 44.731937, step = 3201 (0.433 sec)\n",
            "INFO:tensorflow:global_step/sec: 228.307\n",
            "INFO:tensorflow:loss = 179.24702, step = 3301 (0.433 sec)\n",
            "INFO:tensorflow:global_step/sec: 244.568\n",
            "INFO:tensorflow:loss = 80.80054, step = 3401 (0.410 sec)\n",
            "INFO:tensorflow:global_step/sec: 239.025\n",
            "INFO:tensorflow:loss = 126.5604, step = 3501 (0.417 sec)\n",
            "INFO:tensorflow:global_step/sec: 244.953\n",
            "INFO:tensorflow:loss = 36.13399, step = 3601 (0.413 sec)\n",
            "INFO:tensorflow:global_step/sec: 243.339\n",
            "INFO:tensorflow:loss = 215.00533, step = 3701 (0.412 sec)\n",
            "INFO:tensorflow:global_step/sec: 242.358\n",
            "INFO:tensorflow:loss = 38.008717, step = 3801 (0.413 sec)\n",
            "INFO:tensorflow:global_step/sec: 244.301\n",
            "INFO:tensorflow:loss = 48.548393, step = 3901 (0.410 sec)\n",
            "INFO:tensorflow:global_step/sec: 243.834\n",
            "INFO:tensorflow:loss = 29.80327, step = 4001 (0.412 sec)\n",
            "INFO:tensorflow:global_step/sec: 243.91\n",
            "INFO:tensorflow:loss = 46.041954, step = 4101 (0.410 sec)\n",
            "INFO:tensorflow:global_step/sec: 237.106\n",
            "INFO:tensorflow:loss = 29.247467, step = 4201 (0.415 sec)\n",
            "INFO:tensorflow:global_step/sec: 239.771\n",
            "INFO:tensorflow:loss = 98.9715, step = 4301 (0.422 sec)\n",
            "INFO:tensorflow:global_step/sec: 242.066\n",
            "INFO:tensorflow:loss = 238.24931, step = 4401 (0.412 sec)\n",
            "INFO:tensorflow:global_step/sec: 243.528\n",
            "INFO:tensorflow:loss = 62.172836, step = 4501 (0.405 sec)\n",
            "INFO:tensorflow:global_step/sec: 236.411\n",
            "INFO:tensorflow:loss = 105.10362, step = 4601 (0.426 sec)\n",
            "INFO:tensorflow:global_step/sec: 246.076\n",
            "INFO:tensorflow:loss = 32.028095, step = 4701 (0.404 sec)\n",
            "INFO:tensorflow:global_step/sec: 236.377\n",
            "INFO:tensorflow:loss = 49.154766, step = 4801 (0.423 sec)\n",
            "INFO:tensorflow:global_step/sec: 231.703\n",
            "INFO:tensorflow:loss = 85.886154, step = 4901 (0.432 sec)\n",
            "INFO:tensorflow:global_step/sec: 238.225\n",
            "INFO:tensorflow:loss = 35.09475, step = 5001 (0.419 sec)\n",
            "INFO:tensorflow:global_step/sec: 232.873\n",
            "INFO:tensorflow:loss = 80.85227, step = 5101 (0.432 sec)\n",
            "INFO:tensorflow:global_step/sec: 234.727\n",
            "INFO:tensorflow:loss = 528.95557, step = 5201 (0.425 sec)\n",
            "INFO:tensorflow:global_step/sec: 236.7\n",
            "INFO:tensorflow:loss = 24.786375, step = 5301 (0.423 sec)\n",
            "INFO:tensorflow:global_step/sec: 235.057\n",
            "INFO:tensorflow:loss = 29.898191, step = 5401 (0.423 sec)\n",
            "INFO:tensorflow:global_step/sec: 235.786\n",
            "INFO:tensorflow:loss = 30.747372, step = 5501 (0.429 sec)\n",
            "INFO:tensorflow:global_step/sec: 230.493\n",
            "INFO:tensorflow:loss = 190.32089, step = 5601 (0.430 sec)\n",
            "INFO:tensorflow:global_step/sec: 219.372\n",
            "INFO:tensorflow:loss = 41.447887, step = 5701 (0.459 sec)\n",
            "INFO:tensorflow:global_step/sec: 232.013\n",
            "INFO:tensorflow:loss = 44.60054, step = 5801 (0.428 sec)\n",
            "INFO:tensorflow:global_step/sec: 224.687\n",
            "INFO:tensorflow:loss = 26.971584, step = 5901 (0.445 sec)\n",
            "INFO:tensorflow:global_step/sec: 233.919\n",
            "INFO:tensorflow:loss = 22.989925, step = 6001 (0.427 sec)\n",
            "INFO:tensorflow:global_step/sec: 223.155\n",
            "INFO:tensorflow:loss = 39.912186, step = 6101 (0.454 sec)\n",
            "INFO:tensorflow:global_step/sec: 239.2\n",
            "INFO:tensorflow:loss = 21.433134, step = 6201 (0.414 sec)\n",
            "INFO:tensorflow:global_step/sec: 239.807\n",
            "INFO:tensorflow:loss = 87.572174, step = 6301 (0.417 sec)\n",
            "INFO:tensorflow:global_step/sec: 237.948\n",
            "INFO:tensorflow:loss = 77.15494, step = 6401 (0.420 sec)\n",
            "INFO:tensorflow:global_step/sec: 246.89\n",
            "INFO:tensorflow:loss = 47.979004, step = 6501 (0.403 sec)\n",
            "INFO:tensorflow:global_step/sec: 247.177\n",
            "INFO:tensorflow:loss = 25.349506, step = 6601 (0.404 sec)\n",
            "INFO:tensorflow:global_step/sec: 235.315\n",
            "INFO:tensorflow:loss = 75.82498, step = 6701 (0.427 sec)\n",
            "INFO:tensorflow:global_step/sec: 241.659\n",
            "INFO:tensorflow:loss = 148.00584, step = 6801 (0.416 sec)\n",
            "INFO:tensorflow:global_step/sec: 246.498\n",
            "INFO:tensorflow:loss = 50.85072, step = 6901 (0.402 sec)\n",
            "INFO:tensorflow:global_step/sec: 249.846\n",
            "INFO:tensorflow:loss = 143.54222, step = 7001 (0.402 sec)\n",
            "INFO:tensorflow:global_step/sec: 243.18\n",
            "INFO:tensorflow:loss = 79.7256, step = 7101 (0.410 sec)\n",
            "INFO:tensorflow:global_step/sec: 243.356\n",
            "INFO:tensorflow:loss = 89.345665, step = 7201 (0.415 sec)\n",
            "WARNING:tensorflow:It seems that global step (tf.train.get_global_step) has not been increased. Current value (could be stable): 7201 vs previous value: 7201. You could increase the global step by passing tf.train.get_global_step() to Optimizer.apply_gradients or Optimizer.minimize.\n",
            "INFO:tensorflow:global_step/sec: 242.296\n",
            "INFO:tensorflow:loss = 36.534775, step = 7301 (0.410 sec)\n",
            "INFO:tensorflow:global_step/sec: 241.443\n",
            "INFO:tensorflow:loss = 43.283173, step = 7401 (0.413 sec)\n",
            "INFO:tensorflow:global_step/sec: 239.133\n",
            "INFO:tensorflow:loss = 26.636915, step = 7501 (0.421 sec)\n",
            "INFO:tensorflow:global_step/sec: 237.691\n",
            "INFO:tensorflow:loss = 43.7571, step = 7601 (0.419 sec)\n",
            "INFO:tensorflow:global_step/sec: 234.766\n",
            "INFO:tensorflow:loss = 33.23004, step = 7701 (0.425 sec)\n",
            "INFO:tensorflow:global_step/sec: 233.686\n",
            "INFO:tensorflow:loss = 41.117733, step = 7801 (0.427 sec)\n",
            "INFO:tensorflow:global_step/sec: 236.931\n",
            "INFO:tensorflow:loss = 50.37687, step = 7901 (0.423 sec)\n",
            "INFO:tensorflow:global_step/sec: 236.522\n",
            "INFO:tensorflow:loss = 26.981049, step = 8001 (0.422 sec)\n",
            "INFO:tensorflow:global_step/sec: 237.431\n",
            "INFO:tensorflow:loss = 39.693073, step = 8101 (0.428 sec)\n",
            "INFO:tensorflow:global_step/sec: 225.295\n",
            "INFO:tensorflow:loss = 87.18685, step = 8201 (0.441 sec)\n",
            "INFO:tensorflow:global_step/sec: 244.873\n",
            "INFO:tensorflow:loss = 24.518913, step = 8301 (0.406 sec)\n",
            "INFO:tensorflow:global_step/sec: 235.269\n",
            "INFO:tensorflow:loss = 35.381268, step = 8401 (0.424 sec)\n",
            "INFO:tensorflow:global_step/sec: 243.716\n",
            "INFO:tensorflow:loss = 64.42587, step = 8501 (0.410 sec)\n",
            "INFO:tensorflow:global_step/sec: 241.378\n",
            "INFO:tensorflow:loss = 34.83087, step = 8601 (0.418 sec)\n",
            "INFO:tensorflow:global_step/sec: 243.547\n",
            "INFO:tensorflow:loss = 83.574745, step = 8701 (0.408 sec)\n",
            "INFO:tensorflow:global_step/sec: 245.937\n",
            "INFO:tensorflow:loss = 35.397495, step = 8801 (0.406 sec)\n",
            "INFO:tensorflow:global_step/sec: 244.933\n",
            "INFO:tensorflow:loss = 82.70295, step = 8901 (0.410 sec)\n",
            "WARNING:tensorflow:It seems that global step (tf.train.get_global_step) has not been increased. Current value (could be stable): 8901 vs previous value: 8901. You could increase the global step by passing tf.train.get_global_step() to Optimizer.apply_gradients or Optimizer.minimize.\n",
            "INFO:tensorflow:global_step/sec: 242.295\n",
            "INFO:tensorflow:loss = 56.648495, step = 9001 (0.411 sec)\n",
            "INFO:tensorflow:global_step/sec: 245.921\n",
            "INFO:tensorflow:loss = 44.657757, step = 9101 (0.408 sec)\n",
            "INFO:tensorflow:global_step/sec: 247.982\n",
            "INFO:tensorflow:loss = 29.897165, step = 9201 (0.402 sec)\n",
            "INFO:tensorflow:global_step/sec: 243.723\n",
            "INFO:tensorflow:loss = 49.396656, step = 9301 (0.411 sec)\n",
            "INFO:tensorflow:global_step/sec: 245.864\n",
            "INFO:tensorflow:loss = 42.367306, step = 9401 (0.406 sec)\n",
            "INFO:tensorflow:global_step/sec: 236.917\n",
            "INFO:tensorflow:loss = 97.766655, step = 9501 (0.422 sec)\n",
            "INFO:tensorflow:global_step/sec: 243.511\n",
            "INFO:tensorflow:loss = 37.548996, step = 9601 (0.411 sec)\n",
            "INFO:tensorflow:global_step/sec: 240.51\n",
            "INFO:tensorflow:loss = 42.873993, step = 9701 (0.418 sec)\n",
            "INFO:tensorflow:global_step/sec: 231.747\n",
            "INFO:tensorflow:loss = 23.515007, step = 9801 (0.429 sec)\n",
            "INFO:tensorflow:global_step/sec: 245.46\n",
            "INFO:tensorflow:loss = 75.96772, step = 9901 (0.414 sec)\n",
            "INFO:tensorflow:Saving checkpoints for 10000 into /tmp/tmpv669l763/model.ckpt.\n",
            "INFO:tensorflow:Loss for final step: 46.772476.\n"
          ],
          "name": "stdout"
        },
        {
          "output_type": "execute_result",
          "data": {
            "text/plain": [
              "<tensorflow_estimator.python.estimator.canned.linear.LinearClassifier at 0x7fd5932da940>"
            ]
          },
          "metadata": {
            "tags": []
          },
          "execution_count": 26
        }
      ]
    },
    {
      "cell_type": "code",
      "metadata": {
        "id": "Nbyy5BZut142",
        "colab_type": "code",
        "colab": {}
      },
      "source": [
        "#create prediction input function \n",
        "pred_fn = tf.estimator.inputs.pandas_input_fn(X_test, batch_size= len(X_test), shuffle= False)"
      ],
      "execution_count": 0,
      "outputs": []
    },
    {
      "cell_type": "code",
      "metadata": {
        "id": "II8GBa5ouPds",
        "colab_type": "code",
        "colab": {}
      },
      "source": [
        "# use the model.predict() and pass in your input fucntion to produce a generator of preductions, which then be transformed  into a list with list()\n",
        "pred_gen = model.predict(input_fn = pred_fn)"
      ],
      "execution_count": 0,
      "outputs": []
    },
    {
      "cell_type": "code",
      "metadata": {
        "id": "Z6V6uFUPuxD6",
        "colab_type": "code",
        "colab": {
          "base_uri": "https://localhost:8080/",
          "height": 119
        },
        "outputId": "5dbf79bb-c4fc-49bf-9d9b-e38c566752ac"
      },
      "source": [
        "predictions = list(pred_gen)"
      ],
      "execution_count": 38,
      "outputs": [
        {
          "output_type": "stream",
          "text": [
            "INFO:tensorflow:Calling model_fn.\n",
            "INFO:tensorflow:Done calling model_fn.\n",
            "INFO:tensorflow:Graph was finalized.\n",
            "INFO:tensorflow:Restoring parameters from /tmp/tmpv669l763/model.ckpt-10000\n",
            "INFO:tensorflow:Running local_init_op.\n",
            "INFO:tensorflow:Done running local_init_op.\n"
          ],
          "name": "stdout"
        }
      ]
    },
    {
      "cell_type": "code",
      "metadata": {
        "id": "3uDA5fi-vDKO",
        "colab_type": "code",
        "colab": {}
      },
      "source": [
        "final_preds = [pred[\"class_ids\"][0] for pred in predictions]"
      ],
      "execution_count": 0,
      "outputs": []
    },
    {
      "cell_type": "code",
      "metadata": {
        "id": "7rdM9emtvPtd",
        "colab_type": "code",
        "colab": {
          "base_uri": "https://localhost:8080/",
          "height": 170
        },
        "outputId": "66a97421-9655-4360-f0e1-50d5f6dfed4c"
      },
      "source": [
        "# import classification_report from sklearn.metrics to get a full reports of the model's performance on the test data\n",
        "from sklearn.metrics import classification_report\n",
        "print(classification_report(y_test, final_preds))"
      ],
      "execution_count": 43,
      "outputs": [
        {
          "output_type": "stream",
          "text": [
            "              precision    recall  f1-score   support\n",
            "\n",
            "           0       0.90      0.89      0.89      7436\n",
            "           1       0.66      0.67      0.66      2333\n",
            "\n",
            "    accuracy                           0.84      9769\n",
            "   macro avg       0.78      0.78      0.78      9769\n",
            "weighted avg       0.84      0.84      0.84      9769\n",
            "\n"
          ],
          "name": "stdout"
        }
      ]
    },
    {
      "cell_type": "code",
      "metadata": {
        "id": "Pw6zSo35vqCm",
        "colab_type": "code",
        "colab": {}
      },
      "source": [
        ""
      ],
      "execution_count": 0,
      "outputs": []
    }
  ]
}