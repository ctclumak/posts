{
  "nbformat": 4,
  "nbformat_minor": 0,
  "metadata": {
    "colab": {
      "name": "EtsySpider - Product Detail.ipynb",
      "provenance": [],
      "authorship_tag": "ABX9TyMS/MrYYFS9hhU7gLKBQPJW",
      "include_colab_link": true
    },
    "kernelspec": {
      "name": "python3",
      "display_name": "Python 3"
    },
    "language_info": {
      "name": "python"
    }
  },
  "cells": [
    {
      "cell_type": "markdown",
      "metadata": {
        "id": "view-in-github",
        "colab_type": "text"
      },
      "source": [
        "<a href=\"https://colab.research.google.com/github/ctclumak/posts/blob/master/EtsySpider_Product_Detail.ipynb\" target=\"_parent\"><img src=\"https://colab.research.google.com/assets/colab-badge.svg\" alt=\"Open In Colab\"/></a>"
      ]
    },
    {
      "cell_type": "code",
      "metadata": {
        "id": "bDnf1tVTyf07"
      },
      "source": [
        "import scrapy\n",
        "\n",
        "class EtsySpider(scrapy.Spider):\n",
        "    name = \"etsy\"\n",
        "    allowed_domains = [\"etsy.com\"]\n",
        "\n",
        "    def start_requests(self):\n",
        "        _base_url = \"https://www.etsy.com/search/?q=%s&ref=pagination&page=%d\"\n",
        "        query = \"wedding+accessories\"\n",
        "        urls = [_base_url % (query,i) for i in range(1,8)]\n",
        "        for url in urls:\n",
        "            yield scrapy.Request(url=url, callback=self.parse_listing_response)"
      ],
      "execution_count": null,
      "outputs": []
    },
    {
      "cell_type": "code",
      "metadata": {
        "id": "KhK_TjJsy0Vf"
      },
      "source": [
        "# trying to open up each list and scrap the product details\n",
        "    def parse_listing_response(self, response):\n",
        "\n",
        "        for listing in response.css('div.v2-listing-card'):\n",
        "            list_id=listing.css('div.v2-listing-card a.listing-link::attr(data-listing-id)').extract()\n",
        "            list_url = \"http://www.etsy.com/listing/\" + str(list_id) +\"/\"\n",
        "            yield scrapy.Request(url=list_url,callback=self.parse)\n",
        "            \n",
        "    def parse(self,response):\n",
        "        yield {\n",
        "                \"list_id\": response.css('h1::attr(data-listing-id').get(),\n",
        "                \"title\": response.css('h1::text').get(),\n",
        "                \"seller\": response.css('div.listing-page-cart a span::text').get(),\n",
        "                \"description\": response.css(\"div#wt-content-toggle-product-details-read-more p::text\").get()\n",
        "                }\n",
        "\n"
      ],
      "execution_count": null,
      "outputs": []
    }
  ]
}