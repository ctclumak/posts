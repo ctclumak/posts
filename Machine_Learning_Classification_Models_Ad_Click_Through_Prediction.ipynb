{
  "nbformat": 4,
  "nbformat_minor": 0,
  "metadata": {
    "colab": {
      "name": "Machine Learning Classification Models - Ad Click Through Prediction.ipynb",
      "provenance": [],
      "authorship_tag": "ABX9TyMX7KyzjiuMSe9+m1exCtK7",
      "include_colab_link": true
    },
    "kernelspec": {
      "display_name": "Python 3",
      "name": "python3"
    }
  },
  "cells": [
    {
      "cell_type": "markdown",
      "metadata": {
        "id": "view-in-github",
        "colab_type": "text"
      },
      "source": [
        "<a href=\"https://colab.research.google.com/github/ctclumak/posts/blob/master/Machine_Learning_Classification_Models_Ad_Click_Through_Prediction.ipynb\" target=\"_parent\"><img src=\"https://colab.research.google.com/assets/colab-badge.svg\" alt=\"Open In Colab\"/></a>"
      ]
    },
    {
      "cell_type": "code",
      "metadata": {
        "id": "cKvdSpAC7B-9"
      },
      "source": [
        "import numpy as np\n",
        "import pandas as pd\n",
        "import matplotlib.pyplot as plt\n",
        "%matplotlib inline\n",
        "import seaborn as sns\n",
        "from sklearn.model_selection import train_test_split\n",
        "from sklearn.preprocessing import StandardScaler\n",
        "from sklearn.preprocessing import OneHotEncoder\n",
        "from sklearn.compose import ColumnTransformer\n",
        "from sklearn.model_selection import KFold,cross_val_score\n",
        "from sklearn.model_selection import StratifiedKFold\n",
        "from sklearn.metrics import accuracy_score\n",
        "from sklearn.pipeline import Pipeline\n",
        "from numpy import absolute,mean, std\n",
        "from sklearn.metrics import mean_squared_error,r2_score\n",
        "from sklearn.metrics import classification_report\n",
        "from sklearn.metrics import confusion_matrix"
      ],
      "execution_count": 1,
      "outputs": []
    },
    {
      "cell_type": "code",
      "metadata": {
        "colab": {
          "base_uri": "https://localhost:8080/"
        },
        "id": "YWSFvUEk_8V_",
        "outputId": "8c72f7bf-7a05-462f-a922-25ad04043852"
      },
      "source": [
        "df = pd.read_csv(\"/content/Ad_click_prediction_train.csv\")\n",
        "df.shape"
      ],
      "execution_count": 2,
      "outputs": [
        {
          "output_type": "execute_result",
          "data": {
            "text/plain": [
              "(463291, 15)"
            ]
          },
          "metadata": {
            "tags": []
          },
          "execution_count": 2
        }
      ]
    },
    {
      "cell_type": "code",
      "metadata": {
        "colab": {
          "base_uri": "https://localhost:8080/"
        },
        "id": "pHQophb1Bznw",
        "outputId": "3e59005c-159e-45a1-ddf2-f3e44bdb29e8"
      },
      "source": [
        "df.info()"
      ],
      "execution_count": 3,
      "outputs": [
        {
          "output_type": "stream",
          "text": [
            "<class 'pandas.core.frame.DataFrame'>\n",
            "RangeIndex: 463291 entries, 0 to 463290\n",
            "Data columns (total 15 columns):\n",
            " #   Column                  Non-Null Count   Dtype  \n",
            "---  ------                  --------------   -----  \n",
            " 0   session_id              463291 non-null  int64  \n",
            " 1   DateTime                463291 non-null  object \n",
            " 2   user_id                 463291 non-null  int64  \n",
            " 3   product                 463291 non-null  object \n",
            " 4   campaign_id             463291 non-null  int64  \n",
            " 5   webpage_id              463291 non-null  int64  \n",
            " 6   product_category_1      463291 non-null  int64  \n",
            " 7   product_category_2      97437 non-null   float64\n",
            " 8   user_group_id           445048 non-null  float64\n",
            " 9   gender                  445048 non-null  object \n",
            " 10  age_level               445048 non-null  float64\n",
            " 11  user_depth              445048 non-null  float64\n",
            " 12  city_development_index  338162 non-null  float64\n",
            " 13  var_1                   463291 non-null  int64  \n",
            " 14  is_click                463291 non-null  int64  \n",
            "dtypes: float64(5), int64(7), object(3)\n",
            "memory usage: 53.0+ MB\n"
          ],
          "name": "stdout"
        }
      ]
    },
    {
      "cell_type": "code",
      "metadata": {
        "colab": {
          "base_uri": "https://localhost:8080/"
        },
        "id": "9JrWLt3gC41W",
        "outputId": "11cf19c5-31a2-4bf7-a7ee-3fd7e626c895"
      },
      "source": [
        "df.duplicated().sum()"
      ],
      "execution_count": 4,
      "outputs": [
        {
          "output_type": "execute_result",
          "data": {
            "text/plain": [
              "0"
            ]
          },
          "metadata": {
            "tags": []
          },
          "execution_count": 4
        }
      ]
    },
    {
      "cell_type": "code",
      "metadata": {
        "colab": {
          "base_uri": "https://localhost:8080/"
        },
        "id": "gRRelhZbEEQp",
        "outputId": "96ae09d4-6b33-4340-d998-5d6284a6f4cd"
      },
      "source": [
        "df.isnull().sum()"
      ],
      "execution_count": 5,
      "outputs": [
        {
          "output_type": "execute_result",
          "data": {
            "text/plain": [
              "session_id                     0\n",
              "DateTime                       0\n",
              "user_id                        0\n",
              "product                        0\n",
              "campaign_id                    0\n",
              "webpage_id                     0\n",
              "product_category_1             0\n",
              "product_category_2        365854\n",
              "user_group_id              18243\n",
              "gender                     18243\n",
              "age_level                  18243\n",
              "user_depth                 18243\n",
              "city_development_index    125129\n",
              "var_1                          0\n",
              "is_click                       0\n",
              "dtype: int64"
            ]
          },
          "metadata": {
            "tags": []
          },
          "execution_count": 5
        }
      ]
    },
    {
      "cell_type": "code",
      "metadata": {
        "colab": {
          "base_uri": "https://localhost:8080/"
        },
        "id": "9OSDbJBJVUW9",
        "outputId": "34cc8e65-b3b8-42dc-aab0-b00377258a3b"
      },
      "source": [
        "df.fillna(df.median(),inplace=True)\n",
        "df.gender.fillna(\"Others\",inplace=True)\n",
        "df.isnull().sum()"
      ],
      "execution_count": 6,
      "outputs": [
        {
          "output_type": "execute_result",
          "data": {
            "text/plain": [
              "session_id                0\n",
              "DateTime                  0\n",
              "user_id                   0\n",
              "product                   0\n",
              "campaign_id               0\n",
              "webpage_id                0\n",
              "product_category_1        0\n",
              "product_category_2        0\n",
              "user_group_id             0\n",
              "gender                    0\n",
              "age_level                 0\n",
              "user_depth                0\n",
              "city_development_index    0\n",
              "var_1                     0\n",
              "is_click                  0\n",
              "dtype: int64"
            ]
          },
          "metadata": {
            "tags": []
          },
          "execution_count": 6
        }
      ]
    },
    {
      "cell_type": "code",
      "metadata": {
        "colab": {
          "base_uri": "https://localhost:8080/",
          "height": 309
        },
        "id": "1sBb75dzI9wD",
        "outputId": "22643ef7-39db-4d96-bfb5-279f794117a6"
      },
      "source": [
        "df.head()"
      ],
      "execution_count": 7,
      "outputs": [
        {
          "output_type": "execute_result",
          "data": {
            "text/html": [
              "<div>\n",
              "<style scoped>\n",
              "    .dataframe tbody tr th:only-of-type {\n",
              "        vertical-align: middle;\n",
              "    }\n",
              "\n",
              "    .dataframe tbody tr th {\n",
              "        vertical-align: top;\n",
              "    }\n",
              "\n",
              "    .dataframe thead th {\n",
              "        text-align: right;\n",
              "    }\n",
              "</style>\n",
              "<table border=\"1\" class=\"dataframe\">\n",
              "  <thead>\n",
              "    <tr style=\"text-align: right;\">\n",
              "      <th></th>\n",
              "      <th>session_id</th>\n",
              "      <th>DateTime</th>\n",
              "      <th>user_id</th>\n",
              "      <th>product</th>\n",
              "      <th>campaign_id</th>\n",
              "      <th>webpage_id</th>\n",
              "      <th>product_category_1</th>\n",
              "      <th>product_category_2</th>\n",
              "      <th>user_group_id</th>\n",
              "      <th>gender</th>\n",
              "      <th>age_level</th>\n",
              "      <th>user_depth</th>\n",
              "      <th>city_development_index</th>\n",
              "      <th>var_1</th>\n",
              "      <th>is_click</th>\n",
              "    </tr>\n",
              "  </thead>\n",
              "  <tbody>\n",
              "    <tr>\n",
              "      <th>0</th>\n",
              "      <td>140690</td>\n",
              "      <td>2017-07-02 00:00</td>\n",
              "      <td>858557</td>\n",
              "      <td>C</td>\n",
              "      <td>359520</td>\n",
              "      <td>13787</td>\n",
              "      <td>4</td>\n",
              "      <td>146115.0</td>\n",
              "      <td>10.0</td>\n",
              "      <td>Female</td>\n",
              "      <td>4.0</td>\n",
              "      <td>3.0</td>\n",
              "      <td>3.0</td>\n",
              "      <td>0</td>\n",
              "      <td>0</td>\n",
              "    </tr>\n",
              "    <tr>\n",
              "      <th>1</th>\n",
              "      <td>333291</td>\n",
              "      <td>2017-07-02 00:00</td>\n",
              "      <td>243253</td>\n",
              "      <td>C</td>\n",
              "      <td>105960</td>\n",
              "      <td>11085</td>\n",
              "      <td>5</td>\n",
              "      <td>146115.0</td>\n",
              "      <td>8.0</td>\n",
              "      <td>Female</td>\n",
              "      <td>2.0</td>\n",
              "      <td>2.0</td>\n",
              "      <td>2.0</td>\n",
              "      <td>0</td>\n",
              "      <td>0</td>\n",
              "    </tr>\n",
              "    <tr>\n",
              "      <th>2</th>\n",
              "      <td>129781</td>\n",
              "      <td>2017-07-02 00:00</td>\n",
              "      <td>243253</td>\n",
              "      <td>C</td>\n",
              "      <td>359520</td>\n",
              "      <td>13787</td>\n",
              "      <td>4</td>\n",
              "      <td>146115.0</td>\n",
              "      <td>8.0</td>\n",
              "      <td>Female</td>\n",
              "      <td>2.0</td>\n",
              "      <td>2.0</td>\n",
              "      <td>2.0</td>\n",
              "      <td>0</td>\n",
              "      <td>0</td>\n",
              "    </tr>\n",
              "    <tr>\n",
              "      <th>3</th>\n",
              "      <td>464848</td>\n",
              "      <td>2017-07-02 00:00</td>\n",
              "      <td>1097446</td>\n",
              "      <td>I</td>\n",
              "      <td>359520</td>\n",
              "      <td>13787</td>\n",
              "      <td>3</td>\n",
              "      <td>146115.0</td>\n",
              "      <td>3.0</td>\n",
              "      <td>Male</td>\n",
              "      <td>3.0</td>\n",
              "      <td>3.0</td>\n",
              "      <td>2.0</td>\n",
              "      <td>1</td>\n",
              "      <td>0</td>\n",
              "    </tr>\n",
              "    <tr>\n",
              "      <th>4</th>\n",
              "      <td>90569</td>\n",
              "      <td>2017-07-02 00:01</td>\n",
              "      <td>663656</td>\n",
              "      <td>C</td>\n",
              "      <td>405490</td>\n",
              "      <td>60305</td>\n",
              "      <td>3</td>\n",
              "      <td>146115.0</td>\n",
              "      <td>2.0</td>\n",
              "      <td>Male</td>\n",
              "      <td>2.0</td>\n",
              "      <td>3.0</td>\n",
              "      <td>2.0</td>\n",
              "      <td>1</td>\n",
              "      <td>0</td>\n",
              "    </tr>\n",
              "  </tbody>\n",
              "</table>\n",
              "</div>"
            ],
            "text/plain": [
              "   session_id          DateTime  ...  var_1 is_click\n",
              "0      140690  2017-07-02 00:00  ...      0        0\n",
              "1      333291  2017-07-02 00:00  ...      0        0\n",
              "2      129781  2017-07-02 00:00  ...      0        0\n",
              "3      464848  2017-07-02 00:00  ...      1        0\n",
              "4       90569  2017-07-02 00:01  ...      1        0\n",
              "\n",
              "[5 rows x 15 columns]"
            ]
          },
          "metadata": {
            "tags": []
          },
          "execution_count": 7
        }
      ]
    },
    {
      "cell_type": "code",
      "metadata": {
        "colab": {
          "base_uri": "https://localhost:8080/",
          "height": 394
        },
        "id": "tMMwQ8rEI_Fp",
        "outputId": "5c55cdd8-8d33-412e-872e-93cc8ae97b05"
      },
      "source": [
        "#change DateTime datatypes to datatime\n",
        "df['DateTime'] = pd.to_datetime(df['DateTime'])\n",
        "df[\"Year\"]=df['DateTime'].dt.year\n",
        "df[\"Month\"]=df['DateTime'].dt.month\n",
        "df[\"Day\"]=df['DateTime'].dt.day\n",
        "df[\"Weekday\"]=df['DateTime'].dt.dayofweek\n",
        "df[\"Hour\"]=df['DateTime'].dt.hour\n",
        "df.head()"
      ],
      "execution_count": 8,
      "outputs": [
        {
          "output_type": "execute_result",
          "data": {
            "text/html": [
              "<div>\n",
              "<style scoped>\n",
              "    .dataframe tbody tr th:only-of-type {\n",
              "        vertical-align: middle;\n",
              "    }\n",
              "\n",
              "    .dataframe tbody tr th {\n",
              "        vertical-align: top;\n",
              "    }\n",
              "\n",
              "    .dataframe thead th {\n",
              "        text-align: right;\n",
              "    }\n",
              "</style>\n",
              "<table border=\"1\" class=\"dataframe\">\n",
              "  <thead>\n",
              "    <tr style=\"text-align: right;\">\n",
              "      <th></th>\n",
              "      <th>session_id</th>\n",
              "      <th>DateTime</th>\n",
              "      <th>user_id</th>\n",
              "      <th>product</th>\n",
              "      <th>campaign_id</th>\n",
              "      <th>webpage_id</th>\n",
              "      <th>product_category_1</th>\n",
              "      <th>product_category_2</th>\n",
              "      <th>user_group_id</th>\n",
              "      <th>gender</th>\n",
              "      <th>age_level</th>\n",
              "      <th>user_depth</th>\n",
              "      <th>city_development_index</th>\n",
              "      <th>var_1</th>\n",
              "      <th>is_click</th>\n",
              "      <th>Year</th>\n",
              "      <th>Month</th>\n",
              "      <th>Day</th>\n",
              "      <th>Weekday</th>\n",
              "      <th>Hour</th>\n",
              "    </tr>\n",
              "  </thead>\n",
              "  <tbody>\n",
              "    <tr>\n",
              "      <th>0</th>\n",
              "      <td>140690</td>\n",
              "      <td>2017-07-02 00:00:00</td>\n",
              "      <td>858557</td>\n",
              "      <td>C</td>\n",
              "      <td>359520</td>\n",
              "      <td>13787</td>\n",
              "      <td>4</td>\n",
              "      <td>146115.0</td>\n",
              "      <td>10.0</td>\n",
              "      <td>Female</td>\n",
              "      <td>4.0</td>\n",
              "      <td>3.0</td>\n",
              "      <td>3.0</td>\n",
              "      <td>0</td>\n",
              "      <td>0</td>\n",
              "      <td>2017</td>\n",
              "      <td>7</td>\n",
              "      <td>2</td>\n",
              "      <td>6</td>\n",
              "      <td>0</td>\n",
              "    </tr>\n",
              "    <tr>\n",
              "      <th>1</th>\n",
              "      <td>333291</td>\n",
              "      <td>2017-07-02 00:00:00</td>\n",
              "      <td>243253</td>\n",
              "      <td>C</td>\n",
              "      <td>105960</td>\n",
              "      <td>11085</td>\n",
              "      <td>5</td>\n",
              "      <td>146115.0</td>\n",
              "      <td>8.0</td>\n",
              "      <td>Female</td>\n",
              "      <td>2.0</td>\n",
              "      <td>2.0</td>\n",
              "      <td>2.0</td>\n",
              "      <td>0</td>\n",
              "      <td>0</td>\n",
              "      <td>2017</td>\n",
              "      <td>7</td>\n",
              "      <td>2</td>\n",
              "      <td>6</td>\n",
              "      <td>0</td>\n",
              "    </tr>\n",
              "    <tr>\n",
              "      <th>2</th>\n",
              "      <td>129781</td>\n",
              "      <td>2017-07-02 00:00:00</td>\n",
              "      <td>243253</td>\n",
              "      <td>C</td>\n",
              "      <td>359520</td>\n",
              "      <td>13787</td>\n",
              "      <td>4</td>\n",
              "      <td>146115.0</td>\n",
              "      <td>8.0</td>\n",
              "      <td>Female</td>\n",
              "      <td>2.0</td>\n",
              "      <td>2.0</td>\n",
              "      <td>2.0</td>\n",
              "      <td>0</td>\n",
              "      <td>0</td>\n",
              "      <td>2017</td>\n",
              "      <td>7</td>\n",
              "      <td>2</td>\n",
              "      <td>6</td>\n",
              "      <td>0</td>\n",
              "    </tr>\n",
              "    <tr>\n",
              "      <th>3</th>\n",
              "      <td>464848</td>\n",
              "      <td>2017-07-02 00:00:00</td>\n",
              "      <td>1097446</td>\n",
              "      <td>I</td>\n",
              "      <td>359520</td>\n",
              "      <td>13787</td>\n",
              "      <td>3</td>\n",
              "      <td>146115.0</td>\n",
              "      <td>3.0</td>\n",
              "      <td>Male</td>\n",
              "      <td>3.0</td>\n",
              "      <td>3.0</td>\n",
              "      <td>2.0</td>\n",
              "      <td>1</td>\n",
              "      <td>0</td>\n",
              "      <td>2017</td>\n",
              "      <td>7</td>\n",
              "      <td>2</td>\n",
              "      <td>6</td>\n",
              "      <td>0</td>\n",
              "    </tr>\n",
              "    <tr>\n",
              "      <th>4</th>\n",
              "      <td>90569</td>\n",
              "      <td>2017-07-02 00:01:00</td>\n",
              "      <td>663656</td>\n",
              "      <td>C</td>\n",
              "      <td>405490</td>\n",
              "      <td>60305</td>\n",
              "      <td>3</td>\n",
              "      <td>146115.0</td>\n",
              "      <td>2.0</td>\n",
              "      <td>Male</td>\n",
              "      <td>2.0</td>\n",
              "      <td>3.0</td>\n",
              "      <td>2.0</td>\n",
              "      <td>1</td>\n",
              "      <td>0</td>\n",
              "      <td>2017</td>\n",
              "      <td>7</td>\n",
              "      <td>2</td>\n",
              "      <td>6</td>\n",
              "      <td>0</td>\n",
              "    </tr>\n",
              "  </tbody>\n",
              "</table>\n",
              "</div>"
            ],
            "text/plain": [
              "   session_id            DateTime  user_id product  ...  Month  Day  Weekday  Hour\n",
              "0      140690 2017-07-02 00:00:00   858557       C  ...      7    2        6     0\n",
              "1      333291 2017-07-02 00:00:00   243253       C  ...      7    2        6     0\n",
              "2      129781 2017-07-02 00:00:00   243253       C  ...      7    2        6     0\n",
              "3      464848 2017-07-02 00:00:00  1097446       I  ...      7    2        6     0\n",
              "4       90569 2017-07-02 00:01:00   663656       C  ...      7    2        6     0\n",
              "\n",
              "[5 rows x 20 columns]"
            ]
          },
          "metadata": {
            "tags": []
          },
          "execution_count": 8
        }
      ]
    },
    {
      "cell_type": "code",
      "metadata": {
        "id": "YRgezFvCRMQl"
      },
      "source": [
        ""
      ],
      "execution_count": 8,
      "outputs": []
    },
    {
      "cell_type": "code",
      "metadata": {
        "colab": {
          "base_uri": "https://localhost:8080/"
        },
        "id": "FHXiQ3mhRdzE",
        "outputId": "c0a40e91-4371-4e5c-d254-84d31b1c912d"
      },
      "source": [
        "df.corr().round(4)[\"is_click\"].sort_values(ascending=False)"
      ],
      "execution_count": 9,
      "outputs": [
        {
          "output_type": "execute_result",
          "data": {
            "text/plain": [
              "is_click                  1.0000\n",
              "webpage_id                0.0417\n",
              "campaign_id               0.0114\n",
              "var_1                     0.0113\n",
              "product_category_2        0.0068\n",
              "user_depth               -0.0008\n",
              "Hour                     -0.0031\n",
              "user_id                  -0.0041\n",
              "Weekday                  -0.0047\n",
              "city_development_index   -0.0047\n",
              "user_group_id            -0.0077\n",
              "age_level                -0.0094\n",
              "session_id               -0.0116\n",
              "product_category_1       -0.0165\n",
              "Day                      -0.0213\n",
              "Year                         NaN\n",
              "Month                        NaN\n",
              "Name: is_click, dtype: float64"
            ]
          },
          "metadata": {
            "tags": []
          },
          "execution_count": 9
        }
      ]
    },
    {
      "cell_type": "code",
      "metadata": {
        "colab": {
          "base_uri": "https://localhost:8080/"
        },
        "id": "a2xKs_-axF9v",
        "outputId": "402fa1db-7a56-480d-b883-90a135ef2a41"
      },
      "source": [
        "df[\"is_click\"].value_counts()/len(df)"
      ],
      "execution_count": 10,
      "outputs": [
        {
          "output_type": "execute_result",
          "data": {
            "text/plain": [
              "0    0.932373\n",
              "1    0.067627\n",
              "Name: is_click, dtype: float64"
            ]
          },
          "metadata": {
            "tags": []
          },
          "execution_count": 10
        }
      ]
    },
    {
      "cell_type": "code",
      "metadata": {
        "colab": {
          "base_uri": "https://localhost:8080/",
          "height": 404
        },
        "id": "tmqJ7pOzxmWk",
        "outputId": "b6c1e719-a55b-4779-86e3-f7cb8850e4f9"
      },
      "source": [
        "df.groupby('Hour').agg({'is_click':'sum'}).plot(figsize=(12,6))\n",
        "plt.ylabel('Number of clicks')\n",
        "plt.title('Number of clicks by hour');"
      ],
      "execution_count": 11,
      "outputs": [
        {
          "output_type": "display_data",
          "data": {
            "image/png": "[encoded data removed]",
            "text/plain": [
              "<Figure size 864x432 with 1 Axes>"
            ]
          },
          "metadata": {
            "tags": [],
            "needs_background": "light"
          }
        }
      ]
    },
    {
      "cell_type": "code",
      "metadata": {
        "colab": {
          "base_uri": "https://localhost:8080/",
          "height": 400
        },
        "id": "KQkXsWYwxzwz",
        "outputId": "268d0fab-aa89-4b05-88a1-9a36e1023ea3"
      },
      "source": [
        "df.groupby('Weekday').agg({'is_click':'sum'}).plot(kind=\"bar\", figsize=(12,6))\n",
        "plt.ylabel('Number of clicks')\n",
        "plt.title('Number of clicks by Weekday');"
      ],
      "execution_count": 12,
      "outputs": [
        {
          "output_type": "display_data",
          "data": {
            "image/png": "[encoded data removed]",
            "text/plain": [
              "<Figure size 864x432 with 1 Axes>"
            ]
          },
          "metadata": {
            "tags": [],
            "needs_background": "light"
          }
        }
      ]
    },
    {
      "cell_type": "code",
      "metadata": {
        "colab": {
          "base_uri": "https://localhost:8080/",
          "height": 938
        },
        "id": "3tS1fOJIyj5G",
        "outputId": "5fd443fc-9e41-4877-d91d-885e446b5d47"
      },
      "source": [
        "#Features Visualizations\n",
        "fig, ax = plt.subplots(figsize=(12,8))\n",
        "ax1 = sns.countplot(x='Hour', data=df, hue='is_click')\n",
        "plt.title('Ads CTR by Hour');\n",
        "CTR = df.query('is_click == \"1\"')['Hour'].value_counts(sort=False)/df['Hour'].value_counts(sort=False)\n",
        "ax2 = ax1.twinx()\n",
        "ax2.set_ylim([0, 0.5])\n",
        "sns.pointplot(x=CTR.index, y=CTR, color='r', ax=ax2)\n",
        "CTR*100"
      ],
      "execution_count": 13,
      "outputs": [
        {
          "output_type": "execute_result",
          "data": {
            "text/plain": [
              "0     6.849315\n",
              "1     7.460815\n",
              "2     5.273189\n",
              "3     6.223734\n",
              "4     5.700510\n",
              "5     6.702681\n",
              "6     7.282210\n",
              "7     7.397823\n",
              "8     7.027111\n",
              "9     7.010128\n",
              "10    6.777607\n",
              "11    6.954296\n",
              "12    6.858513\n",
              "13    6.641993\n",
              "14    6.530361\n",
              "15    6.392927\n",
              "16    6.722104\n",
              "17    6.634720\n",
              "18    6.622956\n",
              "19    6.669113\n",
              "20    6.635217\n",
              "21    6.952918\n",
              "22    6.651026\n",
              "23    6.373626\n",
              "Name: Hour, dtype: float64"
            ]
          },
          "metadata": {
            "tags": []
          },
          "execution_count": 13
        },
        {
          "output_type": "display_data",
          "data": {
            "image/png": "[encoded data removed]",
            "text/plain": [
              "<Figure size 864x576 with 2 Axes>"
            ]
          },
          "metadata": {
            "tags": [],
            "needs_background": "light"
          }
        }
      ]
    },
    {
      "cell_type": "code",
      "metadata": {
        "colab": {
          "base_uri": "https://localhost:8080/",
          "height": 632
        },
        "id": "1FCMApCGyyGO",
        "outputId": "059b0d0f-d533-48f9-9efb-b40e9d0baa1a"
      },
      "source": [
        "#Features Visualizations\n",
        "fig, ax = plt.subplots(figsize=(12,8))\n",
        "ax1 = sns.countplot(x='Weekday', data=df, hue='is_click')\n",
        "plt.title('Ads CTR by Weekday');\n",
        "CTR = df.query('is_click == \"1\"')['Weekday'].value_counts(sort=False)/df['Weekday'].value_counts(sort=False)\n",
        "ax2 = ax1.twinx()\n",
        "ax2.set_ylim([0, 0.5])\n",
        "sns.pointplot(x=CTR.index, y=CTR, color='r', ax=ax2)\n",
        "CTR*100"
      ],
      "execution_count": 14,
      "outputs": [
        {
          "output_type": "execute_result",
          "data": {
            "text/plain": [
              "0    7.493242\n",
              "1    7.288773\n",
              "2    6.068896\n",
              "3    6.205660\n",
              "4    6.158173\n",
              "6    7.326207\n",
              "Name: Weekday, dtype: float64"
            ]
          },
          "metadata": {
            "tags": []
          },
          "execution_count": 14
        },
        {
          "output_type": "display_data",
          "data": {
            "image/png": "[encoded data removed]",
            "text/plain": [
              "<Figure size 864x576 with 2 Axes>"
            ]
          },
          "metadata": {
            "tags": [],
            "needs_background": "light"
          }
        }
      ]
    },
    {
      "cell_type": "code",
      "metadata": {
        "colab": {
          "base_uri": "https://localhost:8080/",
          "height": 700
        },
        "id": "uE6pBjpyVEip",
        "outputId": "680b150c-5bdc-4b8e-e04c-f96675807837"
      },
      "source": [
        "#Features Visualizations\n",
        "fig, ax = plt.subplots(figsize=(12,8))\n",
        "ax1 = sns.countplot(x='product', data=df, hue='is_click')\n",
        "plt.title('Ads CTR by Products');\n",
        "CTR = df.query('is_click == \"1\"')['product'].value_counts(sort=False)/df['product'].value_counts(sort=False)\n",
        "ax2 = ax1.twinx()\n",
        "ax2.set_ylim([0, 0.5])\n",
        "sns.pointplot(x=CTR.index, y=CTR, color='r', ax=ax2)\n",
        "CTR*100"
      ],
      "execution_count": 15,
      "outputs": [
        {
          "output_type": "execute_result",
          "data": {
            "text/plain": [
              "A    6.191930\n",
              "B    5.507362\n",
              "C    6.914942\n",
              "D    7.181473\n",
              "E    6.871154\n",
              "F    4.909376\n",
              "G    4.620778\n",
              "H    6.985234\n",
              "I    6.402348\n",
              "J    9.269953\n",
              "Name: product, dtype: float64"
            ]
          },
          "metadata": {
            "tags": []
          },
          "execution_count": 15
        },
        {
          "output_type": "display_data",
          "data": {
            "image/png": "[encoded data removed]",
            "text/plain": [
              "<Figure size 864x576 with 2 Axes>"
            ]
          },
          "metadata": {
            "tags": [],
            "needs_background": "light"
          }
        }
      ]
    },
    {
      "cell_type": "code",
      "metadata": {
        "colab": {
          "base_uri": "https://localhost:8080/",
          "height": 684
        },
        "id": "9JoLsJ82YpqO",
        "outputId": "e84bc0a5-0620-4463-d01a-5b97c8a0ec86"
      },
      "source": [
        "#Features Visualizations\n",
        "fig, ax = plt.subplots(figsize=(12,8))\n",
        "ax1 = sns.countplot(x='webpage_id', data=df, hue='is_click')\n",
        "plt.title('Ads CTR by webpage_id');\n",
        "CTR = df.query('is_click == \"1\"')['webpage_id'].value_counts(sort=False)/df['webpage_id'].value_counts(sort=False)\n",
        "ax2 = ax1.twinx()\n",
        "ax2.set_ylim([0, 0.5])\n",
        "\n",
        "sns.pointplot(x=CTR.index, y=CTR, color='r', ax=ax2)\n",
        "\n",
        "CTR*100"
      ],
      "execution_count": 16,
      "outputs": [
        {
          "output_type": "execute_result",
          "data": {
            "text/plain": [
              "1734     6.377249\n",
              "6970     7.682875\n",
              "11085    6.834491\n",
              "13787    5.427291\n",
              "28529    5.336185\n",
              "45962    5.833390\n",
              "51181    7.262435\n",
              "53587    7.753417\n",
              "60305    9.130693\n",
              "Name: webpage_id, dtype: float64"
            ]
          },
          "metadata": {
            "tags": []
          },
          "execution_count": 16
        },
        {
          "output_type": "display_data",
          "data": {
            "image/png": "[encoded data removed]",
            "text/plain": [
              "<Figure size 864x576 with 2 Axes>"
            ]
          },
          "metadata": {
            "tags": [],
            "needs_background": "light"
          }
        }
      ]
    },
    {
      "cell_type": "code",
      "metadata": {
        "colab": {
          "base_uri": "https://localhost:8080/",
          "height": 701
        },
        "id": "Zw1LcxsfaCte",
        "outputId": "de331cca-e9ab-4b68-eb72-9ac4a48f08d8"
      },
      "source": [
        "#Features Visualizations\n",
        "fig, ax = plt.subplots(figsize=(12,8))\n",
        "ax1 = sns.countplot(x='campaign_id', data=df, hue='is_click')\n",
        "plt.title('Ads CTR by campaign_id');\n",
        "CTR = df.query('is_click == \"1\"')['campaign_id'].value_counts(sort=False)/df['campaign_id'].value_counts(sort=False)\n",
        "ax2 = ax1.twinx()\n",
        "ax2.set_ylim([0, 0.5])\n",
        "\n",
        "sns.pointplot(x=CTR.index, y=CTR, color='r', ax=ax2)\n",
        "CTR*100"
      ],
      "execution_count": 17,
      "outputs": [
        {
          "output_type": "execute_result",
          "data": {
            "text/plain": [
              "82320     6.377249\n",
              "98970     7.682875\n",
              "105960    6.834491\n",
              "118601    5.336185\n",
              "359520    5.861957\n",
              "360936    4.521277\n",
              "396664    7.262435\n",
              "404347    7.753417\n",
              "405490    9.130693\n",
              "414149    5.833390\n",
              "Name: campaign_id, dtype: float64"
            ]
          },
          "metadata": {
            "tags": []
          },
          "execution_count": 17
        },
        {
          "output_type": "display_data",
          "data": {
            "image/png": "[encoded data removed]",
            "text/plain": [
              "<Figure size 864x576 with 2 Axes>"
            ]
          },
          "metadata": {
            "tags": [],
            "needs_background": "light"
          }
        }
      ]
    },
    {
      "cell_type": "code",
      "metadata": {
        "colab": {
          "base_uri": "https://localhost:8080/",
          "height": 650
        },
        "id": "0AT-ElaxaWpi",
        "outputId": "9125e85e-50f3-43fa-c6bf-f6df5c1ec17d"
      },
      "source": [
        "#Features Visualizations\n",
        "fig, ax = plt.subplots(figsize=(12,8))\n",
        "ax1 = sns.countplot(x='age_level', data=df, hue='is_click')\n",
        "plt.title('Ads CTR by age_level');\n",
        "CTR = df.query('is_click == \"1\"')['age_level'].value_counts(sort=False)/df['age_level'].value_counts(sort=False)\n",
        "ax2 = ax1.twinx()\n",
        "ax2.set_ylim([0, 0.5])\n",
        "\n",
        "sns.pointplot(x=CTR.index, y=CTR, color='r', ax=ax2)\n",
        "CTR*100"
      ],
      "execution_count": 18,
      "outputs": [
        {
          "output_type": "execute_result",
          "data": {
            "text/plain": [
              "0.0    8.496732\n",
              "1.0    7.480342\n",
              "2.0    7.091937\n",
              "3.0    6.505838\n",
              "4.0    5.872312\n",
              "5.0    7.415337\n",
              "6.0    8.227619\n",
              "Name: age_level, dtype: float64"
            ]
          },
          "metadata": {
            "tags": []
          },
          "execution_count": 18
        },
        {
          "output_type": "display_data",
          "data": {
            "image/png": "[encoded data removed]",
            "text/plain": [
              "<Figure size 864x576 with 2 Axes>"
            ]
          },
          "metadata": {
            "tags": [],
            "needs_background": "light"
          }
        }
      ]
    },
    {
      "cell_type": "code",
      "metadata": {
        "colab": {
          "base_uri": "https://localhost:8080/",
          "height": 581
        },
        "id": "W7653cyTa4An",
        "outputId": "cd0a990c-b3ab-4c71-d0e0-dd628199fa04"
      },
      "source": [
        "#Features Visualizations\n",
        "fig, ax = plt.subplots(figsize=(12,8))\n",
        "ax1 = sns.countplot(x='gender', data=df, hue='is_click')\n",
        "plt.title('Ads CTR by gender');\n",
        "CTR = df.query('is_click == \"1\"')['gender'].value_counts(sort=False)/df['gender'].value_counts(sort=False)\n",
        "ax2 = ax1.twinx()\n",
        "ax2.set_ylim([0, 0.5])\n",
        "\n",
        "sns.pointplot(x=CTR.index, y=CTR, color='r', ax=ax2)\n",
        "CTR*100"
      ],
      "execution_count": 19,
      "outputs": [
        {
          "output_type": "execute_result",
          "data": {
            "text/plain": [
              "Female    6.444548\n",
              "Male      6.794187\n",
              "Others    6.983501\n",
              "Name: gender, dtype: float64"
            ]
          },
          "metadata": {
            "tags": []
          },
          "execution_count": 19
        },
        {
          "output_type": "display_data",
          "data": {
            "image/png": "[encoded data removed]",
            "text/plain": [
              "<Figure size 864x576 with 2 Axes>"
            ]
          },
          "metadata": {
            "tags": [],
            "needs_background": "light"
          }
        }
      ]
    },
    {
      "cell_type": "code",
      "metadata": {
        "id": "IlxOH-Ka4BW9"
      },
      "source": [
        ""
      ],
      "execution_count": 19,
      "outputs": []
    },
    {
      "cell_type": "code",
      "metadata": {
        "colab": {
          "base_uri": "https://localhost:8080/"
        },
        "id": "ie73LxSy4Ccb",
        "outputId": "40b31256-64e2-4e93-9c6f-c276fd317514"
      },
      "source": [
        "df.info()"
      ],
      "execution_count": 20,
      "outputs": [
        {
          "output_type": "stream",
          "text": [
            "<class 'pandas.core.frame.DataFrame'>\n",
            "RangeIndex: 463291 entries, 0 to 463290\n",
            "Data columns (total 20 columns):\n",
            " #   Column                  Non-Null Count   Dtype         \n",
            "---  ------                  --------------   -----         \n",
            " 0   session_id              463291 non-null  int64         \n",
            " 1   DateTime                463291 non-null  datetime64[ns]\n",
            " 2   user_id                 463291 non-null  int64         \n",
            " 3   product                 463291 non-null  object        \n",
            " 4   campaign_id             463291 non-null  int64         \n",
            " 5   webpage_id              463291 non-null  int64         \n",
            " 6   product_category_1      463291 non-null  int64         \n",
            " 7   product_category_2      463291 non-null  float64       \n",
            " 8   user_group_id           463291 non-null  float64       \n",
            " 9   gender                  463291 non-null  object        \n",
            " 10  age_level               463291 non-null  float64       \n",
            " 11  user_depth              463291 non-null  float64       \n",
            " 12  city_development_index  463291 non-null  float64       \n",
            " 13  var_1                   463291 non-null  int64         \n",
            " 14  is_click                463291 non-null  int64         \n",
            " 15  Year                    463291 non-null  int64         \n",
            " 16  Month                   463291 non-null  int64         \n",
            " 17  Day                     463291 non-null  int64         \n",
            " 18  Weekday                 463291 non-null  int64         \n",
            " 19  Hour                    463291 non-null  int64         \n",
            "dtypes: datetime64[ns](1), float64(5), int64(12), object(2)\n",
            "memory usage: 70.7+ MB\n"
          ],
          "name": "stdout"
        }
      ]
    },
    {
      "cell_type": "code",
      "metadata": {
        "colab": {
          "base_uri": "https://localhost:8080/",
          "height": 394
        },
        "id": "L1M_aJ6Rccy0",
        "outputId": "fd84c20a-53f4-42a1-d333-7d1a73a222c1"
      },
      "source": [
        "# from sklearn.preprocessing import LabelEncoder\n",
        "from sklearn import preprocessing\n",
        "le = preprocessing.LabelEncoder()\n",
        "encoded_data = df[['product', 'gender']].apply(le.fit_transform)\n",
        "\n",
        "#Extract only the columns that didnt need to be encoded\n",
        "df_other_cols=df.drop(['product', 'gender'],axis=1)\n",
        "\n",
        "#Concatenate the two dataframes : \n",
        "df = pd.concat([encoded_data, df_other_cols], axis=1)\n",
        "df.head()\n"
      ],
      "execution_count": 21,
      "outputs": [
        {
          "output_type": "execute_result",
          "data": {
            "text/html": [
              "<div>\n",
              "<style scoped>\n",
              "    .dataframe tbody tr th:only-of-type {\n",
              "        vertical-align: middle;\n",
              "    }\n",
              "\n",
              "    .dataframe tbody tr th {\n",
              "        vertical-align: top;\n",
              "    }\n",
              "\n",
              "    .dataframe thead th {\n",
              "        text-align: right;\n",
              "    }\n",
              "</style>\n",
              "<table border=\"1\" class=\"dataframe\">\n",
              "  <thead>\n",
              "    <tr style=\"text-align: right;\">\n",
              "      <th></th>\n",
              "      <th>product</th>\n",
              "      <th>gender</th>\n",
              "      <th>session_id</th>\n",
              "      <th>DateTime</th>\n",
              "      <th>user_id</th>\n",
              "      <th>campaign_id</th>\n",
              "      <th>webpage_id</th>\n",
              "      <th>product_category_1</th>\n",
              "      <th>product_category_2</th>\n",
              "      <th>user_group_id</th>\n",
              "      <th>age_level</th>\n",
              "      <th>user_depth</th>\n",
              "      <th>city_development_index</th>\n",
              "      <th>var_1</th>\n",
              "      <th>is_click</th>\n",
              "      <th>Year</th>\n",
              "      <th>Month</th>\n",
              "      <th>Day</th>\n",
              "      <th>Weekday</th>\n",
              "      <th>Hour</th>\n",
              "    </tr>\n",
              "  </thead>\n",
              "  <tbody>\n",
              "    <tr>\n",
              "      <th>0</th>\n",
              "      <td>2</td>\n",
              "      <td>0</td>\n",
              "      <td>140690</td>\n",
              "      <td>2017-07-02 00:00:00</td>\n",
              "      <td>858557</td>\n",
              "      <td>359520</td>\n",
              "      <td>13787</td>\n",
              "      <td>4</td>\n",
              "      <td>146115.0</td>\n",
              "      <td>10.0</td>\n",
              "      <td>4.0</td>\n",
              "      <td>3.0</td>\n",
              "      <td>3.0</td>\n",
              "      <td>0</td>\n",
              "      <td>0</td>\n",
              "      <td>2017</td>\n",
              "      <td>7</td>\n",
              "      <td>2</td>\n",
              "      <td>6</td>\n",
              "      <td>0</td>\n",
              "    </tr>\n",
              "    <tr>\n",
              "      <th>1</th>\n",
              "      <td>2</td>\n",
              "      <td>0</td>\n",
              "      <td>333291</td>\n",
              "      <td>2017-07-02 00:00:00</td>\n",
              "      <td>243253</td>\n",
              "      <td>105960</td>\n",
              "      <td>11085</td>\n",
              "      <td>5</td>\n",
              "      <td>146115.0</td>\n",
              "      <td>8.0</td>\n",
              "      <td>2.0</td>\n",
              "      <td>2.0</td>\n",
              "      <td>2.0</td>\n",
              "      <td>0</td>\n",
              "      <td>0</td>\n",
              "      <td>2017</td>\n",
              "      <td>7</td>\n",
              "      <td>2</td>\n",
              "      <td>6</td>\n",
              "      <td>0</td>\n",
              "    </tr>\n",
              "    <tr>\n",
              "      <th>2</th>\n",
              "      <td>2</td>\n",
              "      <td>0</td>\n",
              "      <td>129781</td>\n",
              "      <td>2017-07-02 00:00:00</td>\n",
              "      <td>243253</td>\n",
              "      <td>359520</td>\n",
              "      <td>13787</td>\n",
              "      <td>4</td>\n",
              "      <td>146115.0</td>\n",
              "      <td>8.0</td>\n",
              "      <td>2.0</td>\n",
              "      <td>2.0</td>\n",
              "      <td>2.0</td>\n",
              "      <td>0</td>\n",
              "      <td>0</td>\n",
              "      <td>2017</td>\n",
              "      <td>7</td>\n",
              "      <td>2</td>\n",
              "      <td>6</td>\n",
              "      <td>0</td>\n",
              "    </tr>\n",
              "    <tr>\n",
              "      <th>3</th>\n",
              "      <td>8</td>\n",
              "      <td>1</td>\n",
              "      <td>464848</td>\n",
              "      <td>2017-07-02 00:00:00</td>\n",
              "      <td>1097446</td>\n",
              "      <td>359520</td>\n",
              "      <td>13787</td>\n",
              "      <td>3</td>\n",
              "      <td>146115.0</td>\n",
              "      <td>3.0</td>\n",
              "      <td>3.0</td>\n",
              "      <td>3.0</td>\n",
              "      <td>2.0</td>\n",
              "      <td>1</td>\n",
              "      <td>0</td>\n",
              "      <td>2017</td>\n",
              "      <td>7</td>\n",
              "      <td>2</td>\n",
              "      <td>6</td>\n",
              "      <td>0</td>\n",
              "    </tr>\n",
              "    <tr>\n",
              "      <th>4</th>\n",
              "      <td>2</td>\n",
              "      <td>1</td>\n",
              "      <td>90569</td>\n",
              "      <td>2017-07-02 00:01:00</td>\n",
              "      <td>663656</td>\n",
              "      <td>405490</td>\n",
              "      <td>60305</td>\n",
              "      <td>3</td>\n",
              "      <td>146115.0</td>\n",
              "      <td>2.0</td>\n",
              "      <td>2.0</td>\n",
              "      <td>3.0</td>\n",
              "      <td>2.0</td>\n",
              "      <td>1</td>\n",
              "      <td>0</td>\n",
              "      <td>2017</td>\n",
              "      <td>7</td>\n",
              "      <td>2</td>\n",
              "      <td>6</td>\n",
              "      <td>0</td>\n",
              "    </tr>\n",
              "  </tbody>\n",
              "</table>\n",
              "</div>"
            ],
            "text/plain": [
              "   product  gender  session_id            DateTime  ...  Month  Day  Weekday  Hour\n",
              "0        2       0      140690 2017-07-02 00:00:00  ...      7    2        6     0\n",
              "1        2       0      333291 2017-07-02 00:00:00  ...      7    2        6     0\n",
              "2        2       0      129781 2017-07-02 00:00:00  ...      7    2        6     0\n",
              "3        8       1      464848 2017-07-02 00:00:00  ...      7    2        6     0\n",
              "4        2       1       90569 2017-07-02 00:01:00  ...      7    2        6     0\n",
              "\n",
              "[5 rows x 20 columns]"
            ]
          },
          "metadata": {
            "tags": []
          },
          "execution_count": 21
        }
      ]
    },
    {
      "cell_type": "code",
      "metadata": {
        "colab": {
          "base_uri": "https://localhost:8080/"
        },
        "id": "uB-zKyf4jNuj",
        "outputId": "70ad7eab-6e90-4c31-9adf-effa77be822e"
      },
      "source": [
        "X = df.drop([\"is_click\",\"DateTime\"],axis=1)\n",
        "Y = df['is_click']\n",
        "\n",
        "# #create a train and test set\n",
        "X_train, X_test, y_train, y_test = train_test_split(X,Y, test_size=0.2, random_state=42)\n",
        "\n",
        "from sklearn.ensemble import RandomForestClassifier\n",
        "model = RandomForestClassifier(n_estimators=100, random_state=0)\n",
        "model.fit(X_train, y_train)\n",
        "preds = model.predict(X_test)\n",
        "accuracy = accuracy_score(y_test, preds)\n",
        "print(\"Accuracy: %.2f%%\" % (accuracy * 100.0))"
      ],
      "execution_count": 22,
      "outputs": [
        {
          "output_type": "stream",
          "text": [
            "Accuracy: 93.16%\n"
          ],
          "name": "stdout"
        }
      ]
    },
    {
      "cell_type": "code",
      "metadata": {
        "colab": {
          "base_uri": "https://localhost:8080/"
        },
        "id": "_BDTFRCkPYu4",
        "outputId": "26de0e6e-0fb1-4fc5-edca-6163646ffb64"
      },
      "source": [
        "from sklearn.linear_model import LogisticRegression\n",
        "model = LogisticRegression()\n",
        "model.fit(X_train, y_train)\n",
        "preds = model.predict(X_test)\n",
        "accuracy = accuracy_score(y_test, preds)\n",
        "print(\"Accuracy: %.2f%%\" % (accuracy * 100.0))\n",
        "print(confusion_matrix(y_test, preds))\n",
        "print(classification_report(y_test, preds))\n"
      ],
      "execution_count": 23,
      "outputs": [
        {
          "output_type": "stream",
          "text": [
            "Accuracy: 93.23%\n",
            "[[86389     0]\n",
            " [ 6270     0]]\n",
            "              precision    recall  f1-score   support\n",
            "\n",
            "           0       0.93      1.00      0.96     86389\n",
            "           1       0.00      0.00      0.00      6270\n",
            "\n",
            "    accuracy                           0.93     92659\n",
            "   macro avg       0.47      0.50      0.48     92659\n",
            "weighted avg       0.87      0.93      0.90     92659\n",
            "\n"
          ],
          "name": "stdout"
        },
        {
          "output_type": "stream",
          "text": [
            "/usr/local/lib/python3.6/dist-packages/sklearn/metrics/_classification.py:1272: UndefinedMetricWarning: Precision and F-score are ill-defined and being set to 0.0 in labels with no predicted samples. Use `zero_division` parameter to control this behavior.\n",
            "  _warn_prf(average, modifier, msg_start, len(result))\n"
          ],
          "name": "stderr"
        }
      ]
    },
    {
      "cell_type": "code",
      "metadata": {
        "colab": {
          "base_uri": "https://localhost:8080/"
        },
        "id": "7F831p6gic7I",
        "outputId": "4e7c7a56-3b4e-4312-bd1e-0b66b340e9ea"
      },
      "source": [
        "\n",
        "from sklearn.ensemble import RandomForestClassifier\n",
        "from sklearn.metrics import classification_report\n",
        "from sklearn.linear_model import LogisticRegression\n",
        "from sklearn.tree import DecisionTreeClassifier\n",
        "from sklearn.neighbors import KNeighborsClassifier\n",
        "from sklearn.discriminant_analysis import LinearDiscriminantAnalysis\n",
        "from xgboost import XGBClassifier \n",
        "from sklearn.naive_bayes import GaussianNB\n",
        "from sklearn.svm import SVC\n",
        "\n",
        "\n",
        "# Spot Check Algorithms\n",
        "models = []\n",
        "models.append(('Linear', LogisticRegression()))\n",
        "models.append(('LDA', LinearDiscriminantAnalysis()))\n",
        "models.append(('DecisionTree', DecisionTreeClassifier(criterion='gini',min_samples_split=30,)))\n",
        "models.append(('KNN', KNeighborsClassifier()))\n",
        "models.append(('RandomForest', RandomForestClassifier(n_estimators=100)))\n",
        "# models.append(('XGB', XGBClassifier()))\n",
        "# models.append(('NB', GaussianNB()))\n",
        "# models.append(('SVM', SVC(gamma='auto')))\n",
        "\n",
        "# evaluate each model in turn\n",
        "results = []\n",
        "names = []\n",
        "for name, model in models:\n",
        "  # define the data preparation and modeling pipeline\n",
        "  cv = KFold(n_splits=10, shuffle=True, random_state=1)\n",
        "  cv_results = cross_val_score(model,X_train, y_train, cv=cv, scoring='accuracy')\n",
        "  cv_results = absolute(cv_results)\n",
        "  results.append(cv_results)\n",
        "  names.append(name)\n",
        "  print('%s: %f (%f)' % (name, cv_results.mean(), cv_results.std()))\n",
        "\n"
      ],
      "execution_count": 24,
      "outputs": [
        {
          "output_type": "stream",
          "text": [
            "Linear: 0.932383 (0.000996)\n",
            "LDA: 0.932383 (0.000996)\n",
            "DecisionTree: 0.915833 (0.001425)\n",
            "KNN: 0.929345 (0.000729)\n",
            "RandomForest: 0.931382 (0.001017)\n"
          ],
          "name": "stdout"
        }
      ]
    },
    {
      "cell_type": "code",
      "metadata": {
        "id": "dE3R8S7SIEQH"
      },
      "source": [
        "# Compare Algorithms\n",
        "plt.boxplot(results, labels=names)\n",
        "plt.title('Algorithm Comparison')\n",
        "plt.show()"
      ],
      "execution_count": 25,
      "outputs": []
    },
    {
      "cell_type": "markdown",
      "metadata": {
        "id": "CrthMED8W5q3"
      },
      "source": [
        "## Chi-Square Test"
      ]
    },
    {
      "cell_type": "code",
      "metadata": {
        "colab": {
          "base_uri": "https://localhost:8080/"
        },
        "id": "15htiPWhwl2B",
        "outputId": "6ab065a9-3d30-47ea-fa6a-d0dccf663969"
      },
      "source": [
        "from sklearn.feature_selection import SelectKBest\n",
        "from sklearn.feature_selection import chi2\n",
        "\n",
        "# Feature extraction\n",
        "test = SelectKBest(score_func=chi2, k=4)\n",
        "fit = test.fit(X, Y)\n",
        "\n",
        "# Summarize scores\n",
        "np.set_printoptions(precision=3)\n",
        "print(fit.scores_)\n",
        "\n",
        "features = fit.transform(X)\n",
        "# Summarize selected features\n",
        "print(features[0:5,:])"
      ],
      "execution_count": 26,
      "outputs": [
        {
          "output_type": "stream",
          "text": [
            "[8.256e+00 1.542e+00 6.202e+06 1.540e+06 3.150e+06 1.260e+07 7.010e+01\n",
            " 1.955e+05 4.471e+01 1.616e+01 1.682e-02 2.954e+00 3.416e+01 8.784e-25\n",
            " 3.862e-27 1.359e+02 1.529e+01 9.843e+00]\n",
            "[[ 140690.  858557.  359520.   13787.]\n",
            " [ 333291.  243253.  105960.   11085.]\n",
            " [ 129781.  243253.  359520.   13787.]\n",
            " [ 464848. 1097446.  359520.   13787.]\n",
            " [  90569.  663656.  405490.   60305.]]\n"
          ],
          "name": "stdout"
        }
      ]
    },
    {
      "cell_type": "code",
      "metadata": {
        "colab": {
          "base_uri": "https://localhost:8080/"
        },
        "id": "B5dm72JdJE4J",
        "outputId": "2799e376-83f2-40f4-cc77-6513fde8e019"
      },
      "source": [
        "# Feature Extraction with RFE\n",
        "\n",
        "from sklearn.feature_selection import RFE\n",
        "from sklearn.linear_model import LogisticRegression\n",
        "# feature extraction\n",
        "model = LogisticRegression(solver='lbfgs')\n",
        "rfe = RFE(model, 3)\n",
        "fit = rfe.fit(X, Y)\n",
        "print(\"Num Features: %d\" % fit.n_features_)\n",
        "print(\"Selected Features: %s\" % fit.support_)\n",
        "print(\"Feature Ranking: %s\" % fit.ranking_)"
      ],
      "execution_count": 27,
      "outputs": [
        {
          "output_type": "stream",
          "text": [
            "Num Features: 3\n",
            "Selected Features: [False False False False False  True False False False False False False\n",
            " False  True False False False  True]\n",
            "Feature Ranking: [ 4 13 15 16 12  1  6 11  5  7  8 10 14  1  2  3  9  1]\n"
          ],
          "name": "stdout"
        }
      ]
    }
  ]
}